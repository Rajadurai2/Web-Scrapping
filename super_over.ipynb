{
 "cells": [
  {
   "cell_type": "code",
   "execution_count": 36,
   "metadata": {},
   "outputs": [
    {
     "data": {
      "text/html": [
       "<div>\n",
       "<style scoped>\n",
       "    .dataframe tbody tr th:only-of-type {\n",
       "        vertical-align: middle;\n",
       "    }\n",
       "\n",
       "    .dataframe tbody tr th {\n",
       "        vertical-align: top;\n",
       "    }\n",
       "\n",
       "    .dataframe thead th {\n",
       "        text-align: right;\n",
       "    }\n",
       "</style>\n",
       "<table border=\"1\" class=\"dataframe\">\n",
       "  <thead>\n",
       "    <tr style=\"text-align: right;\">\n",
       "      <th></th>\n",
       "      <th>winner</th>\n",
       "      <th>date</th>\n",
       "      <th>team_a</th>\n",
       "      <th>team_b</th>\n",
       "    </tr>\n",
       "  </thead>\n",
       "  <tbody>\n",
       "    <tr>\n",
       "      <th>128</th>\n",
       "      <td>Match tied (Delhi Capitals won the Super Over)</td>\n",
       "      <td>Mar 30,2019</td>\n",
       "      <td>Delhi Capitals</td>\n",
       "      <td>Kolkata Knight Riders</td>\n",
       "    </tr>\n",
       "    <tr>\n",
       "      <th>169</th>\n",
       "      <td>Match tied (Mumbai Indians won the Super Over)</td>\n",
       "      <td>May 02,2019</td>\n",
       "      <td>Mumbai Indians</td>\n",
       "      <td>Sunrisers Hyderabad</td>\n",
       "    </tr>\n",
       "    <tr>\n",
       "      <th>180</th>\n",
       "      <td>Match tied (Delhi Capitals won the Super Over)</td>\n",
       "      <td>Sep 20,2020</td>\n",
       "      <td>Delhi Capitals</td>\n",
       "      <td>Kings XI Punjab</td>\n",
       "    </tr>\n",
       "    <tr>\n",
       "      <th>188</th>\n",
       "      <td>Match tied (Royal Challengers Bangalore won th...</td>\n",
       "      <td>Sep 28,2020</td>\n",
       "      <td>Royal Challengers Bangalore</td>\n",
       "      <td>Mumbai Indians</td>\n",
       "    </tr>\n",
       "    <tr>\n",
       "      <th>213</th>\n",
       "      <td>Match tied (Kolkata Knight Riders won the Supe...</td>\n",
       "      <td>Oct 18,2020</td>\n",
       "      <td>Sunrisers Hyderabad</td>\n",
       "      <td>Kolkata Knight Riders</td>\n",
       "    </tr>\n",
       "    <tr>\n",
       "      <th>214</th>\n",
       "      <td>Match tied and Super Over tied - (Kings XI Pun...</td>\n",
       "      <td>Oct 18,2020</td>\n",
       "      <td>Mumbai Indians</td>\n",
       "      <td>Kings XI Punjab</td>\n",
       "    </tr>\n",
       "    <tr>\n",
       "      <th>258</th>\n",
       "      <td>Match tied (Delhi Capitals won the Super Over)</td>\n",
       "      <td>Apr 25,2021</td>\n",
       "      <td>Sunrisers Hyderabad</td>\n",
       "      <td>Delhi Capitals</td>\n",
       "    </tr>\n",
       "  </tbody>\n",
       "</table>\n",
       "</div>"
      ],
      "text/plain": [
       "                                                winner         date  \\\n",
       "128     Match tied (Delhi Capitals won the Super Over)  Mar 30,2019   \n",
       "169     Match tied (Mumbai Indians won the Super Over)  May 02,2019   \n",
       "180     Match tied (Delhi Capitals won the Super Over)  Sep 20,2020   \n",
       "188  Match tied (Royal Challengers Bangalore won th...  Sep 28,2020   \n",
       "213  Match tied (Kolkata Knight Riders won the Supe...  Oct 18,2020   \n",
       "214  Match tied and Super Over tied - (Kings XI Pun...  Oct 18,2020   \n",
       "258     Match tied (Delhi Capitals won the Super Over)  Apr 25,2021   \n",
       "\n",
       "                          team_a                 team_b  \n",
       "128               Delhi Capitals  Kolkata Knight Riders  \n",
       "169               Mumbai Indians    Sunrisers Hyderabad  \n",
       "180               Delhi Capitals        Kings XI Punjab  \n",
       "188  Royal Challengers Bangalore         Mumbai Indians  \n",
       "213          Sunrisers Hyderabad  Kolkata Knight Riders  \n",
       "214               Mumbai Indians        Kings XI Punjab  \n",
       "258          Sunrisers Hyderabad         Delhi Capitals  "
      ]
     },
     "metadata": {},
     "output_type": "display_data"
    }
   ],
   "source": [
    "import pandas as pd\n",
    "df=pd.read_csv('files/match_data.csv')\n",
    "display(df.loc[df['winner'].str.contains('Over'),['winner','date','team_a','team_b']])"
   ]
  },
  {
   "cell_type": "code",
   "execution_count": null,
   "metadata": {},
   "outputs": [],
   "source": []
  }
 ],
 "metadata": {
  "kernelspec": {
   "display_name": "base",
   "language": "python",
   "name": "python3"
  },
  "language_info": {
   "codemirror_mode": {
    "name": "ipython",
    "version": 3
   },
   "file_extension": ".py",
   "mimetype": "text/x-python",
   "name": "python",
   "nbconvert_exporter": "python",
   "pygments_lexer": "ipython3",
   "version": "3.9.12"
  },
  "orig_nbformat": 4
 },
 "nbformat": 4,
 "nbformat_minor": 2
}
