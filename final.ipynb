{
 "cells": [
  {
   "cell_type": "code",
   "execution_count": 9,
   "metadata": {},
   "outputs": [],
   "source": [
    "import pandas as pd"
   ]
  },
  {
   "cell_type": "code",
   "execution_count": 37,
   "metadata": {},
   "outputs": [],
   "source": [
    "links=[]\n",
    "with open('match_links/2017_season_match_links.txt','r') as f1:\n",
    "    for i in f1:\n",
    "        links.append(i.strip())"
   ]
  },
  {
   "cell_type": "code",
   "execution_count": 38,
   "metadata": {},
   "outputs": [
    {
     "name": "stdout",
     "output_type": "stream",
     "text": [
      "201701\n",
      "201702\n",
      "201703\n",
      "201704\n",
      "201705\n",
      "201706\n",
      "201707\n",
      "201708\n",
      "201709\n",
      "201710\n",
      "201711\n",
      "201712\n",
      "201713\n",
      "201714\n",
      "201715\n",
      "201716\n",
      "201717\n",
      "201718\n",
      "201719\n",
      "201720\n",
      "201721\n",
      "201722\n",
      "201723\n",
      "201724\n",
      "201725\n",
      "201726\n",
      "201727\n",
      "201728\n",
      "rcb-vs-srh-29th-match-indian-premier-league-2017\n",
      "201730\n",
      "201731\n",
      "201732\n",
      "201733\n",
      "201734\n",
      "201735\n",
      "201736\n",
      "201737\n",
      "201738\n",
      "201739\n",
      "201740\n",
      "201741\n",
      "201742\n",
      "201743\n",
      "201744\n",
      "201745\n",
      "201746\n",
      "201747\n",
      "201748\n",
      "201749\n",
      "201750\n",
      "201751\n",
      "201752\n",
      "201753\n",
      "201754\n",
      "201755\n",
      "201756\n",
      "201757\n",
      "201758\n",
      "201759\n",
      "201760\n"
     ]
    }
   ],
   "source": [
    "def random_number(url,n):\n",
    "    iter=n\n",
    "    file_name=url.split('/')[-1]\n",
    "    df=pd.read_csv(f'files/2017/{file_name}.csv')\n",
    "    try:\n",
    "        year=df['season'][0]\n",
    "        random_number=str(year)+str(iter)\n",
    "        df['match_id']=random_number\n",
    "        print(random_number)\n",
    "    except:\n",
    "        print(file_name)\n",
    "    df.to_csv(f'files/2017/{file_name}.csv',index=False)\n",
    "for i,k in enumerate(links[0:],1):\n",
    "    if i <=9:\n",
    "        i=\"0\"+str(i)\n",
    "    random_number(k,i)"
   ]
  },
  {
   "cell_type": "code",
   "execution_count": null,
   "metadata": {},
   "outputs": [],
   "source": []
  }
 ],
 "metadata": {
  "kernelspec": {
   "display_name": "base",
   "language": "python",
   "name": "python3"
  },
  "language_info": {
   "codemirror_mode": {
    "name": "ipython",
    "version": 3
   },
   "file_extension": ".py",
   "mimetype": "text/x-python",
   "name": "python",
   "nbconvert_exporter": "python",
   "pygments_lexer": "ipython3",
   "version": "3.9.12"
  },
  "orig_nbformat": 4
 },
 "nbformat": 4,
 "nbformat_minor": 2
}
