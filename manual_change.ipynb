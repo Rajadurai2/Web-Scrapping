{
 "cells": [
  {
   "cell_type": "code",
   "execution_count": 1,
   "metadata": {},
   "outputs": [],
   "source": [
    "import pandas as pd"
   ]
  },
  {
   "cell_type": "code",
   "execution_count": 13,
   "metadata": {},
   "outputs": [],
   "source": [
    "file=pd.read_csv('files/2022/mi-vs-dc-69th-match-indian-premier-league-2022.csv')\n",
    "file['Toss_winner']='MI'\n",
    "file['toss_chosen']='field'\n",
    "file.to_csv('files/2022/mi-vs-dc-69th-match-indian-premier-league-2022.csv',index=False)"
   ]
  },
  {
   "cell_type": "code",
   "execution_count": 5,
   "metadata": {},
   "outputs": [
    {
     "name": "stdout",
     "output_type": "stream",
     "text": [
      "<class 'pandas.core.frame.DataFrame'>\n",
      "RangeIndex: 250 entries, 0 to 249\n",
      "Data columns (total 19 columns):\n",
      " #   Column               Non-Null Count  Dtype  \n",
      "---  ------               --------------  -----  \n",
      " 0   ball                 250 non-null    float64\n",
      " 1   Commentary Text      250 non-null    object \n",
      " 2   innings              250 non-null    object \n",
      " 3   match_no             250 non-null    object \n",
      " 4   team_a               250 non-null    object \n",
      " 5   team_b               250 non-null    object \n",
      " 6   team_a_11            250 non-null    object \n",
      " 7   team_b_11            250 non-null    object \n",
      " 8   team_a_subs          0 non-null      float64\n",
      " 9   team_b_subs          0 non-null      float64\n",
      " 10  series               250 non-null    object \n",
      " 11  season               250 non-null    int64  \n",
      " 12  venue                250 non-null    object \n",
      " 13  date                 250 non-null    object \n",
      " 14  toss                 250 non-null    object \n",
      " 15  winner               250 non-null    object \n",
      " 16  player_of_the_match  250 non-null    object \n",
      " 17  toss_winner          250 non-null    object \n",
      " 18  toss_choosen         250 non-null    object \n",
      "dtypes: float64(3), int64(1), object(15)\n",
      "memory usage: 37.2+ KB\n"
     ]
    }
   ],
   "source": [
    "file2=pd.read_csv('files/2018/csk-vs-dc-30th-match-indian-premier-league-2018.csv')\n",
    "file2.info()"
   ]
  },
  {
   "cell_type": "code",
   "execution_count": 9,
   "metadata": {},
   "outputs": [
    {
     "name": "stdout",
     "output_type": "stream",
     "text": [
      "<class 'pandas.core.frame.DataFrame'>\n",
      "RangeIndex: 244 entries, 0 to 243\n",
      "Data columns (total 19 columns):\n",
      " #   Column            Non-Null Count  Dtype  \n",
      "---  ------            --------------  -----  \n",
      " 0   ball              244 non-null    float64\n",
      " 1   Commentary Text   244 non-null    object \n",
      " 2   innings           244 non-null    object \n",
      " 3   match_no          244 non-null    object \n",
      " 4   team_a            244 non-null    object \n",
      " 5   team_b            244 non-null    object \n",
      " 6   team_a_11         244 non-null    object \n",
      " 7   team_b_11         244 non-null    object \n",
      " 8   team_a_subs       0 non-null      float64\n",
      " 9   team_b_subs       0 non-null      float64\n",
      " 10  series            244 non-null    object \n",
      " 11  season            244 non-null    int64  \n",
      " 12  venue             244 non-null    object \n",
      " 13  date              244 non-null    object \n",
      " 14  toss              244 non-null    object \n",
      " 15  win               244 non-null    object \n",
      " 16  man_of_the_match  244 non-null    object \n",
      " 17  Toss_winner       244 non-null    object \n",
      " 18  toss_chosen       244 non-null    object \n",
      "dtypes: float64(3), int64(1), object(15)\n",
      "memory usage: 36.3+ KB\n"
     ]
    }
   ],
   "source": [
    "file2=pd.read_csv('files/2022/csk-vs-gt-62nd-match-indian-premier-league-2022.csv')\n",
    "file2.info()"
   ]
  },
  {
   "cell_type": "code",
   "execution_count": null,
   "metadata": {},
   "outputs": [],
   "source": []
  }
 ],
 "metadata": {
  "kernelspec": {
   "display_name": "base",
   "language": "python",
   "name": "python3"
  },
  "language_info": {
   "codemirror_mode": {
    "name": "ipython",
    "version": 3
   },
   "file_extension": ".py",
   "mimetype": "text/x-python",
   "name": "python",
   "nbconvert_exporter": "python",
   "pygments_lexer": "ipython3",
   "version": "3.9.12"
  },
  "orig_nbformat": 4
 },
 "nbformat": 4,
 "nbformat_minor": 2
}
