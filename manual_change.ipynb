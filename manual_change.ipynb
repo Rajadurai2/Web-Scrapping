{
 "cells": [
  {
   "cell_type": "code",
   "execution_count": 21,
   "metadata": {},
   "outputs": [],
   "source": [
    "import pandas as pd\n",
    "import tqdm"
   ]
  },
  {
   "cell_type": "code",
   "execution_count": 24,
   "metadata": {},
   "outputs": [],
   "source": [
    "def change_column_names(url):\n",
    "    file_name=url.split('/')[-1]\n",
    "    df=pd.read_csv(f'files/2022/{file_name}.csv')\n",
    "    df.rename(columns={'Toss_winner': 'toss_winner', 'toss_chosen': 'toss_choosen'}, inplace=True)\n",
    "    df.drop(df.columns[df.columns.str.contains('unnamed',case = False)],axis = 1, inplace = True)\n",
    "    df.to_csv(f'files/2022/{file_name}.csv',index=False)"
   ]
  },
  {
   "cell_type": "code",
   "execution_count": 41,
   "metadata": {},
   "outputs": [],
   "source": [
    "#1\n",
    "def find_innings(url):\n",
    "    file_name=url.split('/')[-1]\n",
    "    df=pd.read_csv(f'files/2022/{file_name}.csv')\n",
    "    try :\n",
    "        toss_winner=df['toss_winner'][0]\n",
    "        if toss_winner=='DD':\n",
    "            toss_winner='DC'\n",
    "        #print(toss_winner)\n",
    "        toss_choose=df['toss_choosen'][0]\n",
    "        #print(toss_choose)\n",
    "        #print(toss_winner,toss_choose)\n",
    "\n",
    "        if toss_choose=='field':\n",
    "            #print('fielding')\n",
    "            \n",
    "            #print(df[df['innings']== f'{toss_winner} Inns'.strip()]['innings'])\n",
    "            df['innings'].mask(df['innings']!=f'{toss_winner} Inns'.strip(),'1st Inns',inplace=True)\n",
    "            df['innings'].mask(df['innings']==f'{toss_winner} Inns'.strip(),'2nd Inns',inplace=True)\n",
    "            \n",
    "            #print(df)\n",
    "        else:\n",
    "            df['innings'].mask(df['innings']!=f'{toss_winner} Inns'.strip(),'2nd Inns',inplace=True)\n",
    "            df['innings'].mask(df['innings']==f'{toss_winner} Inns'.strip(),'1st Inns',inplace=True)\n",
    "            \n",
    "            \n",
    "            \n",
    "        #display(df)\n",
    "        df.to_csv(f'files/2022/{file_name}.csv',index=False)\n",
    "    except:\n",
    "        print(file_name)\n",
    "        \n",
    "\n",
    "#find_innings('https://www.cricbuzz.com/cricket-full-commentary/66442/csk-vs-kkr-61st-match-indian-premier-league-2023')\n"
   ]
  },
  {
   "cell_type": "code",
   "execution_count": 32,
   "metadata": {},
   "outputs": [],
   "source": [
    "def short_name(team):\n",
    "        short_name={'Chennai Super Kings':'CSK',\n",
    "    'Mumbai Indians':'MI',\n",
    "    'Gujarat Titans':'GT',\n",
    "    'Kolkata Knight Riders':'KKR',\n",
    "    'Punjab Kings':'PBKS',\n",
    "    'Sunrisers Hyderabad':'SRH',\n",
    "    'Rajasthan Royals':'RR',\n",
    "    'Lucknow Super Giants':'LSG',\n",
    "    'Delhi Capitals':'DC',\n",
    "    'Delhi Daredevils':'DD',\n",
    "    'Royal Challengers Bangalore':'RCB',\n",
    "    'Kings XI Punjab':'PBKS',\n",
    "    'Rising Pune Supergiant':'RPS',\n",
    "    'Gujarat Lions':'GL'\n",
    "    }\n",
    "        return short_name[team]"
   ]
  },
  {
   "cell_type": "code",
   "execution_count": 39,
   "metadata": {},
   "outputs": [],
   "source": [
    "#2\n",
    "def find_bowling_team(url):\n",
    "    file_name=url.split('/')[-1]\n",
    "    #print(file_name)\n",
    "    df=pd.read_csv(f'files/2022/{file_name}.csv')\n",
    "    try :\n",
    "        toss_winner=df['toss_winner'][0]\n",
    "        toss_choose=df['toss_choosen'][0]\n",
    "        a_team=short_name(df['team_a'][0])\n",
    "        b_team=short_name(df['team_b'][0])\n",
    "        print(a_team,b_team)\n",
    "\n",
    "        teams=[a_team,b_team]\n",
    "        for i in teams:\n",
    "            if i==toss_winner:\n",
    "                teams.remove(i)\n",
    "        opt=teams[0]\n",
    "        print(opt)\n",
    "        if toss_choose=='bat':\n",
    "            df.loc[df['innings']=='1st Inns','batting_team']=toss_winner\n",
    "            df.loc[df['innings']=='1st Inns','bowling_team']=opt\n",
    "            df.loc[df['innings']=='2nd Inns','batting_team']=opt\n",
    "            df.loc[df['innings']=='2nd Inns','bowling_team']=toss_winner\n",
    "        if toss_choose=='field':\n",
    "            df.loc[df['innings']=='1st Inns','batting_team']=opt\n",
    "            df.loc[df['innings']=='1st Inns','bowling_team']=toss_winner\n",
    "            df.loc[df['innings']=='2nd Inns','batting_team']=toss_winner\n",
    "            df.loc[df['innings']=='2nd Inns','bowling_team']=opt\n",
    "            \n",
    "        #display(df)\n",
    "        df.to_csv(f'files/2022/{file_name}.csv',index=False)\n",
    "    except Exception as e:\n",
    "        print(file_name)\n",
    "        print(e)\n",
    "       \n",
    "#find_bowling_team('https://www.cricbuzz.com/cricket-full-commentary/66519/kkr-vs-gt-39th-match-indian-premier-league-2023')"
   ]
  },
  {
   "cell_type": "code",
   "execution_count": 40,
   "metadata": {},
   "outputs": [
    {
     "name": "stdout",
     "output_type": "stream",
     "text": [
      "CSK KKR\n",
      "CSK\n"
     ]
    }
   ],
   "source": [
    "links=[]\n",
    "with open('match_links/2022_season_match_links.txt','r') as file:\n",
    "    for line in file:\n",
    "        links.append(line.strip())\n",
    "# print(links[0])\n",
    "\n",
    "find_bowling_team(links[0])\n",
    "# for i in links:\n",
    "#     find_bowling_team(i)"
   ]
  },
  {
   "cell_type": "code",
   "execution_count": null,
   "metadata": {},
   "outputs": [],
   "source": []
  }
 ],
 "metadata": {
  "kernelspec": {
   "display_name": "base",
   "language": "python",
   "name": "python3"
  },
  "language_info": {
   "codemirror_mode": {
    "name": "ipython",
    "version": 3
   },
   "file_extension": ".py",
   "mimetype": "text/x-python",
   "name": "python",
   "nbconvert_exporter": "python",
   "pygments_lexer": "ipython3",
   "version": "3.9.12"
  },
  "orig_nbformat": 4
 },
 "nbformat": 4,
 "nbformat_minor": 2
}
