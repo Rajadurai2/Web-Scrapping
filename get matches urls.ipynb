{
 "cells": [
  {
   "cell_type": "code",
   "execution_count": 6,
   "id": "ee038869-3dde-4690-938c-cef5d5b09ba4",
   "metadata": {},
   "outputs": [],
   "source": [
    "from selenium import webdriver\n",
    "from bs4 import BeautifulSoup\n",
    "import requests\n",
    "import pandas as pd\n",
    "import re\n",
    "import os\n",
    "import requests\n",
    "import time\n",
    "from collections import defaultdict\n",
    "from selenium.webdriver.common.by import By"
   ]
  },
  {
   "cell_type": "code",
   "execution_count": 2,
   "id": "ae230109-966b-4f0f-85df-668ed5e79e2e",
   "metadata": {},
   "outputs": [],
   "source": [
    "cricbuzz_url='https://www.cricbuzz.com/cricket-series/5945/indian-premier-league-2023/matches'"
   ]
  },
  {
   "cell_type": "code",
   "execution_count": 3,
   "id": "2936793f-61d4-4e97-876c-847fa2b4df7e",
   "metadata": {},
   "outputs": [],
   "source": [
    "chrome_options = webdriver.ChromeOptions()\n",
    "chrome_options.add_argument('--headless')\n",
    "chrome_options.add_argument('--no-sandbox')\n",
    "chrome_options.add_argument('--disable-dev-shm-usage')"
   ]
  },
  {
   "cell_type": "code",
   "execution_count": 4,
   "id": "fe75c721-b105-4269-b439-73548e14cce0",
   "metadata": {},
   "outputs": [],
   "source": [
    "driver = webdriver.Chrome('chromedriver',options=chrome_options)"
   ]
  },
  {
   "cell_type": "code",
   "execution_count": 30,
   "id": "becbcdd8-53fe-464f-a768-cde0d9b7f8b5",
   "metadata": {},
   "outputs": [],
   "source": [
    "driver.get(cricbuzz_url)\n"
   ]
  },
  {
   "cell_type": "code",
   "execution_count": 31,
   "id": "8e916c42-3b95-4215-af9f-00f388a01c39",
   "metadata": {},
   "outputs": [],
   "source": [
    "cricbuzz_soup= BeautifulSoup(driver.page_source, 'html.parser')"
   ]
  },
  {
   "cell_type": "code",
   "execution_count": 32,
   "id": "55939ed7",
   "metadata": {},
   "outputs": [],
   "source": [
    "a=requests.get(cricbuzz_url)\n"
   ]
  },
  {
   "cell_type": "code",
   "execution_count": 11,
   "id": "4ace9138",
   "metadata": {},
   "outputs": [],
   "source": [
    "c=BeautifulSoup(a.content,'html.parser')\n",
    "match_links=[]\n",
    "div_tag=c.find_all('div',{'class':'cb-col-60 cb-col cb-srs-mtchs-tm'})\n",
    "for a_tag in div_tag:\n",
    "    match_links.append(a_tag.a['href'])"
   ]
  },
  {
   "cell_type": "code",
   "execution_count": null,
   "id": "8f13dd85",
   "metadata": {},
   "outputs": [],
   "source": []
  },
  {
   "cell_type": "code",
   "execution_count": 24,
   "id": "4c0e6208-ab37-428e-8f73-fc5ab3d21ed9",
   "metadata": {},
   "outputs": [],
   "source": [
    "#cb-col-60 cb-col cb-srs-mtchs-tm"
   ]
  },
  {
   "cell_type": "code",
   "execution_count": 25,
   "id": "f616f55d-f9d3-4959-91ab-10529d90a7a4",
   "metadata": {},
   "outputs": [],
   "source": [
    "match_links=[]\n",
    "div_tag=cricbuzz_soup.find_all('div',{'class':'cb-col-60 cb-col cb-srs-mtchs-tm'})\n",
    "for a_tag in div_tag:\n",
    "    match_links.append(a_tag.a['href'])\n",
    "    "
   ]
  },
  {
   "cell_type": "code",
   "execution_count": 26,
   "id": "e61f0535-e41b-4100-9ec0-b09cbe3f3175",
   "metadata": {},
   "outputs": [],
   "source": [
    "#https://www.cricbuzz.com/cricket-full-commentary/66169/gt-vs-csk-1st-match-indian-premier-league-2023\n",
    "#/cricket-scores/72622/csk-vs-gt-final-reserve-day-indian-premier-league-2023"
   ]
  },
  {
   "cell_type": "code",
   "execution_count": 27,
   "id": "36d5d3f2-d90a-4583-b2ac-736d22dd2c86",
   "metadata": {},
   "outputs": [],
   "source": [
    "def create_link(link):\n",
    "    a=link.split('/')[2:]\n",
    "    a='/'.join(a)\n",
    "    http='https://www.cricbuzz.com/cricket-full-commentary/'\n",
    "    result=http+a\n",
    "    return result"
   ]
  },
  {
   "cell_type": "code",
   "execution_count": 28,
   "id": "92b4d52d-802a-4515-9eee-7aa3a25f4857",
   "metadata": {},
   "outputs": [],
   "source": [
    "working_links=list(map(create_link,match_links))"
   ]
  },
  {
   "cell_type": "code",
   "execution_count": 29,
   "id": "9f24c039-9320-456b-9def-66f3f0572d1b",
   "metadata": {},
   "outputs": [
    {
     "data": {
      "text/plain": [
       "['https://www.cricbuzz.com/cricket-full-commentary/66169/gt-vs-csk-1st-match-indian-premier-league-2023',\n",
       " 'https://www.cricbuzz.com/cricket-full-commentary/66173/pbks-vs-kkr-2nd-match-indian-premier-league-2023',\n",
       " 'https://www.cricbuzz.com/cricket-full-commentary/66176/lsg-vs-dc-3rd-match-indian-premier-league-2023',\n",
       " 'https://www.cricbuzz.com/cricket-full-commentary/66183/srh-vs-rr-4th-match-indian-premier-league-2023',\n",
       " 'https://www.cricbuzz.com/cricket-full-commentary/66190/rcb-vs-mi-5th-match-indian-premier-league-2023',\n",
       " 'https://www.cricbuzz.com/cricket-full-commentary/66197/csk-vs-lsg-6th-match-indian-premier-league-2023',\n",
       " 'https://www.cricbuzz.com/cricket-full-commentary/66204/dc-vs-gt-7th-match-indian-premier-league-2023',\n",
       " 'https://www.cricbuzz.com/cricket-full-commentary/66208/rr-vs-pbks-8th-match-indian-premier-league-2023',\n",
       " 'https://www.cricbuzz.com/cricket-full-commentary/66211/kkr-vs-rcb-9th-match-indian-premier-league-2023',\n",
       " 'https://www.cricbuzz.com/cricket-full-commentary/66215/lsg-vs-srh-10th-match-indian-premier-league-2023',\n",
       " 'https://www.cricbuzz.com/cricket-full-commentary/66218/rr-vs-dc-11th-match-indian-premier-league-2023',\n",
       " 'https://www.cricbuzz.com/cricket-full-commentary/66225/mi-vs-csk-12th-match-indian-premier-league-2023',\n",
       " 'https://www.cricbuzz.com/cricket-full-commentary/66232/gt-vs-kkr-13th-match-indian-premier-league-2023',\n",
       " 'https://www.cricbuzz.com/cricket-full-commentary/66236/srh-vs-pbks-14th-match-indian-premier-league-2023',\n",
       " 'https://www.cricbuzz.com/cricket-full-commentary/66239/rcb-vs-lsg-15th-match-indian-premier-league-2023',\n",
       " 'https://www.cricbuzz.com/cricket-full-commentary/66243/dc-vs-mi-16th-match-indian-premier-league-2023',\n",
       " 'https://www.cricbuzz.com/cricket-full-commentary/66250/csk-vs-rr-17th-match-indian-premier-league-2023',\n",
       " 'https://www.cricbuzz.com/cricket-full-commentary/66253/pbks-vs-gt-18th-match-indian-premier-league-2023',\n",
       " 'https://www.cricbuzz.com/cricket-full-commentary/66257/kkr-vs-srh-19th-match-indian-premier-league-2023',\n",
       " 'https://www.cricbuzz.com/cricket-full-commentary/66260/rcb-vs-dc-20th-match-indian-premier-league-2023',\n",
       " 'https://www.cricbuzz.com/cricket-full-commentary/66264/lsg-vs-pbks-21st-match-indian-premier-league-2023',\n",
       " 'https://www.cricbuzz.com/cricket-full-commentary/66271/mi-vs-kkr-22nd-match-indian-premier-league-2023',\n",
       " 'https://www.cricbuzz.com/cricket-full-commentary/66274/gt-vs-rr-23rd-match-indian-premier-league-2023',\n",
       " 'https://www.cricbuzz.com/cricket-full-commentary/66278/rcb-vs-csk-24th-match-indian-premier-league-2023',\n",
       " 'https://www.cricbuzz.com/cricket-full-commentary/66285/srh-vs-mi-25th-match-indian-premier-league-2023',\n",
       " 'https://www.cricbuzz.com/cricket-full-commentary/66292/rr-vs-lsg-26th-match-indian-premier-league-2023',\n",
       " 'https://www.cricbuzz.com/cricket-full-commentary/66313/pbks-vs-rcb-27th-match-indian-premier-league-2023',\n",
       " 'https://www.cricbuzz.com/cricket-full-commentary/66330/dc-vs-kkr-28th-match-indian-premier-league-2023',\n",
       " 'https://www.cricbuzz.com/cricket-full-commentary/66351/csk-vs-srh-29th-match-indian-premier-league-2023',\n",
       " 'https://www.cricbuzz.com/cricket-full-commentary/66369/lsg-vs-gt-30th-match-indian-premier-league-2023',\n",
       " 'https://www.cricbuzz.com/cricket-full-commentary/66404/mi-vs-pbks-31st-match-indian-premier-league-2023',\n",
       " 'https://www.cricbuzz.com/cricket-full-commentary/66421/rcb-vs-rr-32nd-match-indian-premier-league-2023',\n",
       " 'https://www.cricbuzz.com/cricket-full-commentary/66435/kkr-vs-csk-33rd-match-indian-premier-league-2023',\n",
       " 'https://www.cricbuzz.com/cricket-full-commentary/66449/srh-vs-dc-34th-match-indian-premier-league-2023',\n",
       " 'https://www.cricbuzz.com/cricket-full-commentary/66470/gt-vs-mi-35th-match-indian-premier-league-2023',\n",
       " 'https://www.cricbuzz.com/cricket-full-commentary/66484/rcb-vs-kkr-36th-match-indian-premier-league-2023',\n",
       " 'https://www.cricbuzz.com/cricket-full-commentary/66502/rr-vs-csk-37th-match-indian-premier-league-2023',\n",
       " 'https://www.cricbuzz.com/cricket-full-commentary/66512/pbks-vs-lsg-38th-match-indian-premier-league-2023',\n",
       " 'https://www.cricbuzz.com/cricket-full-commentary/66519/kkr-vs-gt-39th-match-indian-premier-league-2023',\n",
       " 'https://www.cricbuzz.com/cricket-full-commentary/66526/dc-vs-srh-40th-match-indian-premier-league-2023',\n",
       " 'https://www.cricbuzz.com/cricket-full-commentary/66288/csk-vs-pbks-41st-match-indian-premier-league-2023',\n",
       " 'https://www.cricbuzz.com/cricket-full-commentary/66299/mi-vs-rr-42nd-match-indian-premier-league-2023',\n",
       " 'https://www.cricbuzz.com/cricket-full-commentary/66306/lsg-vs-rcb-43rd-match-indian-premier-league-2023',\n",
       " 'https://www.cricbuzz.com/cricket-full-commentary/66320/gt-vs-dc-44th-match-indian-premier-league-2023',\n",
       " 'https://www.cricbuzz.com/cricket-full-commentary/66337/lsg-vs-csk-45th-match-indian-premier-league-2023',\n",
       " 'https://www.cricbuzz.com/cricket-full-commentary/66327/pbks-vs-mi-46th-match-indian-premier-league-2023',\n",
       " 'https://www.cricbuzz.com/cricket-full-commentary/66344/srh-vs-kkr-47th-match-indian-premier-league-2023',\n",
       " 'https://www.cricbuzz.com/cricket-full-commentary/66348/rr-vs-gt-48th-match-indian-premier-league-2023',\n",
       " 'https://www.cricbuzz.com/cricket-full-commentary/66355/csk-vs-mi-49th-match-indian-premier-league-2023',\n",
       " 'https://www.cricbuzz.com/cricket-full-commentary/66358/dc-vs-rcb-50th-match-indian-premier-league-2023',\n",
       " 'https://www.cricbuzz.com/cricket-full-commentary/66365/gt-vs-lsg-51st-match-indian-premier-league-2023',\n",
       " 'https://www.cricbuzz.com/cricket-full-commentary/66376/rr-vs-srh-52nd-match-indian-premier-league-2023',\n",
       " 'https://www.cricbuzz.com/cricket-full-commentary/66379/kkr-vs-pbks-53rd-match-indian-premier-league-2023',\n",
       " 'https://www.cricbuzz.com/cricket-full-commentary/66386/mi-vs-rcb-54th-match-indian-premier-league-2023',\n",
       " 'https://www.cricbuzz.com/cricket-full-commentary/66393/csk-vs-dc-55th-match-indian-premier-league-2023',\n",
       " 'https://www.cricbuzz.com/cricket-full-commentary/66397/kkr-vs-rr-56th-match-indian-premier-league-2023',\n",
       " 'https://www.cricbuzz.com/cricket-full-commentary/66411/mi-vs-gt-57th-match-indian-premier-league-2023',\n",
       " 'https://www.cricbuzz.com/cricket-full-commentary/66414/srh-vs-lsg-58th-match-indian-premier-league-2023',\n",
       " 'https://www.cricbuzz.com/cricket-full-commentary/66428/dc-vs-pbks-59th-match-indian-premier-league-2023',\n",
       " 'https://www.cricbuzz.com/cricket-full-commentary/66432/rr-vs-rcb-60th-match-indian-premier-league-2023',\n",
       " 'https://www.cricbuzz.com/cricket-full-commentary/66442/csk-vs-kkr-61st-match-indian-premier-league-2023',\n",
       " 'https://www.cricbuzz.com/cricket-full-commentary/66446/gt-vs-srh-62nd-match-indian-premier-league-2023',\n",
       " 'https://www.cricbuzz.com/cricket-full-commentary/66453/lsg-vs-mi-63rd-match-indian-premier-league-2023',\n",
       " 'https://www.cricbuzz.com/cricket-full-commentary/66460/pbks-vs-dc-64th-match-indian-premier-league-2023',\n",
       " 'https://www.cricbuzz.com/cricket-full-commentary/66467/srh-vs-rcb-65th-match-indian-premier-league-2023',\n",
       " 'https://www.cricbuzz.com/cricket-full-commentary/66477/pbks-vs-rr-66th-match-indian-premier-league-2023',\n",
       " 'https://www.cricbuzz.com/cricket-full-commentary/66481/dc-vs-csk-67th-match-indian-premier-league-2023',\n",
       " 'https://www.cricbuzz.com/cricket-full-commentary/66488/kkr-vs-lsg-68th-match-indian-premier-league-2023',\n",
       " 'https://www.cricbuzz.com/cricket-full-commentary/66495/mi-vs-srh-69th-match-indian-premier-league-2023',\n",
       " 'https://www.cricbuzz.com/cricket-full-commentary/66505/rcb-vs-gt-70th-match-indian-premier-league-2023',\n",
       " 'https://www.cricbuzz.com/cricket-full-commentary/69557/gt-vs-csk-qualifier-1-indian-premier-league-2023',\n",
       " 'https://www.cricbuzz.com/cricket-full-commentary/69561/lsg-vs-mi-eliminator-indian-premier-league-2023',\n",
       " 'https://www.cricbuzz.com/cricket-full-commentary/69568/gt-vs-mi-qualifier-2-indian-premier-league-2023',\n",
       " 'https://www.cricbuzz.com/cricket-full-commentary/69575/csk-vs-gt-final-indian-premier-league-2023',\n",
       " 'https://www.cricbuzz.com/cricket-full-commentary/72622/csk-vs-gt-final-reserve-day-indian-premier-league-2023']"
      ]
     },
     "execution_count": 29,
     "metadata": {},
     "output_type": "execute_result"
    }
   ],
   "source": [
    "working_links"
   ]
  },
  {
   "cell_type": "code",
   "execution_count": 9,
   "id": "2c387146-6531-4dae-a4b4-5d4a51e72f8d",
   "metadata": {},
   "outputs": [],
   "source": [
    "short_name={'Chennai Super Kings':'CSK',\n",
    "  'Mumbai Indians':'MI',\n",
    "   'Gujarat Titans':'GT',\n",
    "   'Kolkata Knight Riders':'KKR',\n",
    "   'Punjab Kings':'PBKS',\n",
    "   'SunRisers Hyderabad':'SRH',\n",
    "   'Rajasthan Royals':'RR',\n",
    "   'Lucknow Super Giants':'LSG',\n",
    "   'Delhi Capitals':'DC',\n",
    "   'Royal Challengers Bangalore':'RCB'\n",
    "  }"
   ]
  },
  {
   "cell_type": "code",
   "execution_count": 8,
   "id": "525b397b-6bbc-4521-b911-3911dabb9187",
   "metadata": {},
   "outputs": [
    {
     "data": {
      "text/plain": [
       "'CSK'"
      ]
     },
     "execution_count": 8,
     "metadata": {},
     "output_type": "execute_result"
    }
   ],
   "source": [
    "d['Chennai Super Kings']"
   ]
  },
  {
   "cell_type": "code",
   "execution_count": null,
   "id": "b6d19713-02bf-45a1-918d-fd7269524391",
   "metadata": {},
   "outputs": [],
   "source": [
    "cricbuzz_page_soup=[]\n",
    "##Iterate through the link textss\n",
    "for l in link_text:\n",
    "        ##Click the innings text\n",
    "        print(l,' Analysed')\n",
    "        loadMoreButton=driver.find_element(By.LINK_TEXT,l)\n",
    "        loadMoreButton.click()\n",
    "        ##Click the 'dropped catches' text box, or the option chosen above. \n",
    "        #l2=driver.find_element(By.LINK_TEXT,option)\n",
    "        #l2.click()\n",
    "        time.sleep(5)\n",
    "        ##Collect the soup of the existing view that has been clicked by the driver element\n",
    "        cricbuzz_soup_inner=BeautifulSoup(driver.page_source, 'html.parser')\n",
    "\n",
    "        ##Append each of the page contents to a list\n",
    "        cricbuzz_page_soup.append(cricbuzz_soup_inner)\n",
    "\n",
    "##Scraping has been completed\n",
    "print (\"Full scraping of key events complete...\")\n",
    "##Stop the driver element\n",
    "driver.quit()"
   ]
  }
 ],
 "metadata": {
  "kernelspec": {
   "display_name": "Python 3 (ipykernel)",
   "language": "python",
   "name": "python3"
  },
  "language_info": {
   "codemirror_mode": {
    "name": "ipython",
    "version": 3
   },
   "file_extension": ".py",
   "mimetype": "text/x-python",
   "name": "python",
   "nbconvert_exporter": "python",
   "pygments_lexer": "ipython3",
   "version": "3.9.12"
  }
 },
 "nbformat": 4,
 "nbformat_minor": 5
}
