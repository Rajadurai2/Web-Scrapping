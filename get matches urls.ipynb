{
 "cells": [
  {
   "cell_type": "code",
   "execution_count": 1,
   "id": "ee038869-3dde-4690-938c-cef5d5b09ba4",
   "metadata": {},
   "outputs": [],
   "source": [
    "from selenium import webdriver\n",
    "from bs4 import BeautifulSoup\n",
    "import pandas as pd\n",
    "import re\n",
    "import os\n",
    "import requests\n",
    "import time\n",
    "from collections import defaultdict\n",
    "from selenium.webdriver.common.by import By"
   ]
  },
  {
   "cell_type": "code",
   "execution_count": 2,
   "id": "ae230109-966b-4f0f-85df-668ed5e79e2e",
   "metadata": {},
   "outputs": [],
   "source": [
    "cricbuzz_url='https://www.cricbuzz.com/cricket-series/5945/indian-premier-league-2023/matches'"
   ]
  },
  {
   "cell_type": "code",
   "execution_count": 4,
   "id": "2936793f-61d4-4e97-876c-847fa2b4df7e",
   "metadata": {},
   "outputs": [],
   "source": [
    "chrome_options = webdriver.ChromeOptions()\n",
    "chrome_options.add_argument('--headless')\n",
    "chrome_options.add_argument('--no-sandbox')\n",
    "chrome_options.add_argument('--disable-dev-shm-usage')"
   ]
  },
  {
   "cell_type": "code",
   "execution_count": 5,
   "id": "fe75c721-b105-4269-b439-73548e14cce0",
   "metadata": {},
   "outputs": [],
   "source": [
    "driver = webdriver.Chrome('chromedriver',options=chrome_options)"
   ]
  },
  {
   "cell_type": "code",
   "execution_count": 7,
   "id": "becbcdd8-53fe-464f-a768-cde0d9b7f8b5",
   "metadata": {},
   "outputs": [],
   "source": [
    "driver.get(cricbuzz_url)"
   ]
  },
  {
   "cell_type": "code",
   "execution_count": 8,
   "id": "8e916c42-3b95-4215-af9f-00f388a01c39",
   "metadata": {},
   "outputs": [],
   "source": [
    "cricbuzz_soup= BeautifulSoup(driver.page_source, 'html.parser')"
   ]
  },
  {
   "cell_type": "code",
   "execution_count": 9,
   "id": "4c0e6208-ab37-428e-8f73-fc5ab3d21ed9",
   "metadata": {},
   "outputs": [],
   "source": [
    "#cb-col-60 cb-col cb-srs-mtchs-tm"
   ]
  },
  {
   "cell_type": "code",
   "execution_count": 18,
   "id": "f616f55d-f9d3-4959-91ab-10529d90a7a4",
   "metadata": {},
   "outputs": [],
   "source": [
    "match_links=[]\n",
    "div_tag=cricbuzz_soup.find_all('div',{'class':'cb-col-60 cb-col cb-srs-mtchs-tm'})\n",
    "for a_tag in div_tag:\n",
    "    match_links.append(a_tag.a['href'])\n",
    "    "
   ]
  },
  {
   "cell_type": "code",
   "execution_count": 19,
   "id": "104cff40-84ec-483f-a19e-7eb17773c392",
   "metadata": {},
   "outputs": [
    {
     "data": {
      "text/plain": [
       "['/cricket-scores/66169/gt-vs-csk-1st-match-indian-premier-league-2023',\n",
       " '/cricket-scores/66173/pbks-vs-kkr-2nd-match-indian-premier-league-2023',\n",
       " '/cricket-scores/66176/lsg-vs-dc-3rd-match-indian-premier-league-2023',\n",
       " '/cricket-scores/66183/srh-vs-rr-4th-match-indian-premier-league-2023',\n",
       " '/cricket-scores/66190/rcb-vs-mi-5th-match-indian-premier-league-2023',\n",
       " '/cricket-scores/66197/csk-vs-lsg-6th-match-indian-premier-league-2023',\n",
       " '/cricket-scores/66204/dc-vs-gt-7th-match-indian-premier-league-2023',\n",
       " '/cricket-scores/66208/rr-vs-pbks-8th-match-indian-premier-league-2023',\n",
       " '/cricket-scores/66211/kkr-vs-rcb-9th-match-indian-premier-league-2023',\n",
       " '/cricket-scores/66215/lsg-vs-srh-10th-match-indian-premier-league-2023',\n",
       " '/cricket-scores/66218/rr-vs-dc-11th-match-indian-premier-league-2023',\n",
       " '/cricket-scores/66225/mi-vs-csk-12th-match-indian-premier-league-2023',\n",
       " '/cricket-scores/66232/gt-vs-kkr-13th-match-indian-premier-league-2023',\n",
       " '/cricket-scores/66236/srh-vs-pbks-14th-match-indian-premier-league-2023',\n",
       " '/cricket-scores/66239/rcb-vs-lsg-15th-match-indian-premier-league-2023',\n",
       " '/cricket-scores/66243/dc-vs-mi-16th-match-indian-premier-league-2023',\n",
       " '/cricket-scores/66250/csk-vs-rr-17th-match-indian-premier-league-2023',\n",
       " '/cricket-scores/66253/pbks-vs-gt-18th-match-indian-premier-league-2023',\n",
       " '/cricket-scores/66257/kkr-vs-srh-19th-match-indian-premier-league-2023',\n",
       " '/cricket-scores/66260/rcb-vs-dc-20th-match-indian-premier-league-2023',\n",
       " '/cricket-scores/66264/lsg-vs-pbks-21st-match-indian-premier-league-2023',\n",
       " '/cricket-scores/66271/mi-vs-kkr-22nd-match-indian-premier-league-2023',\n",
       " '/cricket-scores/66274/gt-vs-rr-23rd-match-indian-premier-league-2023',\n",
       " '/cricket-scores/66278/rcb-vs-csk-24th-match-indian-premier-league-2023',\n",
       " '/cricket-scores/66285/srh-vs-mi-25th-match-indian-premier-league-2023',\n",
       " '/cricket-scores/66292/rr-vs-lsg-26th-match-indian-premier-league-2023',\n",
       " '/cricket-scores/66313/pbks-vs-rcb-27th-match-indian-premier-league-2023',\n",
       " '/cricket-scores/66330/dc-vs-kkr-28th-match-indian-premier-league-2023',\n",
       " '/cricket-scores/66351/csk-vs-srh-29th-match-indian-premier-league-2023',\n",
       " '/cricket-scores/66369/lsg-vs-gt-30th-match-indian-premier-league-2023',\n",
       " '/cricket-scores/66404/mi-vs-pbks-31st-match-indian-premier-league-2023',\n",
       " '/cricket-scores/66421/rcb-vs-rr-32nd-match-indian-premier-league-2023',\n",
       " '/cricket-scores/66435/kkr-vs-csk-33rd-match-indian-premier-league-2023',\n",
       " '/cricket-scores/66449/srh-vs-dc-34th-match-indian-premier-league-2023',\n",
       " '/cricket-scores/66470/gt-vs-mi-35th-match-indian-premier-league-2023',\n",
       " '/cricket-scores/66484/rcb-vs-kkr-36th-match-indian-premier-league-2023',\n",
       " '/cricket-scores/66502/rr-vs-csk-37th-match-indian-premier-league-2023',\n",
       " '/cricket-scores/66512/pbks-vs-lsg-38th-match-indian-premier-league-2023',\n",
       " '/cricket-scores/66519/kkr-vs-gt-39th-match-indian-premier-league-2023',\n",
       " '/cricket-scores/66526/dc-vs-srh-40th-match-indian-premier-league-2023',\n",
       " '/cricket-scores/66288/csk-vs-pbks-41st-match-indian-premier-league-2023',\n",
       " '/cricket-scores/66299/mi-vs-rr-42nd-match-indian-premier-league-2023',\n",
       " '/cricket-scores/66306/lsg-vs-rcb-43rd-match-indian-premier-league-2023',\n",
       " '/cricket-scores/66320/gt-vs-dc-44th-match-indian-premier-league-2023',\n",
       " '/cricket-scores/66337/lsg-vs-csk-45th-match-indian-premier-league-2023',\n",
       " '/cricket-scores/66327/pbks-vs-mi-46th-match-indian-premier-league-2023',\n",
       " '/cricket-scores/66344/srh-vs-kkr-47th-match-indian-premier-league-2023',\n",
       " '/cricket-scores/66348/rr-vs-gt-48th-match-indian-premier-league-2023',\n",
       " '/cricket-scores/66355/csk-vs-mi-49th-match-indian-premier-league-2023',\n",
       " '/cricket-scores/66358/dc-vs-rcb-50th-match-indian-premier-league-2023',\n",
       " '/cricket-scores/66365/gt-vs-lsg-51st-match-indian-premier-league-2023',\n",
       " '/cricket-scores/66376/rr-vs-srh-52nd-match-indian-premier-league-2023',\n",
       " '/cricket-scores/66379/kkr-vs-pbks-53rd-match-indian-premier-league-2023',\n",
       " '/cricket-scores/66386/mi-vs-rcb-54th-match-indian-premier-league-2023',\n",
       " '/cricket-scores/66393/csk-vs-dc-55th-match-indian-premier-league-2023',\n",
       " '/cricket-scores/66397/kkr-vs-rr-56th-match-indian-premier-league-2023',\n",
       " '/cricket-scores/66411/mi-vs-gt-57th-match-indian-premier-league-2023',\n",
       " '/cricket-scores/66414/srh-vs-lsg-58th-match-indian-premier-league-2023',\n",
       " '/cricket-scores/66428/dc-vs-pbks-59th-match-indian-premier-league-2023',\n",
       " '/cricket-scores/66432/rr-vs-rcb-60th-match-indian-premier-league-2023',\n",
       " '/cricket-scores/66442/csk-vs-kkr-61st-match-indian-premier-league-2023',\n",
       " '/cricket-scores/66446/gt-vs-srh-62nd-match-indian-premier-league-2023',\n",
       " '/cricket-scores/66453/lsg-vs-mi-63rd-match-indian-premier-league-2023',\n",
       " '/cricket-scores/66460/pbks-vs-dc-64th-match-indian-premier-league-2023',\n",
       " '/cricket-scores/66467/srh-vs-rcb-65th-match-indian-premier-league-2023',\n",
       " '/cricket-scores/66477/pbks-vs-rr-66th-match-indian-premier-league-2023',\n",
       " '/cricket-scores/66481/dc-vs-csk-67th-match-indian-premier-league-2023',\n",
       " '/cricket-scores/66488/kkr-vs-lsg-68th-match-indian-premier-league-2023',\n",
       " '/cricket-scores/66495/mi-vs-srh-69th-match-indian-premier-league-2023',\n",
       " '/cricket-scores/66505/rcb-vs-gt-70th-match-indian-premier-league-2023',\n",
       " '/cricket-scores/69557/gt-vs-csk-qualifier-1-indian-premier-league-2023',\n",
       " '/cricket-scores/69561/lsg-vs-mi-eliminator-indian-premier-league-2023',\n",
       " '/cricket-scores/69568/gt-vs-mi-qualifier-2-indian-premier-league-2023',\n",
       " '/cricket-scores/69575/csk-vs-gt-final-indian-premier-league-2023',\n",
       " '/cricket-scores/72622/csk-vs-gt-final-reserve-day-indian-premier-league-2023']"
      ]
     },
     "execution_count": 19,
     "metadata": {},
     "output_type": "execute_result"
    }
   ],
   "source": [
    "match_links"
   ]
  },
  {
   "cell_type": "code",
   "execution_count": 20,
   "id": "e61f0535-e41b-4100-9ec0-b09cbe3f3175",
   "metadata": {},
   "outputs": [],
   "source": [
    "#https://www.cricbuzz.com/cricket-full-commentary/66169/gt-vs-csk-1st-match-indian-premier-league-2023\n",
    "#/cricket-scores/72622/csk-vs-gt-final-reserve-day-indian-premier-league-2023"
   ]
  },
  {
   "cell_type": "code",
   "execution_count": null,
   "id": "b1b79380-6dc9-4c88-9a10-54fa56e3c254",
   "metadata": {},
   "outputs": [],
   "source": []
  },
  {
   "cell_type": "code",
   "execution_count": 44,
   "id": "36d5d3f2-d90a-4583-b2ac-736d22dd2c86",
   "metadata": {},
   "outputs": [],
   "source": [
    "def create_link(link):\n",
    "    a=link.split('/')[2:]\n",
    "    a='/'.join(a)\n",
    "    http='https://www.cricbuzz.com/cricket-full-commentary/'\n",
    "    result=http+a\n",
    "    return result"
   ]
  },
  {
   "cell_type": "code",
   "execution_count": 50,
   "id": "92b4d52d-802a-4515-9eee-7aa3a25f4857",
   "metadata": {},
   "outputs": [],
   "source": [
    "working_links=list(map(create_link,match_links))"
   ]
  },
  {
   "cell_type": "raw",
   "id": "2c730825-b96d-48ea-b74f-0f121507817a",
   "metadata": {},
   "source": [
    "working_links"
   ]
  },
  {
   "cell_type": "code",
   "execution_count": 51,
   "id": "9f24c039-9320-456b-9def-66f3f0572d1b",
   "metadata": {},
   "outputs": [
    {
     "data": {
      "text/plain": [
       "['https://www.cricbuzz.com/cricket-full-commentary/66169/gt-vs-csk-1st-match-indian-premier-league-2023',\n",
       " 'https://www.cricbuzz.com/cricket-full-commentary/66173/pbks-vs-kkr-2nd-match-indian-premier-league-2023',\n",
       " 'https://www.cricbuzz.com/cricket-full-commentary/66176/lsg-vs-dc-3rd-match-indian-premier-league-2023',\n",
       " 'https://www.cricbuzz.com/cricket-full-commentary/66183/srh-vs-rr-4th-match-indian-premier-league-2023',\n",
       " 'https://www.cricbuzz.com/cricket-full-commentary/66190/rcb-vs-mi-5th-match-indian-premier-league-2023',\n",
       " 'https://www.cricbuzz.com/cricket-full-commentary/66197/csk-vs-lsg-6th-match-indian-premier-league-2023',\n",
       " 'https://www.cricbuzz.com/cricket-full-commentary/66204/dc-vs-gt-7th-match-indian-premier-league-2023',\n",
       " 'https://www.cricbuzz.com/cricket-full-commentary/66208/rr-vs-pbks-8th-match-indian-premier-league-2023',\n",
       " 'https://www.cricbuzz.com/cricket-full-commentary/66211/kkr-vs-rcb-9th-match-indian-premier-league-2023',\n",
       " 'https://www.cricbuzz.com/cricket-full-commentary/66215/lsg-vs-srh-10th-match-indian-premier-league-2023',\n",
       " 'https://www.cricbuzz.com/cricket-full-commentary/66218/rr-vs-dc-11th-match-indian-premier-league-2023',\n",
       " 'https://www.cricbuzz.com/cricket-full-commentary/66225/mi-vs-csk-12th-match-indian-premier-league-2023',\n",
       " 'https://www.cricbuzz.com/cricket-full-commentary/66232/gt-vs-kkr-13th-match-indian-premier-league-2023',\n",
       " 'https://www.cricbuzz.com/cricket-full-commentary/66236/srh-vs-pbks-14th-match-indian-premier-league-2023',\n",
       " 'https://www.cricbuzz.com/cricket-full-commentary/66239/rcb-vs-lsg-15th-match-indian-premier-league-2023',\n",
       " 'https://www.cricbuzz.com/cricket-full-commentary/66243/dc-vs-mi-16th-match-indian-premier-league-2023',\n",
       " 'https://www.cricbuzz.com/cricket-full-commentary/66250/csk-vs-rr-17th-match-indian-premier-league-2023',\n",
       " 'https://www.cricbuzz.com/cricket-full-commentary/66253/pbks-vs-gt-18th-match-indian-premier-league-2023',\n",
       " 'https://www.cricbuzz.com/cricket-full-commentary/66257/kkr-vs-srh-19th-match-indian-premier-league-2023',\n",
       " 'https://www.cricbuzz.com/cricket-full-commentary/66260/rcb-vs-dc-20th-match-indian-premier-league-2023',\n",
       " 'https://www.cricbuzz.com/cricket-full-commentary/66264/lsg-vs-pbks-21st-match-indian-premier-league-2023',\n",
       " 'https://www.cricbuzz.com/cricket-full-commentary/66271/mi-vs-kkr-22nd-match-indian-premier-league-2023',\n",
       " 'https://www.cricbuzz.com/cricket-full-commentary/66274/gt-vs-rr-23rd-match-indian-premier-league-2023',\n",
       " 'https://www.cricbuzz.com/cricket-full-commentary/66278/rcb-vs-csk-24th-match-indian-premier-league-2023',\n",
       " 'https://www.cricbuzz.com/cricket-full-commentary/66285/srh-vs-mi-25th-match-indian-premier-league-2023',\n",
       " 'https://www.cricbuzz.com/cricket-full-commentary/66292/rr-vs-lsg-26th-match-indian-premier-league-2023',\n",
       " 'https://www.cricbuzz.com/cricket-full-commentary/66313/pbks-vs-rcb-27th-match-indian-premier-league-2023',\n",
       " 'https://www.cricbuzz.com/cricket-full-commentary/66330/dc-vs-kkr-28th-match-indian-premier-league-2023',\n",
       " 'https://www.cricbuzz.com/cricket-full-commentary/66351/csk-vs-srh-29th-match-indian-premier-league-2023',\n",
       " 'https://www.cricbuzz.com/cricket-full-commentary/66369/lsg-vs-gt-30th-match-indian-premier-league-2023',\n",
       " 'https://www.cricbuzz.com/cricket-full-commentary/66404/mi-vs-pbks-31st-match-indian-premier-league-2023',\n",
       " 'https://www.cricbuzz.com/cricket-full-commentary/66421/rcb-vs-rr-32nd-match-indian-premier-league-2023',\n",
       " 'https://www.cricbuzz.com/cricket-full-commentary/66435/kkr-vs-csk-33rd-match-indian-premier-league-2023',\n",
       " 'https://www.cricbuzz.com/cricket-full-commentary/66449/srh-vs-dc-34th-match-indian-premier-league-2023',\n",
       " 'https://www.cricbuzz.com/cricket-full-commentary/66470/gt-vs-mi-35th-match-indian-premier-league-2023',\n",
       " 'https://www.cricbuzz.com/cricket-full-commentary/66484/rcb-vs-kkr-36th-match-indian-premier-league-2023',\n",
       " 'https://www.cricbuzz.com/cricket-full-commentary/66502/rr-vs-csk-37th-match-indian-premier-league-2023',\n",
       " 'https://www.cricbuzz.com/cricket-full-commentary/66512/pbks-vs-lsg-38th-match-indian-premier-league-2023',\n",
       " 'https://www.cricbuzz.com/cricket-full-commentary/66519/kkr-vs-gt-39th-match-indian-premier-league-2023',\n",
       " 'https://www.cricbuzz.com/cricket-full-commentary/66526/dc-vs-srh-40th-match-indian-premier-league-2023',\n",
       " 'https://www.cricbuzz.com/cricket-full-commentary/66288/csk-vs-pbks-41st-match-indian-premier-league-2023',\n",
       " 'https://www.cricbuzz.com/cricket-full-commentary/66299/mi-vs-rr-42nd-match-indian-premier-league-2023',\n",
       " 'https://www.cricbuzz.com/cricket-full-commentary/66306/lsg-vs-rcb-43rd-match-indian-premier-league-2023',\n",
       " 'https://www.cricbuzz.com/cricket-full-commentary/66320/gt-vs-dc-44th-match-indian-premier-league-2023',\n",
       " 'https://www.cricbuzz.com/cricket-full-commentary/66337/lsg-vs-csk-45th-match-indian-premier-league-2023',\n",
       " 'https://www.cricbuzz.com/cricket-full-commentary/66327/pbks-vs-mi-46th-match-indian-premier-league-2023',\n",
       " 'https://www.cricbuzz.com/cricket-full-commentary/66344/srh-vs-kkr-47th-match-indian-premier-league-2023',\n",
       " 'https://www.cricbuzz.com/cricket-full-commentary/66348/rr-vs-gt-48th-match-indian-premier-league-2023',\n",
       " 'https://www.cricbuzz.com/cricket-full-commentary/66355/csk-vs-mi-49th-match-indian-premier-league-2023',\n",
       " 'https://www.cricbuzz.com/cricket-full-commentary/66358/dc-vs-rcb-50th-match-indian-premier-league-2023',\n",
       " 'https://www.cricbuzz.com/cricket-full-commentary/66365/gt-vs-lsg-51st-match-indian-premier-league-2023',\n",
       " 'https://www.cricbuzz.com/cricket-full-commentary/66376/rr-vs-srh-52nd-match-indian-premier-league-2023',\n",
       " 'https://www.cricbuzz.com/cricket-full-commentary/66379/kkr-vs-pbks-53rd-match-indian-premier-league-2023',\n",
       " 'https://www.cricbuzz.com/cricket-full-commentary/66386/mi-vs-rcb-54th-match-indian-premier-league-2023',\n",
       " 'https://www.cricbuzz.com/cricket-full-commentary/66393/csk-vs-dc-55th-match-indian-premier-league-2023',\n",
       " 'https://www.cricbuzz.com/cricket-full-commentary/66397/kkr-vs-rr-56th-match-indian-premier-league-2023',\n",
       " 'https://www.cricbuzz.com/cricket-full-commentary/66411/mi-vs-gt-57th-match-indian-premier-league-2023',\n",
       " 'https://www.cricbuzz.com/cricket-full-commentary/66414/srh-vs-lsg-58th-match-indian-premier-league-2023',\n",
       " 'https://www.cricbuzz.com/cricket-full-commentary/66428/dc-vs-pbks-59th-match-indian-premier-league-2023',\n",
       " 'https://www.cricbuzz.com/cricket-full-commentary/66432/rr-vs-rcb-60th-match-indian-premier-league-2023',\n",
       " 'https://www.cricbuzz.com/cricket-full-commentary/66442/csk-vs-kkr-61st-match-indian-premier-league-2023',\n",
       " 'https://www.cricbuzz.com/cricket-full-commentary/66446/gt-vs-srh-62nd-match-indian-premier-league-2023',\n",
       " 'https://www.cricbuzz.com/cricket-full-commentary/66453/lsg-vs-mi-63rd-match-indian-premier-league-2023',\n",
       " 'https://www.cricbuzz.com/cricket-full-commentary/66460/pbks-vs-dc-64th-match-indian-premier-league-2023',\n",
       " 'https://www.cricbuzz.com/cricket-full-commentary/66467/srh-vs-rcb-65th-match-indian-premier-league-2023',\n",
       " 'https://www.cricbuzz.com/cricket-full-commentary/66477/pbks-vs-rr-66th-match-indian-premier-league-2023',\n",
       " 'https://www.cricbuzz.com/cricket-full-commentary/66481/dc-vs-csk-67th-match-indian-premier-league-2023',\n",
       " 'https://www.cricbuzz.com/cricket-full-commentary/66488/kkr-vs-lsg-68th-match-indian-premier-league-2023',\n",
       " 'https://www.cricbuzz.com/cricket-full-commentary/66495/mi-vs-srh-69th-match-indian-premier-league-2023',\n",
       " 'https://www.cricbuzz.com/cricket-full-commentary/66505/rcb-vs-gt-70th-match-indian-premier-league-2023',\n",
       " 'https://www.cricbuzz.com/cricket-full-commentary/69557/gt-vs-csk-qualifier-1-indian-premier-league-2023',\n",
       " 'https://www.cricbuzz.com/cricket-full-commentary/69561/lsg-vs-mi-eliminator-indian-premier-league-2023',\n",
       " 'https://www.cricbuzz.com/cricket-full-commentary/69568/gt-vs-mi-qualifier-2-indian-premier-league-2023',\n",
       " 'https://www.cricbuzz.com/cricket-full-commentary/69575/csk-vs-gt-final-indian-premier-league-2023',\n",
       " 'https://www.cricbuzz.com/cricket-full-commentary/72622/csk-vs-gt-final-reserve-day-indian-premier-league-2023']"
      ]
     },
     "execution_count": 51,
     "metadata": {},
     "output_type": "execute_result"
    }
   ],
   "source": [
    "working_links"
   ]
  },
  {
   "cell_type": "code",
   "execution_count": null,
   "id": "6f97a528-d707-47ab-a8f4-9f34fb369b49",
   "metadata": {},
   "outputs": [],
   "source": []
  }
 ],
 "metadata": {
  "kernelspec": {
   "display_name": "Python 3 (ipykernel)",
   "language": "python",
   "name": "python3"
  },
  "language_info": {
   "codemirror_mode": {
    "name": "ipython",
    "version": 3
   },
   "file_extension": ".py",
   "mimetype": "text/x-python",
   "name": "python",
   "nbconvert_exporter": "python",
   "pygments_lexer": "ipython3",
   "version": "3.9.12"
  }
 },
 "nbformat": 4,
 "nbformat_minor": 5
}
