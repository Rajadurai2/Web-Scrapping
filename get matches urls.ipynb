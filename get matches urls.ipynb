{
 "cells": [
  {
   "cell_type": "code",
   "execution_count": 113,
   "id": "ee038869-3dde-4690-938c-cef5d5b09ba4",
   "metadata": {},
   "outputs": [],
   "source": [
    "from selenium import webdriver\n",
    "from bs4 import BeautifulSoup\n",
    "import requests\n",
    "import pandas as pd\n",
    "import re\n",
    "import os\n",
    "import requests\n",
    "import time\n",
    "from collections import defaultdict\n",
    "from selenium.webdriver.common.by import By\n",
    "import os.path"
   ]
  },
  {
   "cell_type": "code",
   "execution_count": 114,
   "id": "ae230109-966b-4f0f-85df-668ed5e79e2e",
   "metadata": {},
   "outputs": [],
   "source": [
    "#cricbuzz_url='https://www.cricbuzz.com/cricket-series/5945/indian-premier-league-2023/matches'\n",
    "cricbuzz_url='https://www.cricbuzz.com/cricket-series/2568/indian-premier-league-2017/matches'"
   ]
  },
  {
   "cell_type": "code",
   "execution_count": 115,
   "id": "2936793f-61d4-4e97-876c-847fa2b4df7e",
   "metadata": {},
   "outputs": [],
   "source": [
    "chrome_options = webdriver.ChromeOptions()\n",
    "chrome_options.add_argument('--headless')\n",
    "chrome_options.add_argument('--no-sandbox')\n",
    "chrome_options.add_argument('--disable-dev-shm-usage')"
   ]
  },
  {
   "cell_type": "code",
   "execution_count": 116,
   "id": "fe75c721-b105-4269-b439-73548e14cce0",
   "metadata": {},
   "outputs": [],
   "source": [
    "driver = webdriver.Chrome('chromedriver',options=chrome_options)"
   ]
  },
  {
   "cell_type": "code",
   "execution_count": 117,
   "id": "becbcdd8-53fe-464f-a768-cde0d9b7f8b5",
   "metadata": {},
   "outputs": [],
   "source": [
    "driver.get(cricbuzz_url)"
   ]
  },
  {
   "cell_type": "code",
   "execution_count": 118,
   "id": "8e916c42-3b95-4215-af9f-00f388a01c39",
   "metadata": {},
   "outputs": [],
   "source": [
    "cricbuzz_soup= BeautifulSoup(driver.page_source, 'html.parser')"
   ]
  },
  {
   "cell_type": "code",
   "execution_count": 119,
   "id": "55939ed7",
   "metadata": {},
   "outputs": [],
   "source": [
    "a=requests.get(cricbuzz_url)\n"
   ]
  },
  {
   "cell_type": "code",
   "execution_count": 120,
   "id": "4ace9138",
   "metadata": {},
   "outputs": [],
   "source": [
    "c=BeautifulSoup(a.content,'html.parser')\n",
    "match_links=[]\n",
    "div_tag=c.find_all('div',{'class':'cb-col-60 cb-col cb-srs-mtchs-tm'})\n",
    "for a_tag in div_tag:\n",
    "    match_links.append(a_tag.a['href'])"
   ]
  },
  {
   "cell_type": "code",
   "execution_count": null,
   "id": "8f13dd85",
   "metadata": {},
   "outputs": [],
   "source": []
  },
  {
   "cell_type": "code",
   "execution_count": 121,
   "id": "4c0e6208-ab37-428e-8f73-fc5ab3d21ed9",
   "metadata": {},
   "outputs": [],
   "source": [
    "#cb-col-60 cb-col cb-srs-mtchs-tm"
   ]
  },
  {
   "cell_type": "code",
   "execution_count": 122,
   "id": "f616f55d-f9d3-4959-91ab-10529d90a7a4",
   "metadata": {},
   "outputs": [],
   "source": [
    "match_links=[]\n",
    "div_tag=cricbuzz_soup.find_all('div',{'class':'cb-col-60 cb-col cb-srs-mtchs-tm'})\n",
    "for a_tag in div_tag:\n",
    "    match_links.append(a_tag.a['href'])\n",
    "    "
   ]
  },
  {
   "cell_type": "code",
   "execution_count": 123,
   "id": "e61f0535-e41b-4100-9ec0-b09cbe3f3175",
   "metadata": {},
   "outputs": [],
   "source": [
    "#https://www.cricbuzz.com/cricket-full-commentary/66169/gt-vs-csk-1st-match-indian-premier-league-2023\n",
    "#/cricket-scores/72622/csk-vs-gt-final-reserve-day-indian-premier-league-2023"
   ]
  },
  {
   "cell_type": "code",
   "execution_count": 124,
   "id": "36d5d3f2-d90a-4583-b2ac-736d22dd2c86",
   "metadata": {},
   "outputs": [],
   "source": [
    "def create_link(link):\n",
    "    a=link.split('/')[2:]\n",
    "    a='/'.join(a)\n",
    "    http='https://www.cricbuzz.com/cricket-full-commentary/'\n",
    "    result=http+a\n",
    "    return result"
   ]
  },
  {
   "cell_type": "code",
   "execution_count": 125,
   "id": "92b4d52d-802a-4515-9eee-7aa3a25f4857",
   "metadata": {},
   "outputs": [],
   "source": [
    "working_links=list(map(create_link,match_links))"
   ]
  },
  {
   "cell_type": "code",
   "execution_count": 126,
   "id": "9f24c039-9320-456b-9def-66f3f0572d1b",
   "metadata": {},
   "outputs": [
    {
     "data": {
      "text/plain": [
       "['https://www.cricbuzz.com/cricket-full-commentary/18121/srh-vs-rcb-1st-match-indian-premier-league-2017',\n",
       " 'https://www.cricbuzz.com/cricket-full-commentary/18122/rps-vs-mi-2nd-match-indian-premier-league-2017',\n",
       " 'https://www.cricbuzz.com/cricket-full-commentary/18123/gl-vs-kkr-3rd-match-indian-premier-league-2017',\n",
       " 'https://www.cricbuzz.com/cricket-full-commentary/18124/pbks-vs-rps-4th-match-indian-premier-league-2017',\n",
       " 'https://www.cricbuzz.com/cricket-full-commentary/18125/rcb-vs-dc-5th-match-indian-premier-league-2017',\n",
       " 'https://www.cricbuzz.com/cricket-full-commentary/18126/srh-vs-gl-6th-match-indian-premier-league-2017',\n",
       " 'https://www.cricbuzz.com/cricket-full-commentary/18127/mi-vs-kkr-7th-match-indian-premier-league-2017',\n",
       " 'https://www.cricbuzz.com/cricket-full-commentary/18128/pbks-vs-rcb-8th-match-indian-premier-league-2017',\n",
       " 'https://www.cricbuzz.com/cricket-full-commentary/18129/rps-vs-dc-9th-match-indian-premier-league-2017',\n",
       " 'https://www.cricbuzz.com/cricket-full-commentary/18130/mi-vs-srh-10th-match-indian-premier-league-2017',\n",
       " 'https://www.cricbuzz.com/cricket-full-commentary/18131/kkr-vs-pbks-11th-match-indian-premier-league-2017',\n",
       " 'https://www.cricbuzz.com/cricket-full-commentary/18132/rcb-vs-mi-12th-match-indian-premier-league-2017',\n",
       " 'https://www.cricbuzz.com/cricket-full-commentary/18133/gl-vs-rps-13th-match-indian-premier-league-2017',\n",
       " 'https://www.cricbuzz.com/cricket-full-commentary/18134/kkr-vs-srh-14th-match-indian-premier-league-2017',\n",
       " 'https://www.cricbuzz.com/cricket-full-commentary/18135/dc-vs-pbks-15th-match-indian-premier-league-2017',\n",
       " 'https://www.cricbuzz.com/cricket-full-commentary/18136/mi-vs-gl-16th-match-indian-premier-league-2017',\n",
       " 'https://www.cricbuzz.com/cricket-full-commentary/18137/rcb-vs-rps-17th-match-indian-premier-league-2017',\n",
       " 'https://www.cricbuzz.com/cricket-full-commentary/18138/dc-vs-kkr-18th-match-indian-premier-league-2017',\n",
       " 'https://www.cricbuzz.com/cricket-full-commentary/18139/srh-vs-pbks-19th-match-indian-premier-league-2017',\n",
       " 'https://www.cricbuzz.com/cricket-full-commentary/18140/gl-vs-rcb-20th-match-indian-premier-league-2017',\n",
       " 'https://www.cricbuzz.com/cricket-full-commentary/18141/srh-vs-dc-21st-match-indian-premier-league-2017',\n",
       " 'https://www.cricbuzz.com/cricket-full-commentary/18142/pbks-vs-mi-22nd-match-indian-premier-league-2017',\n",
       " 'https://www.cricbuzz.com/cricket-full-commentary/18143/kkr-vs-gl-23rd-match-indian-premier-league-2017',\n",
       " 'https://www.cricbuzz.com/cricket-full-commentary/18144/rps-vs-srh-24th-match-indian-premier-league-2017',\n",
       " 'https://www.cricbuzz.com/cricket-full-commentary/18145/mi-vs-dc-25th-match-indian-premier-league-2017',\n",
       " 'https://www.cricbuzz.com/cricket-full-commentary/18146/gl-vs-pbks-26th-match-indian-premier-league-2017',\n",
       " 'https://www.cricbuzz.com/cricket-full-commentary/18147/kkr-vs-rcb-27th-match-indian-premier-league-2017',\n",
       " 'https://www.cricbuzz.com/cricket-full-commentary/18148/mi-vs-rps-28th-match-indian-premier-league-2017',\n",
       " 'https://www.cricbuzz.com/cricket-full-commentary/18149/rcb-vs-srh-29th-match-indian-premier-league-2017',\n",
       " 'https://www.cricbuzz.com/cricket-full-commentary/18150/rps-vs-kkr-30th-match-indian-premier-league-2017',\n",
       " 'https://www.cricbuzz.com/cricket-full-commentary/18151/rcb-vs-gl-31st-match-indian-premier-league-2017',\n",
       " 'https://www.cricbuzz.com/cricket-full-commentary/18152/kkr-vs-dc-32nd-match-indian-premier-league-2017',\n",
       " 'https://www.cricbuzz.com/cricket-full-commentary/18153/pbks-vs-srh-33rd-match-indian-premier-league-2017',\n",
       " 'https://www.cricbuzz.com/cricket-full-commentary/18154/rps-vs-rcb-34th-match-indian-premier-league-2017',\n",
       " 'https://www.cricbuzz.com/cricket-full-commentary/18155/gl-vs-mi-35th-match-indian-premier-league-2017',\n",
       " 'https://www.cricbuzz.com/cricket-full-commentary/18156/pbks-vs-dc-36th-match-indian-premier-league-2017',\n",
       " 'https://www.cricbuzz.com/cricket-full-commentary/18157/srh-vs-kkr-37th-match-indian-premier-league-2017',\n",
       " 'https://www.cricbuzz.com/cricket-full-commentary/18158/mi-vs-rcb-38th-match-indian-premier-league-2017',\n",
       " 'https://www.cricbuzz.com/cricket-full-commentary/18159/rps-vs-gl-39th-match-indian-premier-league-2017',\n",
       " 'https://www.cricbuzz.com/cricket-full-commentary/18160/dc-vs-srh-40th-match-indian-premier-league-2017',\n",
       " 'https://www.cricbuzz.com/cricket-full-commentary/18161/kkr-vs-rps-41st-match-indian-premier-league-2017',\n",
       " 'https://www.cricbuzz.com/cricket-full-commentary/18162/dc-vs-gl-42nd-match-indian-premier-league-2017',\n",
       " 'https://www.cricbuzz.com/cricket-full-commentary/18163/rcb-vs-pbks-43rd-match-indian-premier-league-2017',\n",
       " 'https://www.cricbuzz.com/cricket-full-commentary/18164/srh-vs-rps-44th-match-indian-premier-league-2017',\n",
       " 'https://www.cricbuzz.com/cricket-full-commentary/18165/dc-vs-mi-45th-match-indian-premier-league-2017',\n",
       " 'https://www.cricbuzz.com/cricket-full-commentary/18166/rcb-vs-kkr-46th-match-indian-premier-league-2017',\n",
       " 'https://www.cricbuzz.com/cricket-full-commentary/18167/pbks-vs-gl-47th-match-indian-premier-league-2017',\n",
       " 'https://www.cricbuzz.com/cricket-full-commentary/18168/srh-vs-mi-48th-match-indian-premier-league-2017',\n",
       " 'https://www.cricbuzz.com/cricket-full-commentary/18169/pbks-vs-kkr-49th-match-indian-premier-league-2017',\n",
       " 'https://www.cricbuzz.com/cricket-full-commentary/18170/gl-vs-dc-50th-match-indian-premier-league-2017',\n",
       " 'https://www.cricbuzz.com/cricket-full-commentary/18171/mi-vs-pbks-51st-match-indian-premier-league-2017',\n",
       " 'https://www.cricbuzz.com/cricket-full-commentary/18172/dc-vs-rps-52nd-match-indian-premier-league-2017',\n",
       " 'https://www.cricbuzz.com/cricket-full-commentary/18173/gl-vs-srh-53rd-match-indian-premier-league-2017',\n",
       " 'https://www.cricbuzz.com/cricket-full-commentary/18174/kkr-vs-mi-54th-match-indian-premier-league-2017',\n",
       " 'https://www.cricbuzz.com/cricket-full-commentary/18175/rps-vs-pbks-55th-match-indian-premier-league-2017',\n",
       " 'https://www.cricbuzz.com/cricket-full-commentary/18176/dc-vs-rcb-56th-match-indian-premier-league-2017',\n",
       " 'https://www.cricbuzz.com/cricket-full-commentary/18177/mi-vs-rps-qualifier-1-indian-premier-league-2017',\n",
       " 'https://www.cricbuzz.com/cricket-full-commentary/18178/srh-vs-kkr-eliminator-indian-premier-league-2017',\n",
       " 'https://www.cricbuzz.com/cricket-full-commentary/18179/mi-vs-kkr-qualifier-2-indian-premier-league-2017',\n",
       " 'https://www.cricbuzz.com/cricket-full-commentary/18180/rps-vs-mi-final-indian-premier-league-2017']"
      ]
     },
     "execution_count": 126,
     "metadata": {},
     "output_type": "execute_result"
    }
   ],
   "source": [
    "working_links"
   ]
  },
  {
   "cell_type": "code",
   "execution_count": 127,
   "id": "2c387146-6531-4dae-a4b4-5d4a51e72f8d",
   "metadata": {},
   "outputs": [
    {
     "data": {
      "text/plain": [
       "60"
      ]
     },
     "execution_count": 127,
     "metadata": {},
     "output_type": "execute_result"
    }
   ],
   "source": [
    "len(working_links)"
   ]
  },
  {
   "cell_type": "code",
   "execution_count": 128,
   "id": "86d421ba",
   "metadata": {},
   "outputs": [],
   "source": [
    "with open(os.path.join('match_links','2017_season_match_links.txt'),'w') as file:\n",
    "    for i in working_links:\n",
    "        file.write(i+'\\n')\n"
   ]
  },
  {
   "cell_type": "code",
   "execution_count": null,
   "id": "248ec418",
   "metadata": {},
   "outputs": [],
   "source": []
  }
 ],
 "metadata": {
  "kernelspec": {
   "display_name": "Python 3 (ipykernel)",
   "language": "python",
   "name": "python3"
  },
  "language_info": {
   "codemirror_mode": {
    "name": "ipython",
    "version": 3
   },
   "file_extension": ".py",
   "mimetype": "text/x-python",
   "name": "python",
   "nbconvert_exporter": "python",
   "pygments_lexer": "ipython3",
   "version": "3.9.12"
  }
 },
 "nbformat": 4,
 "nbformat_minor": 5
}
