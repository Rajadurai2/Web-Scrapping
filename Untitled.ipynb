{
 "cells": [
  {
   "cell_type": "code",
   "execution_count": 1,
   "id": "5858d39e",
   "metadata": {},
   "outputs": [],
   "source": [
    "from bs4 import BeautifulSoup\n",
    "import requests"
   ]
  },
  {
   "cell_type": "code",
   "execution_count": 2,
   "id": "5afb948d",
   "metadata": {},
   "outputs": [],
   "source": [
    "cricbuzz_url='https://www.cricbuzz.com/cricket-series/5945/indian-premier-league-2023/matches'"
   ]
  },
  {
   "cell_type": "code",
   "execution_count": 10,
   "id": "77f2bbb2",
   "metadata": {},
   "outputs": [],
   "source": [
    "page=requests.get(cricbuzz_url)"
   ]
  },
  {
   "cell_type": "code",
   "execution_count": 11,
   "id": "df1b0538",
   "metadata": {},
   "outputs": [],
   "source": [
    "soup=BeautifulSoup(page.content,'html.parser')\n",
    "match_links=[]\n",
    "div_tag=soup.find_all('div',{'class':'cb-col-60 cb-col cb-srs-mtchs-tm'})\n",
    "for a_tag in div_tag:\n",
    "    match_links.append(a_tag.a['href'])"
   ]
  },
  {
   "cell_type": "code",
   "execution_count": 12,
   "id": "3eb9da06",
   "metadata": {},
   "outputs": [],
   "source": [
    "def create_link(link):\n",
    "    a=link.split('/')[2:]\n",
    "    a='/'.join(a)\n",
    "    http='https://www.cricbuzz.com/cricket-full-commentary/'\n",
    "    result=http+a\n",
    "    return result"
   ]
  },
  {
   "cell_type": "code",
   "execution_count": 13,
   "id": "4371ad0e",
   "metadata": {},
   "outputs": [],
   "source": [
    "working_links=list(map(create_link,match_links))"
   ]
  },
  {
   "cell_type": "code",
   "execution_count": 15,
   "id": "812d5da4",
   "metadata": {},
   "outputs": [
    {
     "data": {
      "text/plain": [
       "75"
      ]
     },
     "execution_count": 15,
     "metadata": {},
     "output_type": "execute_result"
    }
   ],
   "source": [
    "len(working_links)"
   ]
  },
  {
   "cell_type": "code",
   "execution_count": null,
   "id": "cb2388f5",
   "metadata": {},
   "outputs": [],
   "source": []
  }
 ],
 "metadata": {
  "kernelspec": {
   "display_name": "Python 3 (ipykernel)",
   "language": "python",
   "name": "python3"
  },
  "language_info": {
   "codemirror_mode": {
    "name": "ipython",
    "version": 3
   },
   "file_extension": ".py",
   "mimetype": "text/x-python",
   "name": "python",
   "nbconvert_exporter": "python",
   "pygments_lexer": "ipython3",
   "version": "3.9.12"
  }
 },
 "nbformat": 4,
 "nbformat_minor": 5
}
