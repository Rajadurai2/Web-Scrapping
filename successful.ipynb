{
 "cells": [
  {
   "cell_type": "code",
   "execution_count": 1,
   "id": "2947dd8e-1fd3-43ca-837c-c57644163a7b",
   "metadata": {},
   "outputs": [],
   "source": [
    "import pandas as pd"
   ]
  },
  {
   "cell_type": "code",
   "execution_count": 2,
   "id": "525d0b6e-bf44-469e-8d50-b8857def6685",
   "metadata": {},
   "outputs": [],
   "source": [
    "from selenium import webdriver\n",
    "from bs4 import BeautifulSoup\n",
    "import pandas as pd\n",
    "import re\n",
    "import os\n",
    "import requests\n",
    "import time\n",
    "from collections import defaultdict\n",
    "from selenium.webdriver.common.by import By"
   ]
  },
  {
   "cell_type": "code",
   "execution_count": 3,
   "id": "9b98e5a6-b740-4f1d-a2e4-7fe6e00a9878",
   "metadata": {},
   "outputs": [],
   "source": [
    "##Options for chromedriver, when using selenium, does not matter when using Collab since it acts more like a remote machine\n",
    "chrome_options = webdriver.ChromeOptions()\n",
    "chrome_options.add_argument('--headless')\n",
    "chrome_options.add_argument('--no-sandbox')\n",
    "chrome_options.add_argument('--disable-dev-shm-usage')"
   ]
  },
  {
   "cell_type": "code",
   "execution_count": 4,
   "id": "87e93e79-5f28-4add-a108-e9286aa2779e",
   "metadata": {},
   "outputs": [],
   "source": [
    "driver = webdriver.Chrome('chromedriver',options=chrome_options)"
   ]
  },
  {
   "cell_type": "code",
   "execution_count": 5,
   "id": "fda86e9e-a0c8-4646-ad5c-5fd3ec61da8c",
   "metadata": {},
   "outputs": [],
   "source": [
    "cricbuzz_highlights_url='https://www.cricbuzz.com/cricket-full-commentary/45901/gt-vs-lsg-4th-match-indian-premier-league-2022'"
   ]
  },
  {
   "cell_type": "code",
   "execution_count": null,
   "id": "5420a40c-3189-49b9-b144-0a226fb8b880",
   "metadata": {},
   "outputs": [],
   "source": [
    "#https://www.cricbuzz.com/cricket-series/5945/indian-premier-league-2023"
   ]
  },
  {
   "cell_type": "code",
   "execution_count": null,
   "id": "9be1d42e-9f07-4fa4-adcb-11652d499b59",
   "metadata": {},
   "outputs": [],
   "source": []
  },
  {
   "cell_type": "code",
   "execution_count": 6,
   "id": "d6af53fa-8622-448b-a8c7-12f4d4487e15",
   "metadata": {},
   "outputs": [],
   "source": [
    "driver.get(cricbuzz_highlights_url)"
   ]
  },
  {
   "cell_type": "code",
   "execution_count": 7,
   "id": "54f2ad28-401a-45fe-92e8-de0b36d46406",
   "metadata": {},
   "outputs": [],
   "source": [
    "cricbuzz_soup= BeautifulSoup(driver.page_source, 'html.parser')"
   ]
  },
  {
   "cell_type": "code",
   "execution_count": 8,
   "id": "851ba06a-9538-4e06-a8fe-d7308bca8cdd",
   "metadata": {},
   "outputs": [],
   "source": [
    "div_tag=cricbuzz_soup.find_all('div',{'class':\"cb-col cb-col-100 ng-scope\"})"
   ]
  },
  {
   "cell_type": "code",
   "execution_count": 9,
   "id": "9fb1721c-252f-4ad2-93b8-fa63553a02d5",
   "metadata": {},
   "outputs": [],
   "source": [
    "#class=\"cb-col cb-col-100 ng-scope\"\n",
    "#class=\"cb-col cb-col-100 ng-scope\"\n",
    "#class=\"cb-col cb-col-100 ng-scope\"\n",
    "#class=\"cb-com-ln ng-binding ng-scope cb-col cb-col-90\"\n",
    "#class=\"cb-col cb-col-20\" match box\n",
    "#class=cb-nav-subhdr cb-font-12  header \n",
    "#class=\"cb-billing-plans-text cb-team-lft-item\" team names"
   ]
  },
  {
   "cell_type": "code",
   "execution_count": 10,
   "id": "cf291d6d-8d23-4fea-8de3-6b045fc0ec1c",
   "metadata": {},
   "outputs": [
    {
     "data": {
      "text/plain": [
       "['Indian Premier League 2022', 'Wankhede Stadium,Mumbai', 'Mar 28,']"
      ]
     },
     "execution_count": 10,
     "metadata": {},
     "output_type": "execute_result"
    }
   ],
   "source": [
    "match_metadata_values=[c.next_element.next_element.next_element.text.replace('\\xa0','') for c in cricbuzz_soup.find_all('span',{'class':'text-bold'})]\n",
    "\n",
    "match_metadata_values\n",
    "\n"
   ]
  },
  {
   "cell_type": "code",
   "execution_count": 11,
   "id": "319e23bc-9690-4ca4-b9d6-42ff97c53e03",
   "metadata": {},
   "outputs": [],
   "source": [
    "year=match_metadata_values[0].split()[-1]\n",
    "series=\"IPL\"\n",
    "venue=match_metadata_values[1]\n",
    "date=match_metadata_values[2]+year"
   ]
  },
  {
   "cell_type": "code",
   "execution_count": 12,
   "id": "134d5f23-b16d-4143-9018-f93c3cea8547",
   "metadata": {},
   "outputs": [],
   "source": [
    "def match_no():\n",
    "    team_names=cricbuzz_soup.find('div',{'class':\"cb-billing-plans-text cb-team-lft-item\"})\n",
    "    teams=team_names.text.split(',')[1]\n",
    "    return teams.strip()[0:3]"
   ]
  },
  {
   "cell_type": "code",
   "execution_count": 13,
   "id": "3df4da2f-8c1b-4fca-96b2-f8b688844c0d",
   "metadata": {},
   "outputs": [],
   "source": [
    "#cb-com-ln ng-binding ng-scope cb-col cb-col-90\n",
    "def find_toss():\n",
    "    toss=cricbuzz_soup.find_all('p',{'class':\"cb-com-ln ng-binding ng-scope cb-col cb-col-90\"})\n",
    "    for i in toss:\n",
    "        if \"won the toss\" in i.get_text().lower():\n",
    "            return i.get_text()\n"
   ]
  },
  {
   "cell_type": "code",
   "execution_count": 14,
   "id": "7b87f44a-b9b0-496c-9cd1-3091fcc0d233",
   "metadata": {},
   "outputs": [],
   "source": [
    "def team_names():\n",
    "    team_names=cricbuzz_soup.find('div',{'class':\"cb-billing-plans-text cb-team-lft-item\"})\n",
    "    teams=team_names.text.split(',')[0]\n",
    "    teams=teams.split('vs')\n",
    "    teams=[team.strip() for team in teams]\n",
    "    return teams"
   ]
  },
  {
   "cell_type": "code",
   "execution_count": 15,
   "id": "f34e0fb0-0b5c-4327-95df-1b9cccc57fea",
   "metadata": {},
   "outputs": [],
   "source": [
    "def match_info():\n",
    "    match_details=cricbuzz_soup.find('div',{'class':\"cb-col cb-col-20\"})\n",
    "    match_info=\"\"\n",
    "    for i in match_details:\n",
    "        match_info+=i.get_text()\n",
    "    return match_info    \n"
   ]
  },
  {
   "cell_type": "code",
   "execution_count": 16,
   "id": "e4abb21e-c27a-4c4f-9962-00a835b24d74",
   "metadata": {},
   "outputs": [],
   "source": [
    "def find_team_subs(team):\n",
    "    preview_obj=cricbuzz_soup.find_all('p',{'class':'cb-com-ln ng-binding ng-scope cb-col cb-col-90'})\n",
    "    for tag in preview_obj:\n",
    "        if tag.b==None:\n",
    "            pass\n",
    "        else:\n",
    "            if \"subs\" in tag.get_text().lower():\n",
    "                print(tag.get_text())\n",
    "                return tag.get_text().split(',')[0:]"
   ]
  },
  {
   "cell_type": "code",
   "execution_count": 17,
   "id": "fdd9c97e-1b99-4163-bf38-359ffda003c8",
   "metadata": {},
   "outputs": [],
   "source": [
    "def find_team_playing11(team):\n",
    "    preview_obj=cricbuzz_soup.find_all('p',{'class':'cb-com-ln ng-binding ng-scope cb-col cb-col-90'})\n",
    "    for tag in preview_obj:\n",
    "        if tag.b==None:\n",
    "            pass\n",
    "        else:\n",
    "            if team+\" (Playing XI)\" in tag.get_text():\n",
    "                return tag.get_text().split(',')[0:]\n",
    "    "
   ]
  },
  {
   "cell_type": "code",
   "execution_count": 18,
   "id": "622d8867-73e2-4cce-9696-1bcf5a712928",
   "metadata": {},
   "outputs": [],
   "source": [
    "df=pd.DataFrame(columns=['match_no','series','season','team_a','team_b','team_a_11','team_b_11','team_a_subs','team_b_subs','venue','date','toss'])"
   ]
  },
  {
   "cell_type": "code",
   "execution_count": 19,
   "id": "65b5e5f7-4642-4d5e-ae31-f30fdcc676da",
   "metadata": {},
   "outputs": [],
   "source": [
    "match =match_no()\n",
    "df.at[1,'match_no']=match"
   ]
  },
  {
   "cell_type": "code",
   "execution_count": 20,
   "id": "6f596119-5146-4a5e-aafc-027a65d62745",
   "metadata": {},
   "outputs": [],
   "source": [
    "team_a,team_b=team_names()"
   ]
  },
  {
   "cell_type": "code",
   "execution_count": 21,
   "id": "79b0d797-cdc5-4197-9766-5ba9c201c7ec",
   "metadata": {},
   "outputs": [],
   "source": [
    "df.at[1,'team_a']=team_a\n",
    "df.at[1,'team_b']=team_b"
   ]
  },
  {
   "cell_type": "code",
   "execution_count": 22,
   "id": "fc651547-6294-41e7-8b74-d84eff0eba5b",
   "metadata": {},
   "outputs": [],
   "source": [
    "df.at[1,'team_a_11']=find_team_playing11(team_a)\n",
    "df.at[1,'team_b_11']=find_team_playing11(team_b)\n",
    "df.at[1,'team_a_subs']=find_team_subs(team_a)\n",
    "df.at[1,'team_b_subs']=find_team_subs(team_b)\n",
    "df.at[1,'series']=series\n",
    "df.at[1,'season']=year\n",
    "df.at[1,'venue']=venue\n",
    "df.at[1,'date']=date\n",
    "df.at[1,'toss']=find_toss()"
   ]
  },
  {
   "cell_type": "code",
   "execution_count": 23,
   "id": "18de3646-426b-486f-920b-110461742b32",
   "metadata": {},
   "outputs": [
    {
     "data": {
      "text/html": [
       "<div>\n",
       "<style scoped>\n",
       "    .dataframe tbody tr th:only-of-type {\n",
       "        vertical-align: middle;\n",
       "    }\n",
       "\n",
       "    .dataframe tbody tr th {\n",
       "        vertical-align: top;\n",
       "    }\n",
       "\n",
       "    .dataframe thead th {\n",
       "        text-align: right;\n",
       "    }\n",
       "</style>\n",
       "<table border=\"1\" class=\"dataframe\">\n",
       "  <thead>\n",
       "    <tr style=\"text-align: right;\">\n",
       "      <th></th>\n",
       "      <th>match_no</th>\n",
       "      <th>series</th>\n",
       "      <th>season</th>\n",
       "      <th>team_a</th>\n",
       "      <th>team_b</th>\n",
       "      <th>team_a_11</th>\n",
       "      <th>team_b_11</th>\n",
       "      <th>team_a_subs</th>\n",
       "      <th>team_b_subs</th>\n",
       "      <th>venue</th>\n",
       "      <th>date</th>\n",
       "      <th>toss</th>\n",
       "    </tr>\n",
       "  </thead>\n",
       "  <tbody>\n",
       "    <tr>\n",
       "      <th>1</th>\n",
       "      <td>4th</td>\n",
       "      <td>IPL</td>\n",
       "      <td>2022</td>\n",
       "      <td>Gujarat Titans</td>\n",
       "      <td>Lucknow Super Giants</td>\n",
       "      <td>[Gujarat Titans (Playing XI): Shubman Gill,  M...</td>\n",
       "      <td>[Lucknow Super Giants (Playing XI): KL Rahul(c...</td>\n",
       "      <td>None</td>\n",
       "      <td>None</td>\n",
       "      <td>Wankhede Stadium,Mumbai</td>\n",
       "      <td>Mar 28,2022</td>\n",
       "      <td>Gujarat Titans have won the toss and have opte...</td>\n",
       "    </tr>\n",
       "  </tbody>\n",
       "</table>\n",
       "</div>"
      ],
      "text/plain": [
       "  match_no series season          team_a                team_b  \\\n",
       "1      4th    IPL   2022  Gujarat Titans  Lucknow Super Giants   \n",
       "\n",
       "                                           team_a_11  \\\n",
       "1  [Gujarat Titans (Playing XI): Shubman Gill,  M...   \n",
       "\n",
       "                                           team_b_11 team_a_subs team_b_subs  \\\n",
       "1  [Lucknow Super Giants (Playing XI): KL Rahul(c...        None        None   \n",
       "\n",
       "                     venue         date  \\\n",
       "1  Wankhede Stadium,Mumbai  Mar 28,2022   \n",
       "\n",
       "                                                toss  \n",
       "1  Gujarat Titans have won the toss and have opte...  "
      ]
     },
     "metadata": {},
     "output_type": "display_data"
    }
   ],
   "source": [
    "display(df)"
   ]
  },
  {
   "cell_type": "code",
   "execution_count": 24,
   "id": "42c240d4-97ab-4f3e-9bba-480e58194aea",
   "metadata": {},
   "outputs": [
    {
     "data": {
      "text/plain": [
       "['Gujarat Titans (Playing XI): Shubman Gill',\n",
       " ' Matthew Wade(w)',\n",
       " ' Vijay Shankar',\n",
       " ' Abhinav Manohar',\n",
       " ' Hardik Pandya(c)',\n",
       " ' David Miller',\n",
       " ' Rahul Tewatia',\n",
       " ' Rashid Khan',\n",
       " ' Lockie Ferguson',\n",
       " ' Varun Aaron',\n",
       " ' Mohammed Shami']"
      ]
     },
     "execution_count": 24,
     "metadata": {},
     "output_type": "execute_result"
    }
   ],
   "source": [
    "df.loc[1,'team_a_11']"
   ]
  },
  {
   "cell_type": "code",
   "execution_count": 25,
   "id": "32480488-66b1-4c67-ad81-6205d6b1f61a",
   "metadata": {},
   "outputs": [
    {
     "data": {
      "text/plain": [
       "['LSG Inns', 'GT Inns']"
      ]
     },
     "execution_count": 25,
     "metadata": {},
     "output_type": "execute_result"
    }
   ],
   "source": [
    "link_text=[]\n",
    "div_tag=cricbuzz_soup.find_all('div',{\"class\":\"cb-hig-pil ng-scope\"})\n",
    "for a_tag in div_tag:\n",
    "    link_text.append(a_tag.a.string)\n",
    "link_text=link_text[1:]\n",
    "link_text"
   ]
  },
  {
   "cell_type": "code",
   "execution_count": 26,
   "id": "cdc72495-db2d-4276-abd1-f32c31d3ccb8",
   "metadata": {},
   "outputs": [
    {
     "name": "stdout",
     "output_type": "stream",
     "text": [
      "LSG Inns  Analysed\n",
      "GT Inns  Analysed\n",
      "Full scraping of key events complete...\n"
     ]
    }
   ],
   "source": [
    "cricbuzz_page_soup=[]\n",
    "##Iterate through the link textss\n",
    "for l in link_text:\n",
    "        ##Click the innings text\n",
    "        print(l,' Analysed')\n",
    "        loadMoreButton=driver.find_element(By.LINK_TEXT,l)\n",
    "        loadMoreButton.click()\n",
    "        ##Click the 'dropped catches' text box, or the option chosen above. \n",
    "        #l2=driver.find_element(By.LINK_TEXT,option)\n",
    "        #l2.click()\n",
    "        time.sleep(5)\n",
    "        ##Collect the soup of the existing view that has been clicked by the driver element\n",
    "        cricbuzz_soup_inner=BeautifulSoup(driver.page_source, 'html.parser')\n",
    "\n",
    "        ##Append each of the page contents to a list\n",
    "        cricbuzz_page_soup.append(cricbuzz_soup_inner)\n",
    "\n",
    "##Scraping has been completed\n",
    "print (\"Full scraping of key events complete...\")\n",
    "##Stop the driver element\n",
    "driver.quit()"
   ]
  },
  {
   "cell_type": "code",
   "execution_count": 31,
   "id": "428afdec-0f29-4d70-8211-9b5ec9959afa",
   "metadata": {},
   "outputs": [],
   "source": [
    "match_commentary_df=pd.DataFrame()\n",
    "for inn_num,cricbuzz_highlights_soup in enumerate(cricbuzz_page_soup):\n",
    "    cricbuzz_innings_soup=cricbuzz_highlights_soup.find_all('div',{'class':'cb-col cb-col-8 text-bold ng-scope'})\n",
    "    ball_overs=[]\n",
    "    ball_commentary=[]\n",
    "    for cinn_soup in cricbuzz_innings_soup:\n",
    "        ball_overs.append(cinn_soup.text)\n",
    "        ball_commentary.append(str(cinn_soup.find_next('p').text))\n",
    "        #ball_commentry.append()\n",
    "    innings_commentary_df=pd.DataFrame({'ball':ball_overs,'Commentary Text':ball_commentary})\n",
    "    innings_commentary_df['ball']=innings_commentary_df['ball']\n",
    "    innings_commentary_df['innings']=link_text[inn_num]\n",
    "    match_commentary_df=pd.concat([match_commentary_df,innings_commentary_df])"
   ]
  },
  {
   "cell_type": "code",
   "execution_count": 32,
   "id": "8755a232-65c7-43e4-8c00-6ddd7ede279a",
   "metadata": {},
   "outputs": [
    {
     "data": {
      "text/html": [
       "<div>\n",
       "<style scoped>\n",
       "    .dataframe tbody tr th:only-of-type {\n",
       "        vertical-align: middle;\n",
       "    }\n",
       "\n",
       "    .dataframe tbody tr th {\n",
       "        vertical-align: top;\n",
       "    }\n",
       "\n",
       "    .dataframe thead th {\n",
       "        text-align: right;\n",
       "    }\n",
       "</style>\n",
       "<table border=\"1\" class=\"dataframe\">\n",
       "  <thead>\n",
       "    <tr style=\"text-align: right;\">\n",
       "      <th></th>\n",
       "      <th>ball</th>\n",
       "      <th>Commentary Text</th>\n",
       "      <th>innings</th>\n",
       "    </tr>\n",
       "  </thead>\n",
       "  <tbody>\n",
       "    <tr>\n",
       "      <th>0</th>\n",
       "      <td>19.6</td>\n",
       "      <td>Aaron to Krunal Pandya, 1 run, hard length an...</td>\n",
       "      <td>LSG Inns</td>\n",
       "    </tr>\n",
       "    <tr>\n",
       "      <th>1</th>\n",
       "      <td>19.5</td>\n",
       "      <td>Aaron to Chameera, 1 run, banged into the sur...</td>\n",
       "      <td>LSG Inns</td>\n",
       "    </tr>\n",
       "    <tr>\n",
       "      <th>2</th>\n",
       "      <td>19.4</td>\n",
       "      <td>Aaron to Ayush Badoni, out Caught by Hardik P...</td>\n",
       "      <td>LSG Inns</td>\n",
       "    </tr>\n",
       "    <tr>\n",
       "      <th>3</th>\n",
       "      <td>19.3</td>\n",
       "      <td>Aaron to Krunal Pandya, 1 run, slower short o...</td>\n",
       "      <td>LSG Inns</td>\n",
       "    </tr>\n",
       "    <tr>\n",
       "      <th>4</th>\n",
       "      <td>19.2</td>\n",
       "      <td>Aaron to Krunal Pandya, FOUR, not sure what h...</td>\n",
       "      <td>LSG Inns</td>\n",
       "    </tr>\n",
       "    <tr>\n",
       "      <th>...</th>\n",
       "      <td>...</td>\n",
       "      <td>...</td>\n",
       "      <td>...</td>\n",
       "    </tr>\n",
       "    <tr>\n",
       "      <th>240</th>\n",
       "      <td>0.4</td>\n",
       "      <td>Chameera to Shankar, no run, 140ks good lengt...</td>\n",
       "      <td>GT Inns</td>\n",
       "    </tr>\n",
       "    <tr>\n",
       "      <th>241</th>\n",
       "      <td>0.4</td>\n",
       "      <td>Chameera to Shankar, wide, short and down the...</td>\n",
       "      <td>GT Inns</td>\n",
       "    </tr>\n",
       "    <tr>\n",
       "      <th>242</th>\n",
       "      <td>0.3</td>\n",
       "      <td>Chameera to Shubman Gill, out Caught by Hooda...</td>\n",
       "      <td>GT Inns</td>\n",
       "    </tr>\n",
       "    <tr>\n",
       "      <th>243</th>\n",
       "      <td>0.2</td>\n",
       "      <td>Chameera to Shubman Gill, no run, 137ks on a ...</td>\n",
       "      <td>GT Inns</td>\n",
       "    </tr>\n",
       "    <tr>\n",
       "      <th>244</th>\n",
       "      <td>0.1</td>\n",
       "      <td>Chameera to Shubman Gill, leg byes, FOUR, poor...</td>\n",
       "      <td>GT Inns</td>\n",
       "    </tr>\n",
       "  </tbody>\n",
       "</table>\n",
       "<p>245 rows × 3 columns</p>\n",
       "</div>"
      ],
      "text/plain": [
       "       ball                                    Commentary Text   innings\n",
       "0     19.6    Aaron to Krunal Pandya, 1 run, hard length an...  LSG Inns\n",
       "1     19.5    Aaron to Chameera, 1 run, banged into the sur...  LSG Inns\n",
       "2     19.4    Aaron to Ayush Badoni, out Caught by Hardik P...  LSG Inns\n",
       "3     19.3    Aaron to Krunal Pandya, 1 run, slower short o...  LSG Inns\n",
       "4     19.2    Aaron to Krunal Pandya, FOUR, not sure what h...  LSG Inns\n",
       "..      ...                                                ...       ...\n",
       "240    0.4    Chameera to Shankar, no run, 140ks good lengt...   GT Inns\n",
       "241    0.4    Chameera to Shankar, wide, short and down the...   GT Inns\n",
       "242    0.3    Chameera to Shubman Gill, out Caught by Hooda...   GT Inns\n",
       "243    0.2    Chameera to Shubman Gill, no run, 137ks on a ...   GT Inns\n",
       "244    0.1   Chameera to Shubman Gill, leg byes, FOUR, poor...   GT Inns\n",
       "\n",
       "[245 rows x 3 columns]"
      ]
     },
     "execution_count": 32,
     "metadata": {},
     "output_type": "execute_result"
    }
   ],
   "source": [
    "match_commentary_df.reset_index(inplace=True,drop=True)\n",
    "match_commentary_df"
   ]
  },
  {
   "cell_type": "code",
   "execution_count": 33,
   "id": "52ed1900-0b92-466a-9e54-a589c2e24eb6",
   "metadata": {},
   "outputs": [
    {
     "data": {
      "text/html": [
       "<div>\n",
       "<style scoped>\n",
       "    .dataframe tbody tr th:only-of-type {\n",
       "        vertical-align: middle;\n",
       "    }\n",
       "\n",
       "    .dataframe tbody tr th {\n",
       "        vertical-align: top;\n",
       "    }\n",
       "\n",
       "    .dataframe thead th {\n",
       "        text-align: right;\n",
       "    }\n",
       "</style>\n",
       "<table border=\"1\" class=\"dataframe\">\n",
       "  <thead>\n",
       "    <tr style=\"text-align: right;\">\n",
       "      <th></th>\n",
       "      <th>ball</th>\n",
       "      <th>Commentary Text</th>\n",
       "      <th>innings</th>\n",
       "    </tr>\n",
       "  </thead>\n",
       "  <tbody>\n",
       "    <tr>\n",
       "      <th>0</th>\n",
       "      <td>19.6</td>\n",
       "      <td>Aaron to Krunal Pandya, 1 run, hard length an...</td>\n",
       "      <td>LSG Inns</td>\n",
       "    </tr>\n",
       "    <tr>\n",
       "      <th>1</th>\n",
       "      <td>19.5</td>\n",
       "      <td>Aaron to Chameera, 1 run, banged into the sur...</td>\n",
       "      <td>LSG Inns</td>\n",
       "    </tr>\n",
       "    <tr>\n",
       "      <th>2</th>\n",
       "      <td>19.4</td>\n",
       "      <td>Aaron to Ayush Badoni, out Caught by Hardik P...</td>\n",
       "      <td>LSG Inns</td>\n",
       "    </tr>\n",
       "    <tr>\n",
       "      <th>3</th>\n",
       "      <td>19.3</td>\n",
       "      <td>Aaron to Krunal Pandya, 1 run, slower short o...</td>\n",
       "      <td>LSG Inns</td>\n",
       "    </tr>\n",
       "    <tr>\n",
       "      <th>4</th>\n",
       "      <td>19.2</td>\n",
       "      <td>Aaron to Krunal Pandya, FOUR, not sure what h...</td>\n",
       "      <td>LSG Inns</td>\n",
       "    </tr>\n",
       "    <tr>\n",
       "      <th>...</th>\n",
       "      <td>...</td>\n",
       "      <td>...</td>\n",
       "      <td>...</td>\n",
       "    </tr>\n",
       "    <tr>\n",
       "      <th>240</th>\n",
       "      <td>0.4</td>\n",
       "      <td>Chameera to Shankar, no run, 140ks good lengt...</td>\n",
       "      <td>GT Inns</td>\n",
       "    </tr>\n",
       "    <tr>\n",
       "      <th>241</th>\n",
       "      <td>0.4</td>\n",
       "      <td>Chameera to Shankar, wide, short and down the...</td>\n",
       "      <td>GT Inns</td>\n",
       "    </tr>\n",
       "    <tr>\n",
       "      <th>242</th>\n",
       "      <td>0.3</td>\n",
       "      <td>Chameera to Shubman Gill, out Caught by Hooda...</td>\n",
       "      <td>GT Inns</td>\n",
       "    </tr>\n",
       "    <tr>\n",
       "      <th>243</th>\n",
       "      <td>0.2</td>\n",
       "      <td>Chameera to Shubman Gill, no run, 137ks on a ...</td>\n",
       "      <td>GT Inns</td>\n",
       "    </tr>\n",
       "    <tr>\n",
       "      <th>244</th>\n",
       "      <td>0.1</td>\n",
       "      <td>Chameera to Shubman Gill, leg byes, FOUR, poor...</td>\n",
       "      <td>GT Inns</td>\n",
       "    </tr>\n",
       "  </tbody>\n",
       "</table>\n",
       "<p>245 rows × 3 columns</p>\n",
       "</div>"
      ],
      "text/plain": [
       "       ball                                    Commentary Text   innings\n",
       "0     19.6    Aaron to Krunal Pandya, 1 run, hard length an...  LSG Inns\n",
       "1     19.5    Aaron to Chameera, 1 run, banged into the sur...  LSG Inns\n",
       "2     19.4    Aaron to Ayush Badoni, out Caught by Hardik P...  LSG Inns\n",
       "3     19.3    Aaron to Krunal Pandya, 1 run, slower short o...  LSG Inns\n",
       "4     19.2    Aaron to Krunal Pandya, FOUR, not sure what h...  LSG Inns\n",
       "..      ...                                                ...       ...\n",
       "240    0.4    Chameera to Shankar, no run, 140ks good lengt...   GT Inns\n",
       "241    0.4    Chameera to Shankar, wide, short and down the...   GT Inns\n",
       "242    0.3    Chameera to Shubman Gill, out Caught by Hooda...   GT Inns\n",
       "243    0.2    Chameera to Shubman Gill, no run, 137ks on a ...   GT Inns\n",
       "244    0.1   Chameera to Shubman Gill, leg byes, FOUR, poor...   GT Inns\n",
       "\n",
       "[245 rows x 3 columns]"
      ]
     },
     "execution_count": 33,
     "metadata": {},
     "output_type": "execute_result"
    }
   ],
   "source": [
    "match_commentary_df"
   ]
  },
  {
   "cell_type": "code",
   "execution_count": null,
   "id": "243cf9af-743b-4d24-942c-70fdc4800452",
   "metadata": {},
   "outputs": [],
   "source": []
  },
  {
   "cell_type": "code",
   "execution_count": null,
   "id": "dfc79cfe-56dc-4428-9632-5d14386df87e",
   "metadata": {},
   "outputs": [],
   "source": []
  }
 ],
 "metadata": {
  "kernelspec": {
   "display_name": "Python 3 (ipykernel)",
   "language": "python",
   "name": "python3"
  },
  "language_info": {
   "codemirror_mode": {
    "name": "ipython",
    "version": 3
   },
   "file_extension": ".py",
   "mimetype": "text/x-python",
   "name": "python",
   "nbconvert_exporter": "python",
   "pygments_lexer": "ipython3",
   "version": "3.9.12"
  }
 },
 "nbformat": 4,
 "nbformat_minor": 5
}
