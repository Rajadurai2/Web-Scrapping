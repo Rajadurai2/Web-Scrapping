{
 "cells": [
  {
   "cell_type": "code",
   "execution_count": 74,
   "id": "2947dd8e-1fd3-43ca-837c-c57644163a7b",
   "metadata": {},
   "outputs": [],
   "source": [
    "import pandas as pd"
   ]
  },
  {
   "cell_type": "code",
   "execution_count": 75,
   "id": "525d0b6e-bf44-469e-8d50-b8857def6685",
   "metadata": {},
   "outputs": [],
   "source": [
    "from selenium import webdriver\n",
    "from bs4 import BeautifulSoup\n",
    "import pandas as pd\n",
    "import re\n",
    "import os\n",
    "import requests\n",
    "import time\n",
    "from collections import defaultdict\n",
    "from selenium.webdriver.common.by import By"
   ]
  },
  {
   "cell_type": "code",
   "execution_count": 76,
   "id": "9b98e5a6-b740-4f1d-a2e4-7fe6e00a9878",
   "metadata": {},
   "outputs": [],
   "source": [
    "##Options for chromedriver, when using selenium, does not matter when using Collab since it acts more like a remote machine\n",
    "chrome_options = webdriver.ChromeOptions()\n",
    "chrome_options.add_argument('--headless')\n",
    "chrome_options.add_argument('--no-sandbox')\n",
    "chrome_options.add_argument('--disable-dev-shm-usage')"
   ]
  },
  {
   "cell_type": "code",
   "execution_count": 77,
   "id": "87e93e79-5f28-4add-a108-e9286aa2779e",
   "metadata": {},
   "outputs": [],
   "source": [
    "driver = webdriver.Chrome('chromedriver',options=chrome_options)"
   ]
  },
  {
   "cell_type": "code",
   "execution_count": 95,
   "id": "fda86e9e-a0c8-4646-ad5c-5fd3ec61da8c",
   "metadata": {},
   "outputs": [],
   "source": [
    "cricbuzz_highlights_url='https://www.cricbuzz.com/cricket-full-commentary/45901/gt-vs-lsg-4th-match-indian-premier-league-2022'"
   ]
  },
  {
   "cell_type": "code",
   "execution_count": 96,
   "id": "d6af53fa-8622-448b-a8c7-12f4d4487e15",
   "metadata": {},
   "outputs": [],
   "source": [
    "driver.get(cricbuzz_highlights_url)"
   ]
  },
  {
   "cell_type": "code",
   "execution_count": 97,
   "id": "54f2ad28-401a-45fe-92e8-de0b36d46406",
   "metadata": {},
   "outputs": [],
   "source": [
    "cricbuzz_soup= BeautifulSoup(driver.page_source, 'html.parser')"
   ]
  },
  {
   "cell_type": "code",
   "execution_count": 98,
   "id": "851ba06a-9538-4e06-a8fe-d7308bca8cdd",
   "metadata": {},
   "outputs": [],
   "source": [
    "div_tag=cricbuzz_soup.find_all('div',{'class':\"cb-col cb-col-100 ng-scope\"})"
   ]
  },
  {
   "cell_type": "code",
   "execution_count": 99,
   "id": "9fb1721c-252f-4ad2-93b8-fa63553a02d5",
   "metadata": {},
   "outputs": [],
   "source": [
    "#class=\"cb-col cb-col-100 ng-scope\"\n",
    "#class=\"cb-col cb-col-100 ng-scope\"\n",
    "#class=\"cb-col cb-col-100 ng-scope\"\n",
    "#class=\"cb-com-ln ng-binding ng-scope cb-col cb-col-90\"\n",
    "#class=\"cb-col cb-col-20\" match box\n",
    "#class=cb-nav-subhdr cb-font-12  header \n",
    "#class=\"cb-billing-plans-text cb-team-lft-item\" team names"
   ]
  },
  {
   "cell_type": "code",
   "execution_count": 116,
   "id": "cf291d6d-8d23-4fea-8de3-6b045fc0ec1c",
   "metadata": {},
   "outputs": [
    {
     "data": {
      "text/plain": [
       "['Indian Premier League 2022', 'Wankhede Stadium,Mumbai', 'Mar 28,']"
      ]
     },
     "execution_count": 116,
     "metadata": {},
     "output_type": "execute_result"
    }
   ],
   "source": [
    "match_metadata_values=[c.next_element.next_element.next_element.text.replace('\\xa0','') for c in cricbuzz_soup.find_all('span',{'class':'text-bold'})]\n",
    "\n",
    "match_metadata_values\n",
    "\n"
   ]
  },
  {
   "cell_type": "code",
   "execution_count": 121,
   "id": "319e23bc-9690-4ca4-b9d6-42ff97c53e03",
   "metadata": {},
   "outputs": [],
   "source": [
    "year=match_metadata_values[0].split()[-1]\n",
    "series=\"IPL\"\n",
    "venue=match_metadata_values[1]\n",
    "date=match_metadata_values[2]+year"
   ]
  },
  {
   "cell_type": "code",
   "execution_count": 100,
   "id": "134d5f23-b16d-4143-9018-f93c3cea8547",
   "metadata": {},
   "outputs": [
    {
     "data": {
      "text/plain": [
       "'4th'"
      ]
     },
     "execution_count": 100,
     "metadata": {},
     "output_type": "execute_result"
    }
   ],
   "source": [
    "def match_no():\n",
    "    team_names=cricbuzz_soup.find('div',{'class':\"cb-billing-plans-text cb-team-lft-item\"})\n",
    "    teams=team_names.text.split(',')[1]\n",
    "    return teams.strip()[0:3]\n",
    "match_no()"
   ]
  },
  {
   "cell_type": "code",
   "execution_count": 101,
   "id": "7b87f44a-b9b0-496c-9cd1-3091fcc0d233",
   "metadata": {},
   "outputs": [],
   "source": [
    "def team_names():\n",
    "    team_names=cricbuzz_soup.find('div',{'class':\"cb-billing-plans-text cb-team-lft-item\"})\n",
    "    teams=team_names.text.split(',')[0]\n",
    "    teams=teams.split('vs')\n",
    "    teams=[team.strip() for team in teams]\n",
    "    return teams\n"
   ]
  },
  {
   "cell_type": "code",
   "execution_count": 102,
   "id": "f34e0fb0-0b5c-4327-95df-1b9cccc57fea",
   "metadata": {},
   "outputs": [],
   "source": [
    "def match_info():\n",
    "    match_details=cricbuzz_soup.find('div',{'class':\"cb-col cb-col-20\"})\n",
    "    match_info=\"\"\n",
    "    for i in match_details:\n",
    "        match_info+=i.get_text()\n",
    "    return match_info    \n"
   ]
  },
  {
   "cell_type": "code",
   "execution_count": 103,
   "id": "e4abb21e-c27a-4c4f-9962-00a835b24d74",
   "metadata": {},
   "outputs": [],
   "source": [
    "def find_team_subs(team):\n",
    "    preview_obj=cricbuzz_soup.find_all('p',{'class':'cb-com-ln ng-binding ng-scope cb-col cb-col-90'})\n",
    "    for tag in preview_obj:\n",
    "        if tag.b==None:\n",
    "            pass\n",
    "        else:\n",
    "            if \"subs\" in tag.get_text().lower():\n",
    "                print(tag.get_text())\n",
    "                return tag.get_text().split(',')[0:]\n",
    "find_team_subs(team_b)"
   ]
  },
  {
   "cell_type": "code",
   "execution_count": 104,
   "id": "fdd9c97e-1b99-4163-bf38-359ffda003c8",
   "metadata": {},
   "outputs": [],
   "source": [
    "def find_team_playing11(team):\n",
    "    preview_obj=cricbuzz_soup.find_all('p',{'class':'cb-com-ln ng-binding ng-scope cb-col cb-col-90'})\n",
    "    for tag in preview_obj:\n",
    "        if tag.b==None:\n",
    "            pass\n",
    "        else:\n",
    "            if team+\" (Playing XI)\" in tag.get_text():\n",
    "                return tag.get_text().split(',')[0:]\n",
    "    "
   ]
  },
  {
   "cell_type": "code",
   "execution_count": 105,
   "id": "622d8867-73e2-4cce-9696-1bcf5a712928",
   "metadata": {},
   "outputs": [],
   "source": [
    "df=pd.DataFrame(columns=['match_no','series','season','team_a','team_b','team_a_11','team_b_11','team_a_subs','team_b_subs','venue','date'])"
   ]
  },
  {
   "cell_type": "code",
   "execution_count": 106,
   "id": "65b5e5f7-4642-4d5e-ae31-f30fdcc676da",
   "metadata": {},
   "outputs": [],
   "source": [
    "match =match_no()\n",
    "\n",
    "df.at[1,'match_no']=match"
   ]
  },
  {
   "cell_type": "code",
   "execution_count": 107,
   "id": "6f596119-5146-4a5e-aafc-027a65d62745",
   "metadata": {},
   "outputs": [],
   "source": [
    "team_a,team_b=team_names()"
   ]
  },
  {
   "cell_type": "code",
   "execution_count": 108,
   "id": "79b0d797-cdc5-4197-9766-5ba9c201c7ec",
   "metadata": {},
   "outputs": [],
   "source": [
    "df.at[1,'team_a']=team_a\n",
    "df.at[1,'team_b']=team_b"
   ]
  },
  {
   "cell_type": "code",
   "execution_count": 122,
   "id": "fc651547-6294-41e7-8b74-d84eff0eba5b",
   "metadata": {},
   "outputs": [],
   "source": [
    "df.at[1,'team_a_11']=find_team_playing11(team_a)\n",
    "df.at[1,'team_b_11']=find_team_playing11(team_b)\n",
    "df.at[1,'team_a_subs']=find_team_subs(team_a)\n",
    "df.at[1,'team_b_subs']=find_team_subs(team_b)\n",
    "df.at[1,'series']=series\n",
    "df.at[1,'season']=year\n",
    "df.at[1,'venue']=venue\n",
    "df.at[1,'date']=date"
   ]
  },
  {
   "cell_type": "code",
   "execution_count": 123,
   "id": "18de3646-426b-486f-920b-110461742b32",
   "metadata": {},
   "outputs": [
    {
     "data": {
      "text/html": [
       "<div>\n",
       "<style scoped>\n",
       "    .dataframe tbody tr th:only-of-type {\n",
       "        vertical-align: middle;\n",
       "    }\n",
       "\n",
       "    .dataframe tbody tr th {\n",
       "        vertical-align: top;\n",
       "    }\n",
       "\n",
       "    .dataframe thead th {\n",
       "        text-align: right;\n",
       "    }\n",
       "</style>\n",
       "<table border=\"1\" class=\"dataframe\">\n",
       "  <thead>\n",
       "    <tr style=\"text-align: right;\">\n",
       "      <th></th>\n",
       "      <th>match_no</th>\n",
       "      <th>team_a</th>\n",
       "      <th>team_b</th>\n",
       "      <th>team_a_11</th>\n",
       "      <th>team_b_11</th>\n",
       "      <th>team_a_subs</th>\n",
       "      <th>team_b_subs</th>\n",
       "      <th>series</th>\n",
       "      <th>season</th>\n",
       "      <th>venue</th>\n",
       "      <th>date</th>\n",
       "    </tr>\n",
       "  </thead>\n",
       "  <tbody>\n",
       "    <tr>\n",
       "      <th>1</th>\n",
       "      <td>4th</td>\n",
       "      <td>Gujarat Titans</td>\n",
       "      <td>Lucknow Super Giants</td>\n",
       "      <td>[Gujarat Titans (Playing XI): Shubman Gill,  M...</td>\n",
       "      <td>[Lucknow Super Giants (Playing XI): KL Rahul(c...</td>\n",
       "      <td>None</td>\n",
       "      <td>None</td>\n",
       "      <td>IPL</td>\n",
       "      <td>2022</td>\n",
       "      <td>Wankhede Stadium,Mumbai</td>\n",
       "      <td>Mar 28,2022</td>\n",
       "    </tr>\n",
       "  </tbody>\n",
       "</table>\n",
       "</div>"
      ],
      "text/plain": [
       "  match_no          team_a                team_b  \\\n",
       "1      4th  Gujarat Titans  Lucknow Super Giants   \n",
       "\n",
       "                                           team_a_11  \\\n",
       "1  [Gujarat Titans (Playing XI): Shubman Gill,  M...   \n",
       "\n",
       "                                           team_b_11 team_a_subs team_b_subs  \\\n",
       "1  [Lucknow Super Giants (Playing XI): KL Rahul(c...        None        None   \n",
       "\n",
       "  series season                    venue         date  \n",
       "1    IPL   2022  Wankhede Stadium,Mumbai  Mar 28,2022  "
      ]
     },
     "metadata": {},
     "output_type": "display_data"
    }
   ],
   "source": [
    "display(df)"
   ]
  },
  {
   "cell_type": "code",
   "execution_count": 124,
   "id": "42c240d4-97ab-4f3e-9bba-480e58194aea",
   "metadata": {},
   "outputs": [
    {
     "data": {
      "text/plain": [
       "['Gujarat Titans (Playing XI): Shubman Gill',\n",
       " ' Matthew Wade(w)',\n",
       " ' Vijay Shankar',\n",
       " ' Abhinav Manohar',\n",
       " ' Hardik Pandya(c)',\n",
       " ' David Miller',\n",
       " ' Rahul Tewatia',\n",
       " ' Rashid Khan',\n",
       " ' Lockie Ferguson',\n",
       " ' Varun Aaron',\n",
       " ' Mohammed Shami']"
      ]
     },
     "execution_count": 124,
     "metadata": {},
     "output_type": "execute_result"
    }
   ],
   "source": [
    "df.loc[1,'team_a_11']"
   ]
  },
  {
   "cell_type": "code",
   "execution_count": null,
   "id": "cdc72495-db2d-4276-abd1-f32c31d3ccb8",
   "metadata": {},
   "outputs": [],
   "source": []
  }
 ],
 "metadata": {
  "kernelspec": {
   "display_name": "Python 3 (ipykernel)",
   "language": "python",
   "name": "python3"
  },
  "language_info": {
   "codemirror_mode": {
    "name": "ipython",
    "version": 3
   },
   "file_extension": ".py",
   "mimetype": "text/x-python",
   "name": "python",
   "nbconvert_exporter": "python",
   "pygments_lexer": "ipython3",
   "version": "3.9.12"
  }
 },
 "nbformat": 4,
 "nbformat_minor": 5
}
