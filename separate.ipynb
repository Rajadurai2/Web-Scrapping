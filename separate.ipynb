{
 "cells": [
  {
   "cell_type": "code",
   "execution_count": 1,
   "metadata": {},
   "outputs": [],
   "source": [
    "import pandas as pd"
   ]
  },
  {
   "cell_type": "code",
   "execution_count": 1,
   "metadata": {},
   "outputs": [],
   "source": [
    "def random_number(url,n):\n",
    "    iter=n\n",
    "    file_name=url.split('/')[-1]\n",
    "    df=pd.read_csv(f'files/2017/{file_name}.csv')\n",
    "    try:\n",
    "        year=df['season'][0]\n",
    "        random_number=str(year)+str(iter)\n",
    "        df['match_id']=random_number\n",
    "        print(random_number)\n",
    "    except:\n",
    "        print(file_name)\n",
    "    df.to_csv(f'files/2017/{file_name}.csv',index=False)\n",
    "# for i,k in enumerate(links[0:],1):\n",
    "#     if i <=9:\n",
    "#         i=\"0\"+str(i)\n",
    "#     random_number(k,i)"
   ]
  },
  {
   "cell_type": "code",
   "execution_count": 3,
   "metadata": {},
   "outputs": [],
   "source": [
    "links=[]\n",
    "with open('match_links/2023_season_match_links.txt','r') as f1:\n",
    "    for i in f1:\n",
    "        links.append(i.strip())"
   ]
  },
  {
   "cell_type": "code",
   "execution_count": 79,
   "metadata": {},
   "outputs": [
    {
     "name": "stdout",
     "output_type": "stream",
     "text": [
      "\"['match_id', 'toss_winner', 'toss_choosen'] not in index\"\n",
      "https://www.cricbuzz.com/cricket-full-commentary/69575/csk-vs-gt-final-indian-premier-league-2023\n"
     ]
    }
   ],
   "source": [
    "def separate(url):\n",
    "    file_name=url.split('/')[-1]\n",
    "    df=pd.read_csv(f'files/2023/{file_name}.csv')\n",
    "    new=df[['match_id','series','season','match_no','date','venue','team_a','team_b','team_a_11','team_b_11','team_a_subs','team_b_subs','toss_winner','toss_choosen','win','man_of_the_match']]\n",
    "    new=new.iloc[0:1]\n",
    "    this_match_id=new['match_id'][0]\n",
    "\n",
    "    #display(new)\n",
    "    new_df=pd.read_csv('files/match_data.csv')\n",
    "    match_id=new_df.match_id.unique()\n",
    "    if this_match_id in match_id:\n",
    "        pass\n",
    "    else:\n",
    "        new_df=pd.concat([new_df,new])\n",
    "    new_df.to_csv('files/match_data.csv',index=False)\n",
    "\n",
    "#separate(links[0])\n",
    "for i in links[0:]:\n",
    "    try:\n",
    "        separate(i)\n",
    "    except Exception as e:\n",
    "        print(e)\n",
    "        print(i)\n",
    "\n",
    "\n",
    "l=['match_id','series','season','match_no','date','venue','team_a','team_b','team_a_11','team_b_11','team_a_subs','team_b_subs','toss_winner','toss_choosen','winner','player_of_the_match']\n"
   ]
  },
  {
   "cell_type": "code",
   "execution_count": 5,
   "metadata": {},
   "outputs": [],
   "source": [
    "df=pd.DataFrame(columns=['match_id','Commentary Text','ball','innings','team_a','team_b','batting_team','bowling_team','Batsman','Bowler','runs','extra', 'ball_length', 'ball_line','ball_destination', 'shot_name', 'ball_speed', 'out_type'])\n",
    "df.to_csv('files/2017-2023_ball_by_ball_data.csv',index=False)"
   ]
  },
  {
   "cell_type": "code",
   "execution_count": 4,
   "metadata": {},
   "outputs": [
    {
     "name": "stdout",
     "output_type": "stream",
     "text": [
      "\"['match_id', 'Commentary Text', 'ball', 'innings', 'batting_team', 'bowling_team', 'Batsman', 'Bowler', 'runs', 'extra', 'ball_length', 'ball_line', 'ball_destination', 'shot_name', 'out_type'] not in index\"\n",
      "73\n",
      "https://www.cricbuzz.com/cricket-full-commentary/69575/csk-vs-gt-final-indian-premier-league-2023\n"
     ]
    }
   ],
   "source": [
    "def separate(url):\n",
    "    file_name=url.split('/')[-1]\n",
    "    df=pd.read_csv(f'files/2023/{file_name}.csv')\n",
    "    df['ball_speed']=df.get('ball_speed',None)\n",
    "    new=df[['match_id','Commentary Text','ball','innings','team_a','team_b','batting_team','bowling_team','Batsman','Bowler','runs','extra', 'ball_length', 'ball_line','ball_destination', 'shot_name', 'ball_speed', 'out_type']]\n",
    "    \n",
    "    #display(new)\n",
    "    ball=pd.read_csv('files/2017-2023_ball_by_ball_data.csv',low_memory=False)\n",
    "    #display(ball)\n",
    "    ball=pd.concat([ball,new])\n",
    "    df.drop_duplicates(inplace=True)\n",
    "    ball.to_csv('files/2017-2023_ball_by_ball_data.csv',index=False)\n",
    "    #display(ball)\n",
    "#separate(links[9])\n",
    "\n",
    "for i in links[0:]:\n",
    "    try:\n",
    "        separate(i)\n",
    "    except Exception as e:\n",
    "        print(e)\n",
    "        print(links.index(i))\n",
    "        print(i)"
   ]
  },
  {
   "cell_type": "code",
   "execution_count": 6,
   "metadata": {},
   "outputs": [
    {
     "data": {
      "text/plain": [
       "15"
      ]
     },
     "execution_count": 6,
     "metadata": {},
     "output_type": "execute_result"
    }
   ],
   "source": [
    "a=['match_id','ball','innings','batting_team','bowling_team','Batsman','Bowler','runs','extra', 'ball_length', 'ball_line',\n",
    "       'ball_destination', 'shot_name', 'ball_speed', 'out_type']\n",
    "len(a)"
   ]
  },
  {
   "cell_type": "code",
   "execution_count": 13,
   "metadata": {},
   "outputs": [
    {
     "name": "stdout",
     "output_type": "stream",
     "text": [
      "https://www.cricbuzz.com/cricket-full-commentary/18126/srh-vs-gl-6th-match-indian-premier-league-2017\n"
     ]
    }
   ],
   "source": [
    "print(links[5])"
   ]
  },
  {
   "cell_type": "code",
   "execution_count": null,
   "metadata": {},
   "outputs": [],
   "source": []
  }
 ],
 "metadata": {
  "kernelspec": {
   "display_name": "base",
   "language": "python",
   "name": "python3"
  },
  "language_info": {
   "codemirror_mode": {
    "name": "ipython",
    "version": 3
   },
   "file_extension": ".py",
   "mimetype": "text/x-python",
   "name": "python",
   "nbconvert_exporter": "python",
   "pygments_lexer": "ipython3",
   "version": "3.9.12"
  },
  "orig_nbformat": 4
 },
 "nbformat": 4,
 "nbformat_minor": 2
}
