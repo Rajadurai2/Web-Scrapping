{
 "cells": [
  {
   "cell_type": "code",
   "execution_count": 84,
   "metadata": {},
   "outputs": [],
   "source": [
    "import os\n",
    "import requests\n",
    "from bs4 import BeautifulSoup\n",
    "import pandas as pd\n",
    "from tqdm import tqdm\n"
   ]
  },
  {
   "cell_type": "code",
   "execution_count": 85,
   "metadata": {},
   "outputs": [],
   "source": [
    "def get_moth(url):\n",
    "    cricbuzz_highlights_url=url\n",
    "    cricbuzz_highlights_url=cricbuzz_highlights_url.replace('cricket-full-commentary','cricket-scores')\n",
    "    cricbuzz_highlights_url\n",
    "    page=requests.get(cricbuzz_highlights_url)\n",
    "    soup=BeautifulSoup(page.content)\n",
    "    try: \n",
    "        win=soup.find('div',{'class':'cb-col cb-col-100 cb-min-stts cb-text-complete'}).text\n",
    "        #cb-col cb-col-100 cb-mini-col cb-min-comp ng-scope\n",
    "        #cb-link-undrln ng-binding\n",
    "        a=soup.find('span',{'class':'cb-text-gray cb-font-12'})\n",
    "        try:\n",
    "            man_of_the_match=a.next_sibling.next_sibling.next_sibling.text\n",
    "        except:\n",
    "            man_of_the_match=None\n",
    "    except:\n",
    "        win = None\n",
    "        man_of_the_match=None\n",
    "    file_name=url.split('/')[-1]\n",
    "    df=pd.read_csv(f'files/2022/{file_name}.csv')\n",
    "    df['win']=win\n",
    "    df['man_of_the_match']=man_of_the_match\n",
    "    df.to_csv(f'files/2022/{file_name}.csv',index=False)\n",
    "    \n"
   ]
  },
  {
   "cell_type": "code",
   "execution_count": 86,
   "metadata": {},
   "outputs": [],
   "source": [
    "#get_moth('https://www.cricbuzz.com/cricket-full-commentary/69575/csk-vs-gt-final-indian-premier-league-2023')"
   ]
  },
  {
   "cell_type": "code",
   "execution_count": 89,
   "metadata": {},
   "outputs": [
    {
     "name": "stderr",
     "output_type": "stream",
     "text": [
      "100%|██████████| 74/74 [01:25<00:00,  1.15s/it]\n"
     ]
    }
   ],
   "source": [
    "links=[]\n",
    "with open('match_links/2022_season_match_links.txt','r') as file:\n",
    "    for line in file:\n",
    "        links.append(line.strip())\n",
    "for i in tqdm(links):\n",
    "    get_moth(i)"
   ]
  },
  {
   "cell_type": "code",
   "execution_count": 88,
   "metadata": {},
   "outputs": [
    {
     "data": {
      "text/plain": [
       "'https://www.cricbuzz.com/cricket-full-commentary/47605/gt-vs-rr-final-indian-premier-league-2022'"
      ]
     },
     "execution_count": 88,
     "metadata": {},
     "output_type": "execute_result"
    }
   ],
   "source": [
    "links[44+29]"
   ]
  },
  {
   "cell_type": "code",
   "execution_count": null,
   "metadata": {},
   "outputs": [],
   "source": []
  }
 ],
 "metadata": {
  "kernelspec": {
   "display_name": "base",
   "language": "python",
   "name": "python3"
  },
  "language_info": {
   "codemirror_mode": {
    "name": "ipython",
    "version": 3
   },
   "file_extension": ".py",
   "mimetype": "text/x-python",
   "name": "python",
   "nbconvert_exporter": "python",
   "pygments_lexer": "ipython3",
   "version": "3.9.12"
  },
  "orig_nbformat": 4
 },
 "nbformat": 4,
 "nbformat_minor": 2
}
