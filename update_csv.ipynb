{
 "cells": [
  {
   "cell_type": "code",
   "execution_count": 38,
   "metadata": {},
   "outputs": [],
   "source": [
    "import os\n",
    "import requests\n",
    "from bs4 import BeautifulSoup\n",
    "import pandas as pd\n",
    "from tqdm import tqdm\n",
    "import re\n",
    "from collections import Counter\n"
   ]
  },
  {
   "cell_type": "code",
   "execution_count": 81,
   "metadata": {},
   "outputs": [],
   "source": [
    "def short_name(team):\n",
    "        short_name={'Chennai Super Kings':'CSK',\n",
    "    'Mumbai Indians':'MI',\n",
    "    'Gujarat Titans':'GT',\n",
    "    'Kolkata Knight Riders':'KKR',\n",
    "    'Punjab Kings':'PBKS',\n",
    "    'Sunrisers Hyderabad':'SRH',\n",
    "    'Rajasthan Royals':'RR',\n",
    "    'Lucknow Super Giants':'LSG',\n",
    "    'Delhi Capitals':'DC',\n",
    "    'Delhi Daredevils':'DD',\n",
    "    'Royal Challengers Bangalore':'RCB',\n",
    "    'Kings XI Punjab':'PBKS',\n",
    "    'Rising Pune Supergiant':'RPS',\n",
    "    'Gujarat Lions':'GL'\n",
    "    }\n",
    "        return short_name[team]"
   ]
  },
  {
   "cell_type": "code",
   "execution_count": 126,
   "metadata": {},
   "outputs": [],
   "source": [
    "def get_moth(url):\n",
    "    cricbuzz_highlights_url=url\n",
    "    cricbuzz_highlights_url=cricbuzz_highlights_url.replace('cricket-full-commentary','cricket-scores')\n",
    "    cricbuzz_highlights_url\n",
    "    page=requests.get(cricbuzz_highlights_url)\n",
    "    soup=BeautifulSoup(page.content)\n",
    "    try: \n",
    "        win=soup.find('div',{'class':'cb-col cb-col-100 cb-min-stts cb-text-complete'}).text\n",
    "        #cb-col cb-col-100 cb-mini-col cb-min-comp ng-scope\n",
    "        #cb-link-undrln ng-binding\n",
    "        a=soup.find('span',{'class':'cb-text-gray cb-font-12'})\n",
    "        try:\n",
    "            man_of_the_match=a.next_sibling.next_sibling.next_sibling.text\n",
    "        except:\n",
    "            man_of_the_match=None\n",
    "    except:\n",
    "        win = None\n",
    "        man_of_the_match=None\n",
    "    file_name=url.split('/')[-1]\n",
    "    df=pd.read_csv(f'files/2022/{file_name}.csv')\n",
    "    df['win']=win\n",
    "    df['man_of_the_match']=man_of_the_match\n",
    "    df.to_csv(f'files/2022/{file_name}.csv',index=False)"
   ]
  },
  {
   "cell_type": "code",
   "execution_count": 132,
   "metadata": {},
   "outputs": [],
   "source": [
    "def find_toss(url):\n",
    "    file_name=url.split('/')[-1]\n",
    "    df=pd.read_csv(f'files/2022/{file_name}.csv')\n",
    "    try :\n",
    "        toss=df['toss'][0]\n",
    "        toss_win=toss[:toss.find('have')]\n",
    "        toss_choose=toss.split(' ')[-1]\n",
    "\n",
    "        df['Toss_winner']=short_name(toss_win.strip())\n",
    "        df['toss_chosen']=toss_choose\n",
    "        df.to_csv(f'files/2022/{file_name}.csv',index=False)\n",
    "    except:\n",
    "        print('error')\n",
    "        print(file_name)\n",
    "        pass\n",
    "#find_toss('https://www.cricbuzz.com/cricket-full-commentary/35612/mi-vs-rcb-1st-match-indian-premier-league-2021')"
   ]
  },
  {
   "cell_type": "code",
   "execution_count": 138,
   "metadata": {},
   "outputs": [
    {
     "name": "stdout",
     "output_type": "stream",
     "text": [
      "https://www.cricbuzz.com/cricket-full-commentary/45886/csk-vs-kkr-1st-match-indian-premier-league-2022\n"
     ]
    },
    {
     "name": "stderr",
     "output_type": "stream",
     "text": [
      " 34%|\u001b[32m███▍      \u001b[0m| 25/74 [00:00<00:00, 240.87it/s]"
     ]
    },
    {
     "name": "stdout",
     "output_type": "stream",
     "text": [
      "csk-vs-kkr-1st-match-indian-premier-league-2022\n",
      "dc-vs-mi-2nd-match-indian-premier-league-2022\n",
      "pbks-vs-rcb-3rd-match-indian-premier-league-2022\n",
      "gt-vs-lsg-4th-match-indian-premier-league-2022\n",
      "srh-vs-rr-5th-match-indian-premier-league-2022\n",
      "rcb-vs-kkr-6th-match-indian-premier-league-2022\n",
      "lsg-vs-csk-7th-match-indian-premier-league-2022\n",
      "kkr-vs-pbks-8th-match-indian-premier-league-2022\n",
      "mi-vs-rr-9th-match-indian-premier-league-2022\n",
      "gt-vs-dc-10th-match-indian-premier-league-2022\n",
      "csk-vs-pbks-11th-match-indian-premier-league-2022\n",
      "srh-vs-lsg-12th-match-indian-premier-league-2022\n",
      "rr-vs-rcb-13th-match-indian-premier-league-2022\n",
      "kkr-vs-mi-14th-match-indian-premier-league-2022\n",
      "lsg-vs-dc-15th-match-indian-premier-league-2022\n",
      "pbks-vs-gt-16th-match-indian-premier-league-2022\n",
      "csk-vs-srh-17th-match-indian-premier-league-2022\n",
      "rcb-vs-mi-18th-match-indian-premier-league-2022\n",
      "kkr-vs-dc-19th-match-indian-premier-league-2022\n",
      "rr-vs-lsg-20th-match-indian-premier-league-2022\n",
      "srh-vs-gt-21st-match-indian-premier-league-2022\n",
      "csk-vs-rcb-22nd-match-indian-premier-league-2022\n",
      "mi-vs-pbks-23rd-match-indian-premier-league-2022\n",
      "rr-vs-gt-24th-match-indian-premier-league-2022\n",
      "srh-vs-kkr-25th-match-indian-premier-league-2022\n",
      "mi-vs-lsg-26th-match-indian-premier-league-2022\n",
      "dc-vs-rcb-27th-match-indian-premier-league-2022\n",
      "pbks-vs-srh-28th-match-indian-premier-league-2022\n",
      "gt-vs-csk-29th-match-indian-premier-league-2022\n",
      "rr-vs-kkr-30th-match-indian-premier-league-2022\n",
      "lsg-vs-rcb-31st-match-indian-premier-league-2022\n",
      "dc-vs-pbks-32nd-match-indian-premier-league-2022\n",
      "mi-vs-csk-33rd-match-indian-premier-league-2022\n",
      "kkr-vs-gt-35th-match-indian-premier-league-2022\n",
      "rcb-vs-srh-36th-match-indian-premier-league-2022\n",
      "lsg-vs-mi-37th-match-indian-premier-league-2022\n",
      "pbks-vs-csk-38th-match-indian-premier-league-2022\n",
      "rcb-vs-rr-39th-match-indian-premier-league-2022\n",
      "gt-vs-srh-40th-match-indian-premier-league-2022\n",
      "dc-vs-kkr-41st-match-indian-premier-league-2022\n",
      "pbks-vs-lsg-42nd-match-indian-premier-league-2022\n",
      "gt-vs-rcb-43rd-match-indian-premier-league-2022\n",
      "rr-vs-mi-44th-match-indian-premier-league-2022\n",
      "dc-vs-lsg-45th-match-indian-premier-league-2022\n",
      "srh-vs-csk-46th-match-indian-premier-league-2022\n",
      "kkr-vs-rr-47th-match-indian-premier-league-2022\n",
      "gt-vs-pbks-48th-match-indian-premier-league-2022\n",
      "rcb-vs-csk-49th-match-indian-premier-league-2022"
     ]
    },
    {
     "name": "stderr",
     "output_type": "stream",
     "text": [
      "100%|\u001b[32m██████████\u001b[0m| 74/74 [00:00<00:00, 241.89it/s]"
     ]
    },
    {
     "name": "stdout",
     "output_type": "stream",
     "text": [
      "\n",
      "dc-vs-srh-50th-match-indian-premier-league-2022\n",
      "gt-vs-mi-51st-match-indian-premier-league-2022\n",
      "pbks-vs-rr-52nd-match-indian-premier-league-2022\n",
      "lsg-vs-kkr-53rd-match-indian-premier-league-2022\n",
      "srh-vs-rcb-54th-match-indian-premier-league-2022\n",
      "csk-vs-dc-55th-match-indian-premier-league-2022\n",
      "mi-vs-kkr-56th-match-indian-premier-league-2022\n",
      "lsg-vs-gt-57th-match-indian-premier-league-2022\n",
      "rr-vs-dc-58th-match-indian-premier-league-2022\n",
      "csk-vs-mi-59th-match-indian-premier-league-2022\n",
      "rcb-vs-pbks-60th-match-indian-premier-league-2022\n",
      "kkr-vs-srh-61st-match-indian-premier-league-2022\n",
      "csk-vs-gt-62nd-match-indian-premier-league-2022\n",
      "lsg-vs-rr-63rd-match-indian-premier-league-2022\n",
      "pbks-vs-dc-64th-match-indian-premier-league-2022\n",
      "mi-vs-srh-65th-match-indian-premier-league-2022\n",
      "kkr-vs-lsg-66th-match-indian-premier-league-2022\n",
      "rcb-vs-gt-67th-match-indian-premier-league-2022\n",
      "rr-vs-csk-68th-match-indian-premier-league-2022\n",
      "mi-vs-dc-69th-match-indian-premier-league-2022\n",
      "srh-vs-pbks-70th-match-indian-premier-league-2022\n",
      "gt-vs-rr-qualifier-1-indian-premier-league-2022\n",
      "lsg-vs-rcb-eliminator-indian-premier-league-2022\n",
      "rr-vs-rcb-qualifier-2-indian-premier-league-2022\n",
      "gt-vs-rr-final-indian-premier-league-2022\n"
     ]
    },
    {
     "name": "stderr",
     "output_type": "stream",
     "text": [
      "\n"
     ]
    }
   ],
   "source": [
    "links=[]\n",
    "with open('match_links/2022_season_match_links.txt','r') as file:\n",
    "    for line in file:\n",
    "        links.append(line.strip())\n",
    "print(links[0])\n",
    "for i in tqdm(links[0:],colour='green'):\n",
    "    find_innings(i)"
   ]
  },
  {
   "cell_type": "code",
   "execution_count": 137,
   "metadata": {},
   "outputs": [],
   "source": [
    "#1\n",
    "def find_innings(url):\n",
    "    file_name=url.split('/')[-1]\n",
    "    df=pd.read_csv(f'files/2022/{file_name}.csv')\n",
    "    try :\n",
    "        Toss_winner=df['toss_winner'][0]\n",
    "        if Toss_winner=='DD':\n",
    "            Toss_winner='DC'\n",
    "        #print(toss_winner)\n",
    "        toss_chose=df['toss_choosen'][0]\n",
    "        #print(toss_choose)\n",
    "        #print(toss_winner,toss_choose)\n",
    "\n",
    "        if toss_choose=='field':\n",
    "            #print('fielding')\n",
    "            \n",
    "            #print(df[df['innings']== f'{toss_winner} Inns'.strip()]['innings'])\n",
    "            df['innings'].mask(df['innings']!=f'{toss_winner} Inns'.strip(),'1st Inns',inplace=True)\n",
    "            df['innings'].mask(df['innings']==f'{toss_winner} Inns'.strip(),'2nd Inns',inplace=True)\n",
    "            \n",
    "            #print(df)\n",
    "        else:\n",
    "            df['innings'].mask(df['innings']!=f'{toss_winner} Inns'.strip(),'2nd Inns',inplace=True)\n",
    "            df['innings'].mask(df['innings']==f'{toss_winner} Inns'.strip(),'1st Inns',inplace=True)\n",
    "            \n",
    "            \n",
    "            \n",
    "        #display(df)\n",
    "        df.to_csv(f'files/2022/{file_name}.csv',index=False)\n",
    "    except:\n",
    "        print(file_name)\n",
    "        \n",
    "\n",
    "#find_innings('https://www.cricbuzz.com/cricket-full-commentary/66442/csk-vs-kkr-61st-match-indian-premier-league-2023')"
   ]
  },
  {
   "cell_type": "code",
   "execution_count": 100,
   "metadata": {},
   "outputs": [],
   "source": [
    "#2\n",
    "def find_bowling_team(url):\n",
    "    file_name=url.split('/')[-1]\n",
    "    #print(file_name)\n",
    "    df=pd.read_csv(f'files/2017/{file_name}.csv')\n",
    "    try :\n",
    "        toss_winner=df['toss_winner'][0]\n",
    "        toss_choose=df['toss_choosen'][0]\n",
    "        a_team=short_name(df['team_a'][0])\n",
    "        b_team=short_name(df['team_b'][0])\n",
    "        print(a_team,b_team)\n",
    "\n",
    "        teams=[a_team,b_team]\n",
    "        for i in teams:\n",
    "            if i==toss_winner:\n",
    "                teams.remove(i)\n",
    "        opt=teams[0]\n",
    "        if toss_choose=='bat':\n",
    "            df.loc[df['innings']=='1st Inns','batting_team']=toss_winner\n",
    "            df.loc[df['innings']=='1st Inns','bowling_team']=opt\n",
    "            df.loc[df['innings']=='2nd Inns','batting_team']=opt\n",
    "            df.loc[df['innings']=='2nd Inns','bowling_team']=toss_winner\n",
    "        if toss_choose=='field':\n",
    "            df.loc[df['innings']=='1st Inns','batting_team']=opt\n",
    "            df.loc[df['innings']=='1st Inns','bowling_team']=toss_winner\n",
    "            df.loc[df['innings']=='2nd Inns','batting_team']=toss_winner\n",
    "            df.loc[df['innings']=='2nd Inns','bowling_team']=opt\n",
    "            \n",
    "        #display(df)\n",
    "        df.to_csv(f'files/2017/{file_name}.csv',index=False)\n",
    "    except Exception as e:\n",
    "        print(file_name)\n",
    "        print(e)\n",
    "       \n",
    "#find_bowling_team('https://www.cricbuzz.com/cricket-full-commentary/66519/kkr-vs-gt-39th-match-indian-premier-league-2023')"
   ]
  },
  {
   "attachments": {},
   "cell_type": "markdown",
   "metadata": {},
   "source": []
  },
  {
   "cell_type": "code",
   "execution_count": 44,
   "metadata": {},
   "outputs": [],
   "source": [
    "#3\n",
    "def find_batsman_bowler(url):\n",
    "    file_name=url.split('/')[-1]\n",
    "    #print(file_name)\n",
    "    df=pd.read_csv(f'files/2017/{file_name}.csv')\n",
    "    df['Batsman']=''\n",
    "    df['Bowler']=''\n",
    "    #display(df)\n",
    "    for i,row in enumerate(df['Commentary Text'].values):\n",
    "        text=row.split(',')[0]\n",
    "        text=text.split(' to ')\n",
    "        batsman=text[1]\n",
    "        bowler=text[0]\n",
    "        df.loc[i,['Batsman']]=batsman\n",
    "        #df['Batsman'][i]=batsman\n",
    "        df.loc[i,['Bowler']]=bowler\n",
    "\n",
    "        #df['Bowler'][i]=bowler\n",
    "    #display(df)\n",
    "    df.to_csv(f'files/2017/{file_name}.csv',index=False)\n",
    "        \n",
    "\n",
    "#find_batsman_bowler('https://www.cricbuzz.com/cricket-full-commentary/35612/mi-vs-rcb-1st-match-indian-premier-league-2021')"
   ]
  },
  {
   "cell_type": "code",
   "execution_count": 45,
   "metadata": {},
   "outputs": [],
   "source": [
    "# 4\n",
    "texts=[]\n",
    "#find the runs by ball \n",
    "def find_runs(url):\n",
    "    file_name=url.split('/')[-1]\n",
    "    #print(file_name)\n",
    "    df=pd.read_csv(f'files/2017/{file_name}.csv')\n",
    "    df['runs']=''\n",
    "    df['extra']=''\n",
    "    for i,comment in enumerate(df['Commentary Text'].values):\n",
    "        text=comment.split(',')[1].strip().lower()\n",
    "        #print('text=',text)\n",
    "        texts.append(text)\n",
    "        if text.startswith('1 run'.casefold()):\n",
    "            df.loc[i,['runs']]= 1\n",
    "            df.loc[i,['extra']]= 0\n",
    "        elif text.startswith('2 runs'.casefold()):\n",
    "            text= 2\n",
    "            df.loc[i,['runs']]= 2\n",
    "            df.loc[i,['extra']]= 0\n",
    "        elif text.startswith('no run'.casefold()):\n",
    "            df.loc[i,['runs']]= 0\n",
    "            df.loc[i,['extra']]= 0\n",
    "        elif text.startswith('3 runs'.casefold()):\n",
    "            df.loc[i,['runs']]= 3\n",
    "            df.loc[i,['extra']]= 0\n",
    "        elif text.startswith('FOUR'.casefold()):\n",
    "            df.loc[i,['runs']]= 4\n",
    "            df.loc[i,['extra']]= 0\n",
    "        elif text.startswith('SIX'.casefold()):\n",
    "            df.loc[i,['runs']]= 6\n",
    "            df.loc[i,['extra']]= 0\n",
    "        elif text.startswith(('byes'.casefold(),'leg'.casefold())):\n",
    "            if str(comment.split(',')[2]).lstrip().lower()=='four':\n",
    "                df.loc[i,['extra']]= 4\n",
    "            elif str(comment.split(',')[2]).lstrip().lower()=='six':\n",
    "                df.loc[i,['extra']]= 6\n",
    "            elif str(comment.split(',')[2]).lstrip().lower()=='1 run':\n",
    "                df.loc[i,['extra']]= 1\n",
    "            elif str(comment.split(',')[2]).lstrip().lower()=='2 runs':\n",
    "                df.loc[i,['extra']]= 2\n",
    "            elif str(comment.split(',')[2]).lstrip().lower()=='3 runs':\n",
    "                df.loc[i,['extra']]= 3\n",
    "            else:\n",
    "                df.loc[i,['extra']]=0\n",
    "            df.loc[i,['runs']]= 'byes'\n",
    "        elif text.startswith('no ball'.casefold()):\n",
    "            if str(comment.split(',')[2]).lstrip().lower()=='four':\n",
    "                df.loc[i,['extra']]= '1+4'\n",
    "            elif str(comment.split(',')[2]).lstrip().lower()=='six':\n",
    "                df.loc[i,['extra']]='1+6'\n",
    "            elif str(comment.split(',')[2]).lstrip().lower()=='1 run':\n",
    "                df.loc[i,['extra']]= 1\n",
    "            elif str(comment.split(',')[2]).lstrip().lower()=='2 runs':\n",
    "                df.loc[i,['extra']]= 2\n",
    "            elif str(comment.split(',')[2]).lstrip().lower()=='3 runs':\n",
    "                df.loc[i,['extra']]= 3\n",
    "            else:\n",
    "                df.loc[i,['extra']]=1\n",
    "            df.loc[i,['runs']]= 'no ball'\n",
    "        elif text.startswith('out'.casefold()):\n",
    "            df.loc[i,['runs']]= 'out'\n",
    "            df.loc[i,['extra']]= 'out'\n",
    "        elif text.startswith('wide'.casefold()):\n",
    "            df.loc[i,['runs']]= 'wide'\n",
    "            df.loc[i,['extra']]= 1\n",
    "        elif text.startswith('2 wides'.casefold()):\n",
    "            df.loc[i,['runs']]= 'wide'\n",
    "            df.loc[i,['extra']]= 2\n",
    "        elif text.startswith('3 wides'.casefold()):\n",
    "            df.loc[i,['runs']]= 'wide'\n",
    "            df.loc[i,['extra']]= 3\n",
    "        elif text.startswith('4 wides'.casefold()):\n",
    "            df.loc[i,['runs']]= 'wide'\n",
    "            df.loc[i,['extra']]= 4\n",
    "        elif text.startswith('5 wides'.casefold()):\n",
    "            df.loc[i,['runs']]= 'wide'\n",
    "            df.loc[i,['extra']]= 5\n",
    "        \n",
    "        #print(text)\n",
    "    #display(df.sample(5))\n",
    "    df.to_csv(f'files/2017/{file_name}.csv',index=False)\n",
    "\n",
    "#find_runs('https://www.cricbuzz.com/cricket-full-commentary/35612/mi-vs-rcb-1st-match-indian-premier-league-2021')"
   ]
  },
  {
   "cell_type": "code",
   "execution_count": 46,
   "metadata": {},
   "outputs": [],
   "source": [
    "# find the length of the each ball\n",
    "def find_length(url):\n",
    "    file_name=url.split('/')[-1]\n",
    "    #print(file_name)\n",
    "    length=[]\n",
    "    none=[]\n",
    "    df=pd.read_csv(f'files/2017/{file_name}.csv')\n",
    "\n",
    "    #display(df)\n",
    "    for i,line in enumerate(df[\"Commentary Text\"]):\n",
    "        match=re.search('short|slot|full-toss|back of|good|tosse|full|on a length|yorker|of a length|length delivery|length ball|length on|length,',line,re.IGNORECASE)\n",
    "\n",
    "        length_balls=['on a length','of a length','length delivery','length ball','length on','length,']\n",
    "    \n",
    "        if match:\n",
    "            \n",
    "            if match.group(0).casefold()=='short':\n",
    "                df.loc[i,['ball_length']]= 'Short'\n",
    "            elif match.group(0).casefold()=='full':\n",
    "                df.loc[i,['ball_length']]= 'Full'\n",
    "            elif match.group(0).casefold()=='slot':\n",
    "                df.loc[i,['ball_length']]= 'Slot'\n",
    "            elif match.group(0).casefold()=='back of':\n",
    "                df.loc[i,['ball_length']]= 'Back of Length'\n",
    "            elif match.group(0).casefold()=='good':\n",
    "                df.loc[i,['ball_length']]= 'Good'\n",
    "            elif match.group(0).casefold()=='tosse' or match.group(0).casefold()=='full-toss':\n",
    "                df.loc[i,['ball_length']]= 'Full toss'\n",
    "            elif match.group(0).casefold()=='yorker':\n",
    "                df.loc[i,['ball_length']]= 'yorker'\n",
    "            elif  match.group(0).casefold() in length_balls:\n",
    "                df.loc[i,['ball_length']]= 'Good'\n",
    "            else:\n",
    "                print(match.group(0))\n",
    "                break\n",
    "\n",
    "        else:\n",
    "            df.loc[i,['ball_length']]= 'undefined'\n",
    "    #display(df)\n",
    "    df.to_csv(f'files/2017/{file_name}.csv',index=False)    \n",
    "#find_length('https://www.cricbuzz.com/cricket-full-commentary/35612/mi-vs-rcb-1st-match-indian-premier-league-2021')"
   ]
  },
  {
   "cell_type": "code",
   "execution_count": 47,
   "metadata": {},
   "outputs": [],
   "source": [
    "def find_speed(url):\n",
    "    file_name=url.split('/')[-1]\n",
    "    k=0\n",
    "    df=pd.read_csv(f'files/2017/{file_name}.csv')\n",
    "    #print(df.info())\n",
    "    l=0\n",
    "    for i,line in enumerate(df[\"Commentary Text\"]):\n",
    "        match = re.search(r'([\\d.]+)kph',line)\n",
    "        l=l+1\n",
    "        if match:\n",
    "            speed = match.group(1)\n",
    "            #print(line)\n",
    "            df.loc[i,'ball_speed']=match.group(1)\n",
    "\n",
    "    df.to_csv(f'files/2017/{file_name}.csv',index=False)\n",
    "#find_speed('https://www.cricbuzz.com/cricket-full-commentary/35612/mi-vs-rcb-1st-match-indian-premier-league-2021')"
   ]
  },
  {
   "cell_type": "code",
   "execution_count": 48,
   "metadata": {},
   "outputs": [],
   "source": [
    "def find_line(url):\n",
    "    file_name=url.split('/')[-1]\n",
    "    df=pd.read_csv(f'files/2017/{file_name}.csv')\n",
    "    #print(df.info())\n",
    "    l=0\n",
    "    k=0\n",
    "    m=0\n",
    "    for i,line in enumerate(df[\"Commentary Text\"]):\n",
    "        if df.loc[i,'ball_length'] =='undefined':\n",
    "            \n",
    "            match=re.search('down-leg|wide|at the stump|off stump|outside-off|on the pad|outside-leg|outside off|on middle|on the stumps|the hip|sticks|into the wicket|outside leg|to off|on off|on leg|leg stump|leg-lined|middle-lined',line,re.IGNORECASE)\n",
    "            if match:\n",
    "                m=m+1\n",
    "                #print(match)\n",
    "                stumps=['at the stumps','on middle','on the stumps','the hip','sticks','into the wicket','leg stump','down leg','middle-lined','at the stump','on the pad']\n",
    "\n",
    "                off_side=['off stump','outside-off','outside off','on off','on off','to off']\n",
    "                leg_side=['outside leg','on leg','leg stump','leg-lined','outside-leg']\n",
    "\n",
    "\n",
    "                if match.group(0).casefold() in stumps:\n",
    "                    df.loc[i,['ball_line']]= 'stump line'\n",
    "                elif match.group(0).casefold() in off_side:\n",
    "                    df.loc[i,['ball_line']]= 'off side'\n",
    "                elif match.group(0).casefold() in leg_side:\n",
    "                    df.loc[i,['ball_line']]= 'leg side'\n",
    "                elif match.group(0).casefold() == 'wide':\n",
    "                    df.loc[i,['ball_line']]= 'wide' \n",
    "                else:\n",
    "                    \n",
    "                    print('error',match.group(0))\n",
    "            else:\n",
    "                k=k+1\n",
    "                df.loc[i,['ball_line']]= 'undefined'\n",
    "        else:\n",
    "            \n",
    "            match=re.search('down-leg|wide|at the stump|off stump|outside-off|outside-leg|on the pad|outside off|on middle|on the stumps|the hip|sticks|into the wicket|outside leg|to off|on off|on leg|leg stump|leg-lined|middle-lined',line,re.IGNORECASE)\n",
    "            if match:\n",
    "                #print(match)\n",
    "                m=m+1\n",
    "                stumps=['at the stump','on middle','on the stumps','the hip','sticks','into the wicket','leg stump','down leg','middle-lined','at the stump','on the pad']\n",
    "                off_side=['off stump','outside-off','outside off','on off','on off','to off']\n",
    "                leg_side=['outside leg','on leg','leg stump','leg-lined','outside-leg']\n",
    "\n",
    "\n",
    "                if match.group(0).casefold() in stumps:\n",
    "                    df.loc[i,['ball_line']]= 'stump line'\n",
    "                elif match.group(0).casefold() in off_side:\n",
    "                    df.loc[i,['ball_line']]= 'off side'\n",
    "                elif match.group(0).casefold() in leg_side:\n",
    "                    df.loc[i,['ball_line']]= 'leg side'\n",
    "                elif match.group(0).casefold() == 'wide':\n",
    "                    df.loc[i,['ball_line']]= 'wide' \n",
    "                else:\n",
    "                    print('error',match.group(0))\n",
    "            else:\n",
    "                k=k+1\n",
    "                \n",
    "                df.loc[i,['ball_line']]= None\n",
    "    print('match=',m)\n",
    "    print('non match=',k)\n",
    "    #display(df)\n",
    "    df.to_csv(f'files/2017/{file_name}.csv',index=False)  \n",
    "#find_line('https://www.cricbuzz.com/cricket-full-commentary/35612/mi-vs-rcb-1st-match-indian-premier-league-2021')"
   ]
  },
  {
   "cell_type": "code",
   "execution_count": 49,
   "metadata": {},
   "outputs": [],
   "source": [
    "def find_destination(url):\n",
    "    file_name=url.split('/')[-1]\n",
    "    #print(file_name)\n",
    "    l=0\n",
    "    k=0\n",
    "    df=pd.read_csv(f'files/2017/{file_name}.csv')\n",
    "\n",
    "    #display(df)\n",
    "    for i,line in enumerate(df[\"Commentary Text\"]):\n",
    "        #print(line)\n",
    "        fielding_positions = re.search(r\"(?i)\\b(?:gully|slip|third\\s*man|fine\\s*leg|down the pitch|square\\s*leg|mid\\s*wicket|mid-wicket|deep backward square|long-on|long\\s*on|long\\s*off|long-off|cover|mid\\s*off|mid-off|mid\\s*on|mid-on|point|deep square|deep\\s*square\\s*leg|deep\\s*mid\\s*wicket|deep\\s*cover|deep\\s*point|short\\s*leg|silly\\s*point|short\\s*mid\\s*wicket|backward\\s*point|extra\\s*cover|short\\s*third\\s*man|long\\s*stop|leg\\s*slip|short\\s*fine\\s*leg|short\\s*mid\\s*off|short\\s*mid\\s*on|cow\\s*corner|deep\\s*backward\\s*point|deep backward square|deep\\s*extra\\s*cover|deep\\s*mid\\s*off|deep\\s*mid\\s*on|deep\\s*silly\\s*point|fine\\s*leg\\s*slip|fine\\s*third\\s*man|long\\s*leg|long\\s*silly\\s*point|long\\s*leg\\s*slip|short\\s*cover|short\\s*extra\\s*cover|short\\s*long\\s*leg|short\\s*mid\\s*leg|short\\s*square\\s*leg|super\\s*cover|super\\s*deep\\s*extra\\s*cover|sweeper|defence|super\\s*extra\\s*cover|super\\s*long\\s*off|super\\s*long\\s*on|super\\s*mid\\s*off|super\\s*mid\\s*on|super\\s*point|super\\s*short\\s*cover|covers|super\\s*square\\s*leg|super\\s*third\\s*man|off-side|keeper|straight|short fine|square|super\\s*mid\\s*wicket)\\b\", line, flags=re.IGNORECASE)\n",
    "        if fielding_positions:\n",
    "            l=l+1\n",
    "            df.loc[i,'ball_destination']=fielding_positions.group(0)\n",
    "        else:\n",
    "            k=k+1\n",
    "    # print('match=',l)\n",
    "    # print('non-match=',k)\n",
    "    # display(df)\n",
    "    df.to_csv(f'files/2017/{file_name}.csv',index=False)\n",
    "#find_destination('https://www.cricbuzz.com/cricket-full-commentary/35612/mi-vs-rcb-1st-match-indian-premier-league-2021')"
   ]
  },
  {
   "cell_type": "code",
   "execution_count": 50,
   "metadata": {},
   "outputs": [],
   "source": [
    "def find_shots(url):\n",
    "    file_name=url.split('/')[-1]\n",
    "    #print(file_name)\n",
    "    l=0\n",
    "    k=0\n",
    "    df=pd.read_csv(f'files/2017/{file_name}.csv')\n",
    "    for i,line in enumerate(df[\"Commentary Text\"]):\n",
    "        if df.loc[i,'runs']==\"wide\":\n",
    "            df.loc[i,'shot_name']=\"wide\"\n",
    "        elif 'edge' in line.lower():\n",
    "            df.loc[i,'shot_name']=\"edge\"\n",
    "        elif 'beaten' in line.lower():\n",
    "            df.loc[i,'shot_name']='beaten'\n",
    "        elif 'miss' in line.lower():\n",
    "            df.loc[i,'shot_name']='beaten'\n",
    "        elif 'block' in line.lower():\n",
    "            df.loc[i,'shot_name']='defend'\n",
    "        elif 'defend' in line.lower():\n",
    "            df.loc[i,'shot_name']='defend'\n",
    "        elif 'drive' in line.lower():    \n",
    "            if df.loc[i,'ball_destination'] in ['long-on','mid-on','midwicket','mid-wicket','deep midwicket']:\n",
    "                df.loc[i,'shot_name']='on drive'\n",
    "                \n",
    "            elif df.loc[i,'ball_destination'] in ['long-off','mid-off']:\n",
    "                df.loc[i,'shot_name']='off drive'\n",
    "            elif df.loc[i,'ball_destination'] in ['cover','deep extra cover','covers','extra cover']:\n",
    "                df.loc[i,'shot_name']='cover drive'\n",
    "            elif df.loc[i,'ball_destination'] in ['deep square','deep backward square','square leg','backward point','square']:\n",
    "                df.loc[i,'shot_name']='square drive'\n",
    "\n",
    "            elif df.loc[i,'ball_destination'] =='straight':\n",
    "                df.loc[i,'shot_name']='straight drive'\n",
    "            else:\n",
    "                df.loc[i,'shot_name']='drive'\n",
    "        elif 'pull' in line.lower():\n",
    "            df.loc[i,'shot_name']='pull shot'\n",
    "        elif 'hook' in line.lower():\n",
    "            df.loc[i,'shot_name']='hook shot'\n",
    "        elif 'cut' in line.lower():\n",
    "            #print(df.loc[i,'ball_destination'])\n",
    "            if df.loc[i,'ball_destination'] in ['Third man','third man','short third man']:\n",
    "                df.loc[i,'shot_name']='late cut'\n",
    "            elif df.loc[i,'ball_destination'] in ['backward point','point']:\n",
    "                df.loc[i,'shot_name']='Cut'\n",
    "            elif df.loc[i,'ball_destination'] in ['deep cover','deep point','cover']:\n",
    "                df.loc[i,'shot_name']='square cut'\n",
    "            else:\n",
    "                df.loc[i,'shot_name']='cut shot' \n",
    "        elif 'flick' in line.lower():\n",
    "            df.loc[i,'shot_name']='flick shot'\n",
    "        elif 'push' in line.lower():\n",
    "            df.loc[i,'shot_name']='push shot'\n",
    "        elif 'switch' in line.lower():\n",
    "            df.loc[i,'shot_name']='switch hi'\n",
    "        elif 'helicopter' in line.lower():\n",
    "            df.loc[i,'shot_name']='helicopter shot'\n",
    "        elif 'ramp' in line.lower():\n",
    "            df.loc[i,'shot_name']='ramp shot'\n",
    "        elif 'upper' in line.lower():\n",
    "            df.loc[i,'shot_name']='upper cut'\n",
    "        elif 'slog' in line.lower():\n",
    "            df.loc[i,'shot_name']='slog shot'\n",
    "\n",
    "        else:\n",
    "            shots_regex = r\"drive|Cover Drive|Square Drive|On Drive|Pull Shot|Hook Shot|Cut Shot|Late Cut|Sweep Shot|Reverse Sweep|Flick Shot|Glance|Square Cut|Block|Defensive Shot|Leave|Nurgle|Slog|Switch Hit|Dilscoop|Helicopter Shot|Ramp Shot|Upper Cut|Slap Shot|Inside-out Shot|Scoop Shot|Dab|Reverse Dab|Leg Glance|Hockey Shot|Marillier Shot|Reverse Marillier Shot|Sweep Scoop|Yoga Shot|Helicopter Flick|Upper Hook|Slog Sweep|Inside-out Hook|Slog Reverse Sweep|Upper Drive|Pull Drive|Sweep Drive|Sweep Pull|Sweep Flick|Scoop Flick|Flick Drive|Switch Flick|Dilscoop Drive|Slap Drive|Slap Hook|Slap Pull|Slap Flick|Reverse Slap|Reverse Slap Drive|Reverse Slap Hook|Reverse Slap Pull|Reverse Slap Flick|Slap Sweep|Slap Scoop|Slap Cut|Slap Reverse Sweep|Reverse Slap Sweep|Reverse Slap Scoop|Reverse Slap Cut|Reverse Slap Reverse Sweep\"\n",
    "            match=re.search(shots_regex,line,re.IGNORECASE)\n",
    "            if match:\n",
    "                df.loc[i,'shot_name']=match.group(0)\n",
    "    df.to_csv(f'files/2017/{file_name}.csv',index=False)  \n",
    "#find_shots('https://www.cricbuzz.com/cricket-full-commentary/35612/mi-vs-rcb-1st-match-indian-premier-league-2021')"
   ]
  },
  {
   "cell_type": "code",
   "execution_count": 51,
   "metadata": {},
   "outputs": [],
   "source": [
    "def find_out_type(url):\n",
    "    file_name=url.split('/')[-1]\n",
    "    l=0\n",
    "    df=pd.read_csv(f'files/2017/{file_name}.csv')\n",
    "    for i,line in enumerate(df[\"Commentary Text\"]):\n",
    "        if df.loc[i,'runs']=='out':\n",
    "            if 'caught' in line.lower():\n",
    "                try:\n",
    "                    text = line.lower()\n",
    "                    left = 'caught by'\n",
    "                    right = '!!'\n",
    "                    df.loc[i,'out_type']='Catch out ,'+text[text.index(left)+len(left):text.index(right)]\n",
    "                except:\n",
    "                    df.loc[i,'out_type']='Catch out ,'+df.loc[i,'Bowler']\n",
    "            elif 'run out' in line.lower():\n",
    "                match=re.search(r\"\\((.*?)\\)\",line,re.IGNORECASE)\n",
    "                if match:\n",
    "                    df.loc[i,'out_type']='run out ,'+match.group(0)\n",
    "                else:\n",
    "                    df.loc[i,'out_type']='run out ,'\n",
    "            elif 'bowled!!' in line.lower():\n",
    "                df.loc[i,'out_type']='bowled'\n",
    "            elif 'lbw!!' in line.lower():\n",
    "                df.loc[i,'out_type']='LBW'\n",
    "            elif 'Hit Wkt!!'.casefold() in line.lower():\n",
    "                df.loc[i,'out_type']='hit wicket'\n",
    "            elif 'Stumped!!'.casefold() in line.lower():\n",
    "                df.loc[i,'out_type']='stumped'\n",
    "            else:\n",
    "                pass                \n",
    "    df.to_csv(f'files/2017/{file_name}.csv',index=False)\n",
    "#find_out_type('https://www.cricbuzz.com/cricket-full-commentary/66239/rcb-vs-lsg-15th-match-indian-premier-league-2023')"
   ]
  },
  {
   "cell_type": "code",
   "execution_count": 52,
   "metadata": {},
   "outputs": [
    {
     "name": "stdout",
     "output_type": "stream",
     "text": [
      "['https://www.cricbuzz.com/cricket-full-commentary/18121/srh-vs-rcb-1st-match-indian-premier-league-2017', 'https://www.cricbuzz.com/cricket-full-commentary/18122/rps-vs-mi-2nd-match-indian-premier-league-2017', 'https://www.cricbuzz.com/cricket-full-commentary/18123/gl-vs-kkr-3rd-match-indian-premier-league-2017', 'https://www.cricbuzz.com/cricket-full-commentary/18124/pbks-vs-rps-4th-match-indian-premier-league-2017', 'https://www.cricbuzz.com/cricket-full-commentary/18125/rcb-vs-dc-5th-match-indian-premier-league-2017', 'https://www.cricbuzz.com/cricket-full-commentary/18126/srh-vs-gl-6th-match-indian-premier-league-2017', 'https://www.cricbuzz.com/cricket-full-commentary/18127/mi-vs-kkr-7th-match-indian-premier-league-2017', 'https://www.cricbuzz.com/cricket-full-commentary/18128/pbks-vs-rcb-8th-match-indian-premier-league-2017', 'https://www.cricbuzz.com/cricket-full-commentary/18129/rps-vs-dc-9th-match-indian-premier-league-2017', 'https://www.cricbuzz.com/cricket-full-commentary/18130/mi-vs-srh-10th-match-indian-premier-league-2017', 'https://www.cricbuzz.com/cricket-full-commentary/18131/kkr-vs-pbks-11th-match-indian-premier-league-2017', 'https://www.cricbuzz.com/cricket-full-commentary/18132/rcb-vs-mi-12th-match-indian-premier-league-2017', 'https://www.cricbuzz.com/cricket-full-commentary/18133/gl-vs-rps-13th-match-indian-premier-league-2017', 'https://www.cricbuzz.com/cricket-full-commentary/18134/kkr-vs-srh-14th-match-indian-premier-league-2017', 'https://www.cricbuzz.com/cricket-full-commentary/18135/dc-vs-pbks-15th-match-indian-premier-league-2017', 'https://www.cricbuzz.com/cricket-full-commentary/18136/mi-vs-gl-16th-match-indian-premier-league-2017', 'https://www.cricbuzz.com/cricket-full-commentary/18137/rcb-vs-rps-17th-match-indian-premier-league-2017', 'https://www.cricbuzz.com/cricket-full-commentary/18138/dc-vs-kkr-18th-match-indian-premier-league-2017', 'https://www.cricbuzz.com/cricket-full-commentary/18139/srh-vs-pbks-19th-match-indian-premier-league-2017', 'https://www.cricbuzz.com/cricket-full-commentary/18140/gl-vs-rcb-20th-match-indian-premier-league-2017', 'https://www.cricbuzz.com/cricket-full-commentary/18141/srh-vs-dc-21st-match-indian-premier-league-2017', 'https://www.cricbuzz.com/cricket-full-commentary/18142/pbks-vs-mi-22nd-match-indian-premier-league-2017', 'https://www.cricbuzz.com/cricket-full-commentary/18143/kkr-vs-gl-23rd-match-indian-premier-league-2017', 'https://www.cricbuzz.com/cricket-full-commentary/18144/rps-vs-srh-24th-match-indian-premier-league-2017', 'https://www.cricbuzz.com/cricket-full-commentary/18145/mi-vs-dc-25th-match-indian-premier-league-2017', 'https://www.cricbuzz.com/cricket-full-commentary/18146/gl-vs-pbks-26th-match-indian-premier-league-2017', 'https://www.cricbuzz.com/cricket-full-commentary/18147/kkr-vs-rcb-27th-match-indian-premier-league-2017', 'https://www.cricbuzz.com/cricket-full-commentary/18148/mi-vs-rps-28th-match-indian-premier-league-2017', 'https://www.cricbuzz.com/cricket-full-commentary/18149/rcb-vs-srh-29th-match-indian-premier-league-2017', 'https://www.cricbuzz.com/cricket-full-commentary/18150/rps-vs-kkr-30th-match-indian-premier-league-2017', 'https://www.cricbuzz.com/cricket-full-commentary/18151/rcb-vs-gl-31st-match-indian-premier-league-2017', 'https://www.cricbuzz.com/cricket-full-commentary/18152/kkr-vs-dc-32nd-match-indian-premier-league-2017', 'https://www.cricbuzz.com/cricket-full-commentary/18153/pbks-vs-srh-33rd-match-indian-premier-league-2017', 'https://www.cricbuzz.com/cricket-full-commentary/18154/rps-vs-rcb-34th-match-indian-premier-league-2017', 'https://www.cricbuzz.com/cricket-full-commentary/18155/gl-vs-mi-35th-match-indian-premier-league-2017', 'https://www.cricbuzz.com/cricket-full-commentary/18156/pbks-vs-dc-36th-match-indian-premier-league-2017', 'https://www.cricbuzz.com/cricket-full-commentary/18157/srh-vs-kkr-37th-match-indian-premier-league-2017', 'https://www.cricbuzz.com/cricket-full-commentary/18158/mi-vs-rcb-38th-match-indian-premier-league-2017', 'https://www.cricbuzz.com/cricket-full-commentary/18159/rps-vs-gl-39th-match-indian-premier-league-2017', 'https://www.cricbuzz.com/cricket-full-commentary/18160/dc-vs-srh-40th-match-indian-premier-league-2017', 'https://www.cricbuzz.com/cricket-full-commentary/18161/kkr-vs-rps-41st-match-indian-premier-league-2017', 'https://www.cricbuzz.com/cricket-full-commentary/18162/dc-vs-gl-42nd-match-indian-premier-league-2017', 'https://www.cricbuzz.com/cricket-full-commentary/18163/rcb-vs-pbks-43rd-match-indian-premier-league-2017', 'https://www.cricbuzz.com/cricket-full-commentary/18164/srh-vs-rps-44th-match-indian-premier-league-2017', 'https://www.cricbuzz.com/cricket-full-commentary/18165/dc-vs-mi-45th-match-indian-premier-league-2017', 'https://www.cricbuzz.com/cricket-full-commentary/18166/rcb-vs-kkr-46th-match-indian-premier-league-2017', 'https://www.cricbuzz.com/cricket-full-commentary/18167/pbks-vs-gl-47th-match-indian-premier-league-2017', 'https://www.cricbuzz.com/cricket-full-commentary/18168/srh-vs-mi-48th-match-indian-premier-league-2017', 'https://www.cricbuzz.com/cricket-full-commentary/18169/pbks-vs-kkr-49th-match-indian-premier-league-2017', 'https://www.cricbuzz.com/cricket-full-commentary/18170/gl-vs-dc-50th-match-indian-premier-league-2017', 'https://www.cricbuzz.com/cricket-full-commentary/18171/mi-vs-pbks-51st-match-indian-premier-league-2017', 'https://www.cricbuzz.com/cricket-full-commentary/18172/dc-vs-rps-52nd-match-indian-premier-league-2017', 'https://www.cricbuzz.com/cricket-full-commentary/18173/gl-vs-srh-53rd-match-indian-premier-league-2017', 'https://www.cricbuzz.com/cricket-full-commentary/18174/kkr-vs-mi-54th-match-indian-premier-league-2017', 'https://www.cricbuzz.com/cricket-full-commentary/18175/rps-vs-pbks-55th-match-indian-premier-league-2017', 'https://www.cricbuzz.com/cricket-full-commentary/18176/dc-vs-rcb-56th-match-indian-premier-league-2017', 'https://www.cricbuzz.com/cricket-full-commentary/18177/mi-vs-rps-qualifier-1-indian-premier-league-2017', 'https://www.cricbuzz.com/cricket-full-commentary/18178/srh-vs-kkr-eliminator-indian-premier-league-2017', 'https://www.cricbuzz.com/cricket-full-commentary/18179/mi-vs-kkr-qualifier-2-indian-premier-league-2017', 'https://www.cricbuzz.com/cricket-full-commentary/18180/rps-vs-mi-final-indian-premier-league-2017']\n"
     ]
    },
    {
     "name": "stderr",
     "output_type": "stream",
     "text": [
      "  0%|\u001b[32m          \u001b[0m| 0/60 [00:00<?, ?it/s]"
     ]
    },
    {
     "name": "stdout",
     "output_type": "stream",
     "text": [
      "https://www.cricbuzz.com/cricket-full-commentary/18121/srh-vs-rcb-1st-match-indian-premier-league-2017\n",
      "srh-vs-rcb-1st-match-indian-premier-league-2017\n",
      "error\n",
      "'Toss_winner'\n"
     ]
    },
    {
     "name": "stderr",
     "output_type": "stream",
     "text": [
      "  2%|\u001b[32m▏         \u001b[0m| 1/60 [00:01<01:02,  1.06s/it]"
     ]
    },
    {
     "name": "stdout",
     "output_type": "stream",
     "text": [
      "match= 111\n",
      "non match= 137\n",
      "https://www.cricbuzz.com/cricket-full-commentary/18122/rps-vs-mi-2nd-match-indian-premier-league-2017\n",
      "rps-vs-mi-2nd-match-indian-premier-league-2017\n",
      "error\n",
      "'Toss_winner'\n"
     ]
    },
    {
     "name": "stderr",
     "output_type": "stream",
     "text": [
      "  3%|\u001b[32m▎         \u001b[0m| 2/60 [00:02<01:09,  1.20s/it]"
     ]
    },
    {
     "name": "stdout",
     "output_type": "stream",
     "text": [
      "match= 130\n",
      "non match= 117\n",
      "https://www.cricbuzz.com/cricket-full-commentary/18123/gl-vs-kkr-3rd-match-indian-premier-league-2017\n",
      "gl-vs-kkr-3rd-match-indian-premier-league-2017\n",
      "error\n",
      "'Toss_winner'\n"
     ]
    },
    {
     "name": "stderr",
     "output_type": "stream",
     "text": [
      "  5%|\u001b[32m▌         \u001b[0m| 3/60 [00:03<00:57,  1.01s/it]"
     ]
    },
    {
     "name": "stdout",
     "output_type": "stream",
     "text": [
      "match= 82\n",
      "non match= 136\n",
      "https://www.cricbuzz.com/cricket-full-commentary/18124/pbks-vs-rps-4th-match-indian-premier-league-2017\n",
      "pbks-vs-rps-4th-match-indian-premier-league-2017\n",
      "error\n",
      "'Toss_winner'\n"
     ]
    },
    {
     "name": "stderr",
     "output_type": "stream",
     "text": [
      "  7%|\u001b[32m▋         \u001b[0m| 4/60 [00:04<00:56,  1.01s/it]"
     ]
    },
    {
     "name": "stdout",
     "output_type": "stream",
     "text": [
      "match= 64\n",
      "non match= 183\n",
      "https://www.cricbuzz.com/cricket-full-commentary/18125/rcb-vs-dc-5th-match-indian-premier-league-2017\n",
      "rcb-vs-dc-5th-match-indian-premier-league-2017\n",
      "error\n",
      "'Toss_winner'\n"
     ]
    },
    {
     "name": "stderr",
     "output_type": "stream",
     "text": [
      "  8%|\u001b[32m▊         \u001b[0m| 5/60 [00:05<00:54,  1.01it/s]"
     ]
    },
    {
     "name": "stdout",
     "output_type": "stream",
     "text": [
      "match= 139\n",
      "non match= 109\n",
      "https://www.cricbuzz.com/cricket-full-commentary/18126/srh-vs-gl-6th-match-indian-premier-league-2017\n",
      "srh-vs-gl-6th-match-indian-premier-league-2017\n",
      "error\n",
      "'Toss_winner'\n"
     ]
    },
    {
     "name": "stderr",
     "output_type": "stream",
     "text": [
      " 10%|\u001b[32m█         \u001b[0m| 6/60 [00:05<00:51,  1.05it/s]"
     ]
    },
    {
     "name": "stdout",
     "output_type": "stream",
     "text": [
      "match= 95\n",
      "non match= 121\n",
      "https://www.cricbuzz.com/cricket-full-commentary/18127/mi-vs-kkr-7th-match-indian-premier-league-2017\n",
      "mi-vs-kkr-7th-match-indian-premier-league-2017\n",
      "error\n",
      "'Toss_winner'\n"
     ]
    },
    {
     "name": "stderr",
     "output_type": "stream",
     "text": [
      " 12%|\u001b[32m█▏        \u001b[0m| 7/60 [00:06<00:49,  1.06it/s]"
     ]
    },
    {
     "name": "stdout",
     "output_type": "stream",
     "text": [
      "match= 118\n",
      "non match= 136\n",
      "https://www.cricbuzz.com/cricket-full-commentary/18128/pbks-vs-rcb-8th-match-indian-premier-league-2017\n",
      "pbks-vs-rcb-8th-match-indian-premier-league-2017\n",
      "error\n",
      "'Toss_winner'\n"
     ]
    },
    {
     "name": "stderr",
     "output_type": "stream",
     "text": [
      " 13%|\u001b[32m█▎        \u001b[0m| 8/60 [00:07<00:46,  1.12it/s]"
     ]
    },
    {
     "name": "stdout",
     "output_type": "stream",
     "text": [
      "match= 81\n",
      "non match= 131\n",
      "https://www.cricbuzz.com/cricket-full-commentary/18129/rps-vs-dc-9th-match-indian-premier-league-2017\n",
      "rps-vs-dc-9th-match-indian-premier-league-2017\n",
      "error\n",
      "'Toss_winner'\n"
     ]
    },
    {
     "name": "stderr",
     "output_type": "stream",
     "text": [
      " 15%|\u001b[32m█▌        \u001b[0m| 9/60 [00:08<00:43,  1.16it/s]"
     ]
    },
    {
     "name": "stdout",
     "output_type": "stream",
     "text": [
      "match= 119\n",
      "non match= 107\n",
      "https://www.cricbuzz.com/cricket-full-commentary/18130/mi-vs-srh-10th-match-indian-premier-league-2017\n",
      "mi-vs-srh-10th-match-indian-premier-league-2017\n",
      "error\n",
      "'Toss_winner'\n"
     ]
    },
    {
     "name": "stderr",
     "output_type": "stream",
     "text": [
      " 17%|\u001b[32m█▋        \u001b[0m| 10/60 [00:09<00:43,  1.15it/s]"
     ]
    },
    {
     "name": "stdout",
     "output_type": "stream",
     "text": [
      "match= 101\n",
      "non match= 138\n",
      "https://www.cricbuzz.com/cricket-full-commentary/18131/kkr-vs-pbks-11th-match-indian-premier-league-2017\n",
      "kkr-vs-pbks-11th-match-indian-premier-league-2017\n",
      "error\n",
      "'Toss_winner'\n"
     ]
    },
    {
     "name": "stderr",
     "output_type": "stream",
     "text": [
      " 18%|\u001b[32m█▊        \u001b[0m| 11/60 [00:10<00:43,  1.11it/s]"
     ]
    },
    {
     "name": "stdout",
     "output_type": "stream",
     "text": [
      "match= 138\n",
      "non match= 96\n",
      "https://www.cricbuzz.com/cricket-full-commentary/18132/rcb-vs-mi-12th-match-indian-premier-league-2017\n",
      "rcb-vs-mi-12th-match-indian-premier-league-2017\n",
      "error\n",
      "'Toss_winner'\n"
     ]
    },
    {
     "name": "stderr",
     "output_type": "stream",
     "text": [
      " 20%|\u001b[32m██        \u001b[0m| 12/60 [00:11<00:43,  1.12it/s]"
     ]
    },
    {
     "name": "stdout",
     "output_type": "stream",
     "text": [
      "match= 94\n",
      "non match= 149\n",
      "https://www.cricbuzz.com/cricket-full-commentary/18133/gl-vs-rps-13th-match-indian-premier-league-2017\n",
      "gl-vs-rps-13th-match-indian-premier-league-2017\n",
      "error\n",
      "'Toss_winner'\n"
     ]
    },
    {
     "name": "stderr",
     "output_type": "stream",
     "text": [
      " 22%|\u001b[32m██▏       \u001b[0m| 13/60 [00:12<00:40,  1.15it/s]"
     ]
    },
    {
     "name": "stdout",
     "output_type": "stream",
     "text": [
      "match= 81\n",
      "non match= 155\n",
      "https://www.cricbuzz.com/cricket-full-commentary/18134/kkr-vs-srh-14th-match-indian-premier-league-2017\n",
      "kkr-vs-srh-14th-match-indian-premier-league-2017\n",
      "error\n",
      "'Toss_winner'\n"
     ]
    },
    {
     "name": "stderr",
     "output_type": "stream",
     "text": [
      " 23%|\u001b[32m██▎       \u001b[0m| 14/60 [00:12<00:39,  1.16it/s]"
     ]
    },
    {
     "name": "stdout",
     "output_type": "stream",
     "text": [
      "match= 69\n",
      "non match= 181\n",
      "https://www.cricbuzz.com/cricket-full-commentary/18135/dc-vs-pbks-15th-match-indian-premier-league-2017\n",
      "dc-vs-pbks-15th-match-indian-premier-league-2017\n",
      "error\n",
      "'Toss_winner'\n"
     ]
    },
    {
     "name": "stderr",
     "output_type": "stream",
     "text": [
      " 25%|\u001b[32m██▌       \u001b[0m| 15/60 [00:13<00:38,  1.17it/s]"
     ]
    },
    {
     "name": "stdout",
     "output_type": "stream",
     "text": [
      "match= 94\n",
      "non match= 154\n",
      "https://www.cricbuzz.com/cricket-full-commentary/18136/mi-vs-gl-16th-match-indian-premier-league-2017\n",
      "mi-vs-gl-16th-match-indian-premier-league-2017\n",
      "error\n",
      "'Toss_winner'\n"
     ]
    },
    {
     "name": "stderr",
     "output_type": "stream",
     "text": [
      " 27%|\u001b[32m██▋       \u001b[0m| 16/60 [00:14<00:38,  1.15it/s]"
     ]
    },
    {
     "name": "stdout",
     "output_type": "stream",
     "text": [
      "match= 110\n",
      "non match= 141\n",
      "https://www.cricbuzz.com/cricket-full-commentary/18137/rcb-vs-rps-17th-match-indian-premier-league-2017\n",
      "rcb-vs-rps-17th-match-indian-premier-league-2017\n",
      "error\n",
      "'Toss_winner'\n"
     ]
    },
    {
     "name": "stderr",
     "output_type": "stream",
     "text": [
      " 28%|\u001b[32m██▊       \u001b[0m| 17/60 [00:15<00:37,  1.16it/s]"
     ]
    },
    {
     "name": "stdout",
     "output_type": "stream",
     "text": [
      "match= 94\n",
      "non match= 156\n",
      "https://www.cricbuzz.com/cricket-full-commentary/18138/dc-vs-kkr-18th-match-indian-premier-league-2017\n",
      "dc-vs-kkr-18th-match-indian-premier-league-2017\n",
      "error\n",
      "'Toss_winner'\n"
     ]
    },
    {
     "name": "stderr",
     "output_type": "stream",
     "text": [
      " 30%|\u001b[32m███       \u001b[0m| 18/60 [00:16<00:35,  1.17it/s]"
     ]
    },
    {
     "name": "stdout",
     "output_type": "stream",
     "text": [
      "match= 98\n",
      "non match= 147\n",
      "https://www.cricbuzz.com/cricket-full-commentary/18139/srh-vs-pbks-19th-match-indian-premier-league-2017\n",
      "srh-vs-pbks-19th-match-indian-premier-league-2017\n",
      "error\n",
      "'Toss_winner'\n"
     ]
    },
    {
     "name": "stderr",
     "output_type": "stream",
     "text": [
      " 32%|\u001b[32m███▏      \u001b[0m| 19/60 [00:17<00:34,  1.17it/s]"
     ]
    },
    {
     "name": "stdout",
     "output_type": "stream",
     "text": [
      "match= 97\n",
      "non match= 152\n",
      "https://www.cricbuzz.com/cricket-full-commentary/18140/gl-vs-rcb-20th-match-indian-premier-league-2017\n",
      "gl-vs-rcb-20th-match-indian-premier-league-2017\n",
      "error\n",
      "'Toss_winner'\n"
     ]
    },
    {
     "name": "stderr",
     "output_type": "stream",
     "text": [
      " 33%|\u001b[32m███▎      \u001b[0m| 20/60 [00:17<00:34,  1.17it/s]"
     ]
    },
    {
     "name": "stdout",
     "output_type": "stream",
     "text": [
      "match= 81\n",
      "non match= 168\n",
      "https://www.cricbuzz.com/cricket-full-commentary/18141/srh-vs-dc-21st-match-indian-premier-league-2017\n",
      "srh-vs-dc-21st-match-indian-premier-league-2017\n",
      "error\n",
      "'Toss_winner'\n"
     ]
    },
    {
     "name": "stderr",
     "output_type": "stream",
     "text": [
      " 35%|\u001b[32m███▌      \u001b[0m| 21/60 [00:18<00:32,  1.18it/s]"
     ]
    },
    {
     "name": "stdout",
     "output_type": "stream",
     "text": [
      "match= 94\n",
      "non match= 151\n",
      "https://www.cricbuzz.com/cricket-full-commentary/18142/pbks-vs-mi-22nd-match-indian-premier-league-2017\n",
      "pbks-vs-mi-22nd-match-indian-premier-league-2017\n",
      "error\n",
      "'Toss_winner'\n"
     ]
    },
    {
     "name": "stderr",
     "output_type": "stream",
     "text": [
      " 37%|\u001b[32m███▋      \u001b[0m| 22/60 [00:19<00:31,  1.21it/s]"
     ]
    },
    {
     "name": "stdout",
     "output_type": "stream",
     "text": [
      "match= 82\n",
      "non match= 143\n",
      "https://www.cricbuzz.com/cricket-full-commentary/18143/kkr-vs-gl-23rd-match-indian-premier-league-2017\n",
      "kkr-vs-gl-23rd-match-indian-premier-league-2017\n",
      "error\n",
      "'Toss_winner'\n"
     ]
    },
    {
     "name": "stderr",
     "output_type": "stream",
     "text": [
      " 38%|\u001b[32m███▊      \u001b[0m| 23/60 [00:20<00:30,  1.21it/s]"
     ]
    },
    {
     "name": "stdout",
     "output_type": "stream",
     "text": [
      "match= 97\n",
      "non match= 135\n",
      "https://www.cricbuzz.com/cricket-full-commentary/18144/rps-vs-srh-24th-match-indian-premier-league-2017\n",
      "rps-vs-srh-24th-match-indian-premier-league-2017\n",
      "error\n",
      "'Toss_winner'\n"
     ]
    },
    {
     "name": "stderr",
     "output_type": "stream",
     "text": [
      " 40%|\u001b[32m████      \u001b[0m| 24/60 [00:21<00:29,  1.20it/s]"
     ]
    },
    {
     "name": "stdout",
     "output_type": "stream",
     "text": [
      "match= 141\n",
      "non match= 104\n",
      "https://www.cricbuzz.com/cricket-full-commentary/18145/mi-vs-dc-25th-match-indian-premier-league-2017\n",
      "mi-vs-dc-25th-match-indian-premier-league-2017\n",
      "error\n",
      "'Toss_winner'\n"
     ]
    },
    {
     "name": "stderr",
     "output_type": "stream",
     "text": [
      " 42%|\u001b[32m████▏     \u001b[0m| 25/60 [00:22<00:29,  1.19it/s]"
     ]
    },
    {
     "name": "stdout",
     "output_type": "stream",
     "text": [
      "match= 78\n",
      "non match= 174\n",
      "https://www.cricbuzz.com/cricket-full-commentary/18146/gl-vs-pbks-26th-match-indian-premier-league-2017\n",
      "gl-vs-pbks-26th-match-indian-premier-league-2017\n",
      "error\n",
      "'Toss_winner'\n"
     ]
    },
    {
     "name": "stderr",
     "output_type": "stream",
     "text": [
      " 43%|\u001b[32m████▎     \u001b[0m| 26/60 [00:22<00:28,  1.19it/s]"
     ]
    },
    {
     "name": "stdout",
     "output_type": "stream",
     "text": [
      "match= 83\n",
      "non match= 162\n",
      "https://www.cricbuzz.com/cricket-full-commentary/18147/kkr-vs-rcb-27th-match-indian-premier-league-2017\n",
      "kkr-vs-rcb-27th-match-indian-premier-league-2017\n",
      "error\n",
      "'Toss_winner'\n"
     ]
    },
    {
     "name": "stderr",
     "output_type": "stream",
     "text": [
      " 45%|\u001b[32m████▌     \u001b[0m| 27/60 [00:23<00:26,  1.27it/s]"
     ]
    },
    {
     "name": "stdout",
     "output_type": "stream",
     "text": [
      "match= 82\n",
      "non match= 101\n",
      "https://www.cricbuzz.com/cricket-full-commentary/18148/mi-vs-rps-28th-match-indian-premier-league-2017\n",
      "mi-vs-rps-28th-match-indian-premier-league-2017\n",
      "error\n",
      "'Toss_winner'\n"
     ]
    },
    {
     "name": "stderr",
     "output_type": "stream",
     "text": [
      " 47%|\u001b[32m████▋     \u001b[0m| 28/60 [00:24<00:27,  1.14it/s]"
     ]
    },
    {
     "name": "stdout",
     "output_type": "stream",
     "text": [
      "match= 74\n",
      "non match= 171\n",
      "https://www.cricbuzz.com/cricket-full-commentary/18149/rcb-vs-srh-29th-match-indian-premier-league-2017\n",
      "rcb-vs-srh-29th-match-indian-premier-league-2017\n",
      "error\n",
      "'Toss_winner'\n",
      "https://www.cricbuzz.com/cricket-full-commentary/18149/rcb-vs-srh-29th-match-indian-premier-league-2017\n"
     ]
    },
    {
     "name": "stderr",
     "output_type": "stream",
     "text": [
      "\n"
     ]
    }
   ],
   "source": [
    "links=[]\n",
    "with open('match_links/2017_season_match_links.txt','r') as file:\n",
    "    for line in file:\n",
    "        links.append(line.strip())\n",
    "#print(links[0])\n",
    "print(links)\n",
    "\n",
    "\n",
    "for i in tqdm(links,colour='green'):\n",
    "        find_innings(i)"
   ]
  },
  {
   "cell_type": "code",
   "execution_count": 37,
   "metadata": {},
   "outputs": [
    {
     "name": "stdout",
     "output_type": "stream",
     "text": [
      "https://www.cricbuzz.com/cricket-full-commentary/18121/srh-vs-rcb-1st-match-indian-premier-league-2017\n",
      "srh-vs-rcb-1st-match-indian-premier-league-2017\n",
      "error\n",
      "'Toss_winner'\n",
      "match= 111\n",
      "non match= 137\n"
     ]
    }
   ],
   "source": [
    "i=links\n",
    "find_innings(i)\n",
    "find_bowling_team(i)\n",
    "find_batsman_bowler(i)\n",
    "find_runs(i)\n",
    "find_length(i)\n",
    "find_speed(i)\n",
    "find_line(i)\n",
    "find_destination(i)\n",
    "find_shots(i)\n",
    "find_out_type(i)\n"
   ]
  },
  {
   "cell_type": "code",
   "execution_count": null,
   "metadata": {},
   "outputs": [],
   "source": []
  }
 ],
 "metadata": {
  "kernelspec": {
   "display_name": "base",
   "language": "python",
   "name": "python3"
  },
  "language_info": {
   "codemirror_mode": {
    "name": "ipython",
    "version": 3
   },
   "file_extension": ".py",
   "mimetype": "text/x-python",
   "name": "python",
   "nbconvert_exporter": "python",
   "pygments_lexer": "ipython3",
   "version": "3.9.12"
  },
  "orig_nbformat": 4
 },
 "nbformat": 4,
 "nbformat_minor": 2
}
