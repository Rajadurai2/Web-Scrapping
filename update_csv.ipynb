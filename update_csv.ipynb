{
 "cells": [
  {
   "cell_type": "code",
   "execution_count": 35,
   "metadata": {},
   "outputs": [],
   "source": [
    "import os\n",
    "import requests\n",
    "from bs4 import BeautifulSoup\n",
    "import pandas as pd\n",
    "from tqdm import tqdm\n"
   ]
  },
  {
   "cell_type": "code",
   "execution_count": 36,
   "metadata": {},
   "outputs": [],
   "source": [
    "def short_name(team):\n",
    "        short_name={'Chennai Super Kings':'CSK',\n",
    "    'Mumbai Indians':'MI',\n",
    "    'Gujarat Titans':'GT',\n",
    "    'Kolkata Knight Riders':'KKR',\n",
    "    'Punjab Kings':'PBKS',\n",
    "    'Sunrisers Hyderabad':'SRH',\n",
    "    'Rajasthan Royals':'RR',\n",
    "    'Lucknow Super Giants':'LSG',\n",
    "    'Delhi Capitals':'DC',\n",
    "    'Royal Challengers Bangalore':'RCB'\n",
    "    }\n",
    "        return short_name[team]"
   ]
  },
  {
   "cell_type": "code",
   "execution_count": 37,
   "metadata": {},
   "outputs": [],
   "source": [
    "def get_moth(url):\n",
    "    cricbuzz_highlights_url=url\n",
    "    cricbuzz_highlights_url=cricbuzz_highlights_url.replace('cricket-full-commentary','cricket-scores')\n",
    "    cricbuzz_highlights_url\n",
    "    page=requests.get(cricbuzz_highlights_url)\n",
    "    soup=BeautifulSoup(page.content)\n",
    "    try: \n",
    "        win=soup.find('div',{'class':'cb-col cb-col-100 cb-min-stts cb-text-complete'}).text\n",
    "        #cb-col cb-col-100 cb-mini-col cb-min-comp ng-scope\n",
    "        #cb-link-undrln ng-binding\n",
    "        a=soup.find('span',{'class':'cb-text-gray cb-font-12'})\n",
    "        try:\n",
    "            man_of_the_match=a.next_sibling.next_sibling.next_sibling.text\n",
    "        except:\n",
    "            man_of_the_match=None\n",
    "    except:\n",
    "        win = None\n",
    "        man_of_the_match=None\n",
    "    file_name=url.split('/')[-1]\n",
    "    df=pd.read_csv(f'files/2021/{file_name}.csv')\n",
    "    df['win']=win\n",
    "    df['man_of_the_match']=man_of_the_match\n",
    "    df.to_csv(f'files/2021/{file_name}.csv',index=False)\n",
    "\n",
    "\n",
    "\n"
   ]
  },
  {
   "cell_type": "code",
   "execution_count": 38,
   "metadata": {},
   "outputs": [],
   "source": [
    "def find_toss(url):\n",
    "    file_name=url.split('/')[-1]\n",
    "    df=pd.read_csv(f'files/2023/{file_name}.csv')\n",
    "    try :\n",
    "        toss=df['toss'][0]\n",
    "        toss_win=toss[:toss.find('have')]\n",
    "        toss_choose=toss.split(' ')[-1]\n",
    "\n",
    "        df['Toss_winner']=short_name(toss_win.strip())\n",
    "        df['toss_chosen']=toss_choose\n",
    "        df.to_csv(f'files/2023/{file_name}.csv',index=False)\n",
    "    except:\n",
    "        print('error')\n",
    "        pass\n",
    "#find_toss('https://www.cricbuzz.com/cricket-full-commentary/35612/mi-vs-rcb-1st-match-indian-premier-league-2021')"
   ]
  },
  {
   "cell_type": "code",
   "execution_count": 46,
   "metadata": {},
   "outputs": [],
   "source": [
    "\n",
    "def find_innings(url):\n",
    "    file_name=url.split('/')[-1]\n",
    "    #print(file_name)\n",
    "    df=pd.read_csv(f'files/2023/{file_name}.csv')\n",
    "       \n",
    "    try :\n",
    "        toss_winner=df['Toss_winner'][0]\n",
    "        #print(toss_winner)\n",
    "        toss_choose=df['toss_chosen'][0]\n",
    "        #print(toss_choose)\n",
    "        if toss_choose=='field':\n",
    "            #print('fielding')\n",
    "           \n",
    "            #print(df[df['innings']== f'{toss_winner} Inns'.strip()]['innings'])\n",
    "            df['innings'].mask(df['innings']!=f'{toss_winner} Inns'.strip(),'1st Inns',inplace=True)\n",
    "            df['innings'].mask(df['innings']==f'{toss_winner} Inns'.strip(),'2nd Inns',inplace=True)\n",
    "            \n",
    "            #print(df)\n",
    "        else:\n",
    "            df['innings'].mask(df['innings']!=f'{toss_winner} Inns'.strip(),'2nd Inns',inplace=True)\n",
    "            df['innings'].mask(df['innings']==f'{toss_winner} Inns'.strip(),'1st Inns',inplace=True)\n",
    "            \n",
    "            \n",
    "           \n",
    "        #display(df)\n",
    "        df.to_csv(f'files/2023/{file_name}.csv',index=False)\n",
    "    except:\n",
    "        print('error')\n",
    "\n",
    "#find_innings('https://www.cricbuzz.com/cricket-full-commentary/66442/csk-vs-kkr-61st-match-indian-premier-league-2023')"
   ]
  },
  {
   "cell_type": "code",
   "execution_count": 80,
   "metadata": {},
   "outputs": [],
   "source": [
    "def find_bowling_team(url):\n",
    "    file_name=url.split('/')[-1]\n",
    "    #print(file_name)\n",
    "    df=pd.read_csv(f'files/2023/{file_name}.csv')\n",
    "    try :\n",
    "        toss_winner=df['Toss_winner'][0]\n",
    "        toss_choose=df['toss_chosen'][0]\n",
    "        a_team=short_name(df['team_a'][0])\n",
    "        b_team=short_name(df['team_b'][0])\n",
    "        teams=[a_team,b_team]\n",
    "        for i in teams:\n",
    "            if i==toss_winner:\n",
    "                teams.remove(i)\n",
    "        opt=teams[0]\n",
    "        if toss_choose=='bat':\n",
    "            df.loc[df['innings']=='1st Inns','batting_team']=toss_winner\n",
    "            df.loc[df['innings']=='1st Inns','bowling_team']=opt\n",
    "            df.loc[df['innings']=='2nd Inns','batting_team']=opt\n",
    "            df.loc[df['innings']=='2nd Inns','bowling_team']=toss_winner\n",
    "        if toss_choose=='field':\n",
    "            df.loc[df['innings']=='1st Inns','batting_team']=opt\n",
    "            df.loc[df['innings']=='1st Inns','bowling_team']=toss_winner\n",
    "            df.loc[df['innings']=='2nd Inns','batting_team']=toss_winner\n",
    "            df.loc[df['innings']=='2nd Inns','bowling_team']=opt\n",
    "            \n",
    "        #display(df)\n",
    "        df.to_csv(f'files/2023/{file_name}.csv',index=False)\n",
    "    except Exception as e:\n",
    "        print(e)\n",
    "       \n",
    "find_bowling_team('https://www.cricbuzz.com/cricket-full-commentary/66519/kkr-vs-gt-39th-match-indian-premier-league-2023')"
   ]
  },
  {
   "cell_type": "markdown",
   "metadata": {},
   "source": []
  },
  {
   "cell_type": "code",
   "execution_count": 81,
   "metadata": {},
   "outputs": [
    {
     "name": "stdout",
     "output_type": "stream",
     "text": [
      "['https://www.cricbuzz.com/cricket-full-commentary/66169/gt-vs-csk-1st-match-indian-premier-league-2023', 'https://www.cricbuzz.com/cricket-full-commentary/66173/pbks-vs-kkr-2nd-match-indian-premier-league-2023', 'https://www.cricbuzz.com/cricket-full-commentary/66176/lsg-vs-dc-3rd-match-indian-premier-league-2023', 'https://www.cricbuzz.com/cricket-full-commentary/66183/srh-vs-rr-4th-match-indian-premier-league-2023', 'https://www.cricbuzz.com/cricket-full-commentary/66190/rcb-vs-mi-5th-match-indian-premier-league-2023', 'https://www.cricbuzz.com/cricket-full-commentary/66197/csk-vs-lsg-6th-match-indian-premier-league-2023', 'https://www.cricbuzz.com/cricket-full-commentary/66204/dc-vs-gt-7th-match-indian-premier-league-2023', 'https://www.cricbuzz.com/cricket-full-commentary/66208/rr-vs-pbks-8th-match-indian-premier-league-2023', 'https://www.cricbuzz.com/cricket-full-commentary/66211/kkr-vs-rcb-9th-match-indian-premier-league-2023', 'https://www.cricbuzz.com/cricket-full-commentary/66215/lsg-vs-srh-10th-match-indian-premier-league-2023', 'https://www.cricbuzz.com/cricket-full-commentary/66218/rr-vs-dc-11th-match-indian-premier-league-2023', 'https://www.cricbuzz.com/cricket-full-commentary/66225/mi-vs-csk-12th-match-indian-premier-league-2023', 'https://www.cricbuzz.com/cricket-full-commentary/66232/gt-vs-kkr-13th-match-indian-premier-league-2023', 'https://www.cricbuzz.com/cricket-full-commentary/66236/srh-vs-pbks-14th-match-indian-premier-league-2023', 'https://www.cricbuzz.com/cricket-full-commentary/66239/rcb-vs-lsg-15th-match-indian-premier-league-2023', 'https://www.cricbuzz.com/cricket-full-commentary/66243/dc-vs-mi-16th-match-indian-premier-league-2023', 'https://www.cricbuzz.com/cricket-full-commentary/66250/csk-vs-rr-17th-match-indian-premier-league-2023', 'https://www.cricbuzz.com/cricket-full-commentary/66253/pbks-vs-gt-18th-match-indian-premier-league-2023', 'https://www.cricbuzz.com/cricket-full-commentary/66257/kkr-vs-srh-19th-match-indian-premier-league-2023', 'https://www.cricbuzz.com/cricket-full-commentary/66260/rcb-vs-dc-20th-match-indian-premier-league-2023', 'https://www.cricbuzz.com/cricket-full-commentary/66264/lsg-vs-pbks-21st-match-indian-premier-league-2023', 'https://www.cricbuzz.com/cricket-full-commentary/66271/mi-vs-kkr-22nd-match-indian-premier-league-2023', 'https://www.cricbuzz.com/cricket-full-commentary/66274/gt-vs-rr-23rd-match-indian-premier-league-2023', 'https://www.cricbuzz.com/cricket-full-commentary/66278/rcb-vs-csk-24th-match-indian-premier-league-2023', 'https://www.cricbuzz.com/cricket-full-commentary/66285/srh-vs-mi-25th-match-indian-premier-league-2023', 'https://www.cricbuzz.com/cricket-full-commentary/66292/rr-vs-lsg-26th-match-indian-premier-league-2023', 'https://www.cricbuzz.com/cricket-full-commentary/66313/pbks-vs-rcb-27th-match-indian-premier-league-2023', 'https://www.cricbuzz.com/cricket-full-commentary/66330/dc-vs-kkr-28th-match-indian-premier-league-2023', 'https://www.cricbuzz.com/cricket-full-commentary/66351/csk-vs-srh-29th-match-indian-premier-league-2023', 'https://www.cricbuzz.com/cricket-full-commentary/66369/lsg-vs-gt-30th-match-indian-premier-league-2023', 'https://www.cricbuzz.com/cricket-full-commentary/66404/mi-vs-pbks-31st-match-indian-premier-league-2023', 'https://www.cricbuzz.com/cricket-full-commentary/66421/rcb-vs-rr-32nd-match-indian-premier-league-2023', 'https://www.cricbuzz.com/cricket-full-commentary/66435/kkr-vs-csk-33rd-match-indian-premier-league-2023', 'https://www.cricbuzz.com/cricket-full-commentary/66449/srh-vs-dc-34th-match-indian-premier-league-2023', 'https://www.cricbuzz.com/cricket-full-commentary/66470/gt-vs-mi-35th-match-indian-premier-league-2023', 'https://www.cricbuzz.com/cricket-full-commentary/66484/rcb-vs-kkr-36th-match-indian-premier-league-2023', 'https://www.cricbuzz.com/cricket-full-commentary/66502/rr-vs-csk-37th-match-indian-premier-league-2023', 'https://www.cricbuzz.com/cricket-full-commentary/66512/pbks-vs-lsg-38th-match-indian-premier-league-2023', 'https://www.cricbuzz.com/cricket-full-commentary/66519/kkr-vs-gt-39th-match-indian-premier-league-2023', 'https://www.cricbuzz.com/cricket-full-commentary/66526/dc-vs-srh-40th-match-indian-premier-league-2023', 'https://www.cricbuzz.com/cricket-full-commentary/66288/csk-vs-pbks-41st-match-indian-premier-league-2023', 'https://www.cricbuzz.com/cricket-full-commentary/66299/mi-vs-rr-42nd-match-indian-premier-league-2023', 'https://www.cricbuzz.com/cricket-full-commentary/66306/lsg-vs-rcb-43rd-match-indian-premier-league-2023', 'https://www.cricbuzz.com/cricket-full-commentary/66320/gt-vs-dc-44th-match-indian-premier-league-2023', 'https://www.cricbuzz.com/cricket-full-commentary/66337/lsg-vs-csk-45th-match-indian-premier-league-2023', 'https://www.cricbuzz.com/cricket-full-commentary/66327/pbks-vs-mi-46th-match-indian-premier-league-2023', 'https://www.cricbuzz.com/cricket-full-commentary/66344/srh-vs-kkr-47th-match-indian-premier-league-2023', 'https://www.cricbuzz.com/cricket-full-commentary/66348/rr-vs-gt-48th-match-indian-premier-league-2023', 'https://www.cricbuzz.com/cricket-full-commentary/66355/csk-vs-mi-49th-match-indian-premier-league-2023', 'https://www.cricbuzz.com/cricket-full-commentary/66358/dc-vs-rcb-50th-match-indian-premier-league-2023', 'https://www.cricbuzz.com/cricket-full-commentary/66365/gt-vs-lsg-51st-match-indian-premier-league-2023', 'https://www.cricbuzz.com/cricket-full-commentary/66376/rr-vs-srh-52nd-match-indian-premier-league-2023', 'https://www.cricbuzz.com/cricket-full-commentary/66379/kkr-vs-pbks-53rd-match-indian-premier-league-2023', 'https://www.cricbuzz.com/cricket-full-commentary/66386/mi-vs-rcb-54th-match-indian-premier-league-2023', 'https://www.cricbuzz.com/cricket-full-commentary/66393/csk-vs-dc-55th-match-indian-premier-league-2023', 'https://www.cricbuzz.com/cricket-full-commentary/66397/kkr-vs-rr-56th-match-indian-premier-league-2023', 'https://www.cricbuzz.com/cricket-full-commentary/66411/mi-vs-gt-57th-match-indian-premier-league-2023', 'https://www.cricbuzz.com/cricket-full-commentary/66414/srh-vs-lsg-58th-match-indian-premier-league-2023', 'https://www.cricbuzz.com/cricket-full-commentary/66428/dc-vs-pbks-59th-match-indian-premier-league-2023', 'https://www.cricbuzz.com/cricket-full-commentary/66432/rr-vs-rcb-60th-match-indian-premier-league-2023', 'https://www.cricbuzz.com/cricket-full-commentary/66442/csk-vs-kkr-61st-match-indian-premier-league-2023', 'https://www.cricbuzz.com/cricket-full-commentary/66446/gt-vs-srh-62nd-match-indian-premier-league-2023', 'https://www.cricbuzz.com/cricket-full-commentary/66453/lsg-vs-mi-63rd-match-indian-premier-league-2023', 'https://www.cricbuzz.com/cricket-full-commentary/66460/pbks-vs-dc-64th-match-indian-premier-league-2023', 'https://www.cricbuzz.com/cricket-full-commentary/66467/srh-vs-rcb-65th-match-indian-premier-league-2023', 'https://www.cricbuzz.com/cricket-full-commentary/66477/pbks-vs-rr-66th-match-indian-premier-league-2023', 'https://www.cricbuzz.com/cricket-full-commentary/66481/dc-vs-csk-67th-match-indian-premier-league-2023', 'https://www.cricbuzz.com/cricket-full-commentary/66488/kkr-vs-lsg-68th-match-indian-premier-league-2023', 'https://www.cricbuzz.com/cricket-full-commentary/66495/mi-vs-srh-69th-match-indian-premier-league-2023', 'https://www.cricbuzz.com/cricket-full-commentary/66505/rcb-vs-gt-70th-match-indian-premier-league-2023', 'https://www.cricbuzz.com/cricket-full-commentary/69557/gt-vs-csk-qualifier-1-indian-premier-league-2023', 'https://www.cricbuzz.com/cricket-full-commentary/69561/lsg-vs-mi-eliminator-indian-premier-league-2023', 'https://www.cricbuzz.com/cricket-full-commentary/69568/gt-vs-mi-qualifier-2-indian-premier-league-2023', 'https://www.cricbuzz.com/cricket-full-commentary/69575/csk-vs-gt-final-indian-premier-league-2023', 'https://www.cricbuzz.com/cricket-full-commentary/72622/csk-vs-gt-final-reserve-day-indian-premier-league-2023']\n"
     ]
    },
    {
     "name": "stderr",
     "output_type": "stream",
     "text": [
      "100%|██████████| 75/75 [00:00<00:00, 98.93it/s] "
     ]
    },
    {
     "name": "stdout",
     "output_type": "stream",
     "text": [
      "'Toss_winner'\n"
     ]
    },
    {
     "name": "stderr",
     "output_type": "stream",
     "text": [
      "\n"
     ]
    }
   ],
   "source": [
    "#gt-vs-csk-1st-match-indian-premier-league-2023\n",
    "#mi-vs-rcb-1st-match-indian-premier-league-2021\n",
    "links=[]\n",
    "with open('match_links/2023_season_match_links.txt','r') as file:\n",
    "    for line in file:\n",
    "        links.append(line.strip())\n",
    "print(links)\n",
    "for i in tqdm(links):\n",
    "    #print(i)\n",
    "    find_bowling_team(i)"
   ]
  },
  {
   "cell_type": "code",
   "execution_count": 41,
   "metadata": {},
   "outputs": [
    {
     "data": {
      "text/plain": [
       "'https://www.cricbuzz.com/cricket-full-commentary/66225/mi-vs-csk-12th-match-indian-premier-league-2023'"
      ]
     },
     "execution_count": 41,
     "metadata": {},
     "output_type": "execute_result"
    }
   ],
   "source": [
    "links[11]"
   ]
  },
  {
   "cell_type": "code",
   "execution_count": null,
   "metadata": {},
   "outputs": [],
   "source": []
  }
 ],
 "metadata": {
  "kernelspec": {
   "display_name": "base",
   "language": "python",
   "name": "python3"
  },
  "language_info": {
   "codemirror_mode": {
    "name": "ipython",
    "version": 3
   },
   "file_extension": ".py",
   "mimetype": "text/x-python",
   "name": "python",
   "nbconvert_exporter": "python",
   "pygments_lexer": "ipython3",
   "version": "3.9.12"
  },
  "orig_nbformat": 4
 },
 "nbformat": 4,
 "nbformat_minor": 2
}
